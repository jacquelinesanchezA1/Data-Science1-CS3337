import numpy as np
import pandas as pd

import matplotlib.pyplot as plt
import seaborn as sns
from matplotlib import rcParams


rcParams['figure.figsize'] = 8, 5
sns.set_style('darkgrid')


# Loading the dataset
cars_df = pd.read_csv('car_data.csv')

# Displaying the first 5 rows
cars_df.head()


# Gerneral stats
general_info = cars_df.describe()
general_info.head(n=100)


### WRITE YOUR CODE HERE, WHICH SHOULD REPRODUCE THE BELOW IF DONE CORRECTLY ###
cars_df.info()


# Extract company names and create a new column
cars_df['car_company'] = cars_df['CarName'].apply(lambda x: x.split(' ')[0].lower())

# Display unique company names
print('The The unique companies in our dataset are:')
print(cars_df['car_company'].unique())


# Replace misspelled company names
cars_df['car_company'] = cars_df['car_company'].replace({
                        "toyouta" : "toyota", 
                        "porcshce" : "porsche", 
                        "maxda" : "mazda", 
                        "vokswagen" : "volkswagen",
                        "vw" : "volkswagen"})

# Transform company names to lowercase and take the first word
cars_df['car_company'] = cars_df['car_company'].apply(lambda x: x.split(' ')[0].lower())

# Display unique company names
print('The unique companies in our dataset are:')
print(cars_df['car_company'].unique())



# Creating subplots

# plot 1 
fig, axes = plt.subplots(1, 2, figsize=(20, 8))

# Plotting the unique company names on the x-axis, and the value counts on the y-axis
company_counts = cars_df['car_company'].value_counts().sort_values(ascending=False)
sns.barplot(ax=axes[0], x=company_counts.index, y=company_counts.values, palette='rainbow')

# Adding text labels on each bar
for i, (company, count) in enumerate(company_counts.items()):
    axes[0].text(i, count, str(count), color='black', ha="center")

axes[0].set_xlabel('CompanyName')
axes[0].set_ylabel('Count')
axes[0].set_title('Company Counts')
axes[0].tick_params(axis='x', rotation=90) # for each car company name 




# plot 2 
# Plotting the unique car bodys on the x-axis and value counts on the y-axis
car_body_counts = cars_df['carbody'].value_counts().sort_values(ascending=False)
sns.barplot(ax=axes[1], x=car_body_counts.index, y=car_body_counts.values, palette='Pastel2')

# Adding text labels on each bar
for i, (car_body, count) in enumerate(car_body_counts.items()):
    axes[1].text(i, count, str(count), color='black', ha="center")

axes[1].set_xlabel('Car Body')
axes[1].set_ylabel('Count')
axes[1].set_title('Car Body Counts')
axes[1].tick_params(axis='x', rotation= False) # for the name for each body type

plt.tight_layout()
plt.show()


sns.countplot(x = cars_df['car_company'], data = cars_df, order = cars_df['car_company'].value_counts().index)
plt.xticks(rotation = 90)
plt.show


# Creating subplots

# plot 1 
fig, axes = plt.subplots(1, 2, figsize=(20, 8))

# Plotting the unique company names on the x-axis, and the value counts on the y-axis
company_counts = cars_df['car_company'].value_counts().sort_values(ascending=False)
sns.barplot(ax=axes[0], x=company_counts.index, y=company_counts.values, palette='rainbow')

# Adding text labels on each bar
for i, (company, count) in enumerate(company_counts.items()):
    axes[0].text(i, count, str(count), color='black', ha="center")

axes[0].set_xlabel('CompanyName')
axes[0].set_ylabel('Count')
axes[0].set_title('Company Counts')
axes[0].tick_params(axis='x', rotation=90) # for each car company name 




# plot 2 
# Plotting the unique car bodys on the x-axis and value counts on the y-axis
car_body_counts = cars_df['carbody'].value_counts().sort_values(ascending=False)
sns.barplot(ax=axes[1], x=car_body_counts.index, y=car_body_counts.values, palette='Pastel2')

# Adding text labels on each bar
for i, (car_body, count) in enumerate(car_body_counts.items()):
    axes[1].text(i, count, str(count), color='black', ha="center")

axes[1].set_xlabel('Car Body')
axes[1].set_ylabel('Count')
axes[1].set_title('Car Body Counts')
axes[1].tick_params(axis='x', rotation= False) # for the name for each body type

plt.tight_layout()
plt.show()


import numpy as np
import seaborn as sns
import matplotlib.pyplot as plt

# Calculate mean price and standard deviation for each company name
company_price_stats = cars_df.groupby('car_company')['price'].agg(['mean', 'std'])
company_price_stats = company_price_stats.sort_values(by='mean', ascending=False)

# Calculate mean price and standard deviation for each car body type
body_price_stats = cars_df.groupby('carbody')['price'].agg(['mean', 'std'])
body_price_stats = body_price_stats.sort_values(by='mean', ascending=False)

# Creating subplots
fig, axes = plt.subplots(1, 2, figsize=(20, 8))

# Plot 1: Company Name vs Price
sns.barplot(ax=axes[0], x=company_price_stats.index, y=company_price_stats['mean'], 
            palette='rainbow', yerr=company_price_stats['std'])
axes[0].set_xlabel('Company Name')
axes[0].set_ylabel('Price')
axes[0].set_title('Company Name vs Price')
axes[0].tick_params(axis='x', rotation=90)

# Plot 2: Body Type vs Price
sns.barplot(ax=axes[1], x=body_price_stats.index, y=body_price_stats['mean'], 
            palette='Pastel2', yerr=body_price_stats['std'])
axes[1].set_xlabel('Body Type')
axes[1].set_ylabel('Price')
axes[1].set_title('Body Type vs Price')
axes[1].tick_params(axis='x', rotation=0)

plt.tight_layout()
plt.show()



### WRITE YOUR CODE HERE, WHICH SHOULD REPRODUCE THE BELOW IF DONE CORRECTLY ###
import seaborn as sns
import matplotlib.pyplot as plt

# Set up the figure and axes
fig, axes = plt.subplots(1, 2, figsize=(15, 6))

# Plot 1: Barplot
sorted_symboling = cars_df['symboling'].value_counts().sort_index()
sns.barplot(x=sorted_symboling.index, y=sorted_symboling.values, ax=axes[0])
axes[0].set_xticklabels(axes[0].get_xticklabels(), rotation=90)
axes[0].set_xlabel('Symboling')
axes[0].set_ylabel('Count')
axes[0].set_title('Symboling Counts')

# Plot 2: Boxplot
sns.boxplot(x=cars_df['symboling'], y=cars_df['price'], ax=axes[1])
axes[1].set_xlabel('Symboling')
axes[1].set_ylabel('Price')
axes[1].set_title('Symboling vs Price')

# Adjust layout
plt.tight_layout()

# Show the plot
plt.show()



sns.countplot(x = cars_df['symboling'], data = cars_df, order = cars_df['symboling'].value_counts().index)
plt.xticks(rotation = 90)
plt.show


import seaborn as sns
import matplotlib.pyplot as plt

sorted_symboling = cars_df['symboling'].value_counts().sort_index()
sns.barplot(x=sorted_symboling.index, y=sorted_symboling.values)
plt.xticks(rotation=90)
plt.xlabel('symboling')
plt.ylabel('count')
plt.title('Symboling Counts')
plt.show()






import seaborn as sns
import matplotlib.pyplot as plt

# Creating the boxplot
plt.figure(figsize=(10, 6))
sns.boxplot(x=cars_df['symboling'], y=cars_df['price'],)

# Adding labels and title
plt.xlabel('Symboling')
plt.ylabel('Price')
plt.title('Symboling vs Price')

# Show the plot
plt.show()



### WRITE YOUR CODE HERE, WHICH SHOULD REPRODUCE THE BELOW IF DONE CORRECTLY ###

# Set up the figure and axes
fig, axes = plt.subplots(1, 2, figsize=(15, 6))

# Plot 1: Barplot
# Plot 1: Barplot with sorted x-axis values
engine_type_counts = cars_df['enginetype'].value_counts()
engine_type_counts_sorted = engine_type_counts.sort_values(ascending=False)  # Sort by count
sns.barplot(x=engine_type_counts_sorted.index, y=engine_type_counts_sorted.values, ax=axes[0])
axes[0].set_xticklabels(axes[0].get_xticklabels(), rotation=0)
axes[0].set_xlabel('Engine Type')
axes[0].set_ylabel('Count')
axes[0].set_title('Engine Type Counts')

# Plot 2: Boxplot
sns.boxplot(x=cars_df['enginetype'], y=cars_df['price'], ax=axes[1])
axes[1].set_xlabel('Symboling')
axes[1].set_ylabel('Price')
axes[1].set_title('Engine Type vs Price')

# Adjust layout
plt.tight_layout()

# Show the plot
plt.show()


### WRITE YOUR CODE HERE, WHICH SHOULD REPRODUCE THE BELOW IF DONE CORRECTLY ###
### WRITE YOUR CODE HERE, WHICH SHOULD REPRODUCE THE BELOW IF DONE CORRECTLY ###

# Set up the figure and axes
fig, axes = plt.subplots(1, 2, figsize=(15, 6))

# Plot 1: Barplot
# Plot 1: Barplot with sorted x-axis values
engine_type_counts = cars_df['cylindernumber'].value_counts()
engine_type_counts_sorted = engine_type_counts.sort_values(ascending=False)  # Sort by count
sns.barplot(x=engine_type_counts_sorted.index, y=engine_type_counts_sorted.values, ax=axes[0])
axes[0].set_xticklabels(axes[0].get_xticklabels(), rotation=0)
axes[0].set_xlabel('Engine Type')
axes[0].set_ylabel('Count')
axes[0].set_title('Engine Type Counts')

# Plot 2: Boxplot
sns.boxplot(x=cars_df['cylindernumber'], y=cars_df['price'], ax=axes[1])
axes[1].set_xlabel('Symboling')
axes[1].set_ylabel('Price')
axes[1].set_title('Symboling vs Price')

# Adjust layout
plt.tight_layout()

# Show the plot
plt.show()


import matplotlib.pyplot as plt
import seaborn as sns

# Set up the figure and axes
fig, axes = plt.subplots(1, 2, figsize=(15, 6))

# Plot 1: Barplot
# Plot 1: Barplot with sorted x-axis values
engine_type_counts = cars_df['cylindernumber'].value_counts()
engine_type_counts_sorted = engine_type_counts.sort_index()  # Sort by index (which represents the x-axis labels)
sns.barplot(x=engine_type_counts_sorted.index, y=engine_type_counts_sorted.values, ax=axes[0])
axes[0].set_xticklabels(engine_type_counts_sorted.index, rotation=0)  # Set x-axis labels to match sorted order
axes[0].set_xlabel('Engine Type')
axes[0].set_ylabel('Count')
axes[0].set_title('Engine Type Counts')

# Plot 2: Boxplot
sns.boxplot(x=cars_df['cylindernumber'], y=cars_df['price'], ax=axes[1])
axes[1].set_xlabel('Symboling')
axes[1].set_ylabel('Price')
axes[1].set_title('Symboling vs Price')

# Adjust layout
plt.tight_layout()

# Show the plot
plt.show()




########################  THIS ONE!!!!!! 


import matplotlib.pyplot as plt
import seaborn as sns

# Define the mapping of x-axis labels to numerical values
label_mapping = {
    'two': 2,
    'three': 3,
    'four': 4,
    'five':5, 
    'six':6, 
    'eight':8
}

# Sort the labels based on their numerical values
sorted_labels = sorted(label_mapping, key=label_mapping.get)

# Set up the figure and axes
fig, axes = plt.subplots(1, 2, figsize=(15, 6))

# Plot 1: Barplot
# Plot 1: Barplot with sorted x-axis values
engine_type_counts = cars_df['cylindernumber'].value_counts()
engine_type_counts_sorted = engine_type_counts.reindex(sorted_labels)  # Reindex based on sorted labels
sns.barplot(x=engine_type_counts_sorted.index, y=engine_type_counts_sorted.values, ax=axes[0])
axes[0].set_xticklabels(axes[0].get_xticklabels(), rotation=0)
axes[0].set_xlabel('cylindernumber')
axes[0].set_ylabel('Count')
axes[0].set_title('Cylinder Type Counts')

# Plot 2: Boxplot
sns.boxplot(x=cars_df['cylindernumber'], y=cars_df['price'], order=sorted_labels, ax=axes[1])  # Use order parameter to specify the order of x-axis labels
axes[1].set_xlabel('cylindernumber')
axes[1].set_ylabel('Price')
axes[1].set_title('Cylinder Type vs Price')
 
# Adjust layout
plt.tight_layout()

# Show the plot
plt.show()



# company_counts = cars_df['car_company'].value_counts().sort_values(ascending=False)
# sns.barplot(ax=axes[0], x=company_counts.index, y=company_counts.values, palette='rainbow')
import matplotlib.pyplot as plt
import seaborn as sns

# Set up the figure and axes
fig, axes = plt.subplots(1, 2, figsize=(15, 6))

# Plot 1: Barplot of fuelsystem value counts
sns.countplot(x='fuelsystem', data=cars_df, ax=axes[0])
axes[0].set_xlabel('Fuel System')
axes[0].set_ylabel('Count')
axes[0].set_title('Fuel System Value Counts')

# Plot 2: Boxplot of fuelsystem vs price
sns.boxplot(x='fuelsystem', y='price', data=cars_df, ax=axes[1])
axes[1].set_xlabel('Fuel System')
axes[1].set_ylabel('Price')
axes[1].set_title('Fuel System vs Price')

# Adjust layout
plt.tight_layout()

# Show the plot
plt.show()




### WRITE YOUR CODE HERE, WHICH SHOULD REPRODUCE THE BELOW IF DONE CORRECTLY ###
import matplotlib.pyplot as plt
import seaborn as sns

# Set up the figure and axes
fig, axes = plt.subplots(1, 2, figsize=(15, 6))

# Plot 1: Barplot of drivewheel value counts
sns.countplot(x='drivewheel', data=cars_df, ax=axes[0])
axes[0].set_xlabel('Drive Wheel')
axes[0].set_ylabel('Count')
axes[0].set_title('Drive Wheel Value Counts')

# Plot 2: Boxplot of drivewheel vs price
sns.boxplot(x='drivewheel', y='price', data=cars_df, ax=axes[1])
axes[1].set_xlabel('Drive Wheel')
axes[1].set_ylabel('Price')
axes[1].set_title('Drive Wheel vs Price')

# Adjust layout
plt.tight_layout()

# Show the plot
plt.show()



### WRITE YOUR CODE HERE, WHICH SHOULD REPRODUCE THE BELOW IF DONE CORRECTLY ###
import matplotlib.pyplot as plt
import seaborn as sns

# Set up the figure and axes
fig, axes = plt.subplots(1, 2, figsize=(15, 6))

# Plot 1: Barplot of enginelocation value counts
sns.countplot(x='enginelocation', data=cars_df, ax=axes[0])
axes[0].set_xlabel('Engine Location')
axes[0].set_ylabel('Count')
axes[0].set_title('Engine Location Value Counts')

# Plot 2: Boxplot of enginelocation vs price
sns.boxplot(x='enginelocation', y='price', data=cars_df, ax=axes[1])
axes[1].set_xlabel('Engine Location')
axes[1].set_ylabel('Price')
axes[1].set_title('Engine Location vs Price')

# Adjust layout
plt.tight_layout()

# Show the plot
plt.show()



### WRITE YOUR CODE HERE, WHICH SHOULD REPRODUCE THE BELOW IF DONE CORRECTLY ###
import matplotlib.pyplot as plt
import seaborn as sns

# Set up the figure and axes
fig, axes = plt.subplots(1, 2, figsize=(15, 6))

# Plot 1: Barplot of fueltype value counts
sns.countplot(x='fueltype', data=cars_df, ax=axes[0])
axes[0].set_xlabel('Fuel Type')
axes[0].set_ylabel('Count')
axes[0].set_title('Fuel Type Value Counts')

# Plot 2: Boxplot of fueltype vs price
sns.boxplot(x='fueltype', y='price', data=cars_df, ax=axes[1])
axes[1].set_xlabel('Fuel Type')
axes[1].set_ylabel('Price')
axes[1].set_title('Fuel Type vs Price')

# Adjust layout
plt.tight_layout()

# Show the plot
plt.show()



### WRITE YOUR CODE HERE, WHICH SHOULD REPRODUCE THE BELOW IF DONE CORRECTLY ###
import matplotlib.pyplot as plt
import seaborn as sns

# Set up the figure and axes
fig, axes = plt.subplots(1, 2, figsize=(15, 6))

# Plot 1: Barplot of doornumber value counts
sns.countplot(x='doornumber', data=cars_df, ax=axes[0])
axes[0].set_xlabel('Door Number')
axes[0].set_ylabel('Count')
axes[0].set_title('Door Number Value Counts')

# Plot 2: Boxplot of doornumber vs price
sns.boxplot(x='doornumber', y='price', data=cars_df, ax=axes[1])
axes[1].set_xlabel('Door Number')
axes[1].set_ylabel('Price')
axes[1].set_title('Door Number vs Price')

# Adjust layout
plt.tight_layout()

# Show the plot
plt.show()



### WRITE YOUR CODE HERE, WHICH SHOULD REPRODUCE THE BELOW IF DONE CORRECTLY ###
import matplotlib.pyplot as plt
import seaborn as sns

# Set up the figure and axes
fig, axes = plt.subplots(1, 2, figsize=(15, 6))

# Plot 1: Barplot of aspiration value counts
sns.countplot(x='aspiration', data=cars_df, ax=axes[0])
axes[0].set_xlabel('Aspiration')
axes[0].set_ylabel('Count')
axes[0].set_title('Aspiration Value Counts')

# Plot 2: Boxplot of aspiration vs price
sns.boxplot(x='aspiration', y='price', data=cars_df, ax=axes[1])
axes[1].set_xlabel('Aspiration')
axes[1].set_ylabel('Price')
axes[1].set_title('Aspiration vs Price')

# Adjust layout
plt.tight_layout()

# Show the plot
plt.show()



### WRITE YOUR CODE HERE, WHICH SHOULD REPRODUCE THE BELOW IF DONE CORRECTLY ###
import matplotlib.pyplot as plt
import seaborn as sns

# Set up the figure and axes
fig, axes = plt.subplots(1, 2, figsize=(15, 6))

# Plot 1: Price distribution using distplot
sns.distplot(cars_df['price'], ax=axes[0], kde=False)
axes[0].set_xlabel('Price')
axes[0].set_ylabel('Frequency')
axes[0].set_title('Price Distribution')

# Plot 2: Box plot of price
sns.boxplot(x='price', data=cars_df, ax=axes[1])
axes[1].set_xlabel('Price')
axes[1].set_title('Box Plot of Price')

# Adjust layout
plt.tight_layout()

# Show the plot
plt.show()



import matplotlib.pyplot as plt
import seaborn as sns

# Set up the figure and axes
fig, axes = plt.subplots(1, 2, figsize=(15, 6))

# Plot 1: Price distribution using distplot
sns.distplot(cars_df['price'], ax=axes[0], kde=False)
axes[0].set_xlim(0, 50000)  # Set x-axis limits
axes[0].set_xticks(range(0, 50001, 10000))  # Set x-axis ticks at intervals of 10000
axes[0].set_xlabel('Price')
axes[0].set_ylabel('Frequency')
axes[0].set_title('Price Distribution')
# plt.errorbar(x=company_stats_sorted['car_company'], y=company_stats_sorted['mean'], yerr=company_stats_sorted['std'], fmt='none', color='black', capsize=0, capthick=1)





# Plot 2: Box plot of price
sns.boxplot(x='price', data=cars_df, ax=axes[1])
axes[1].set_xlim(0, 50000)  # Set x-axis limits
axes[1].set_xticks(range(0, 50001, 10000))  # Set x-axis ticks at intervals of 10000
axes[1].set_xlabel('Price')
axes[1].set_title('Box Plot of Price')







# Adjust layout
plt.tight_layout()

# Show the plot
plt.show()






import matplotlib.pyplot as plt
import seaborn as sns
import numpy as np
from scipy.interpolate import UnivariateSpline

# Set up the figure and axes
fig, axes = plt.subplots(1, 2, figsize=(15, 6))

# Plot 1: Price distribution using histplot
counts, bins, patches = axes[0].hist(cars_df['price'], bins=30, edgecolor='black')
bin_centers = 0.5 * (bins[:-1] + bins[1:])
# Simulated error bars: assuming a Poisson distribution for counts, standard deviation is sqrt(counts)
errors = np.sqrt(counts)

# Plot the histogram and error bars
axes[0].errorbar(bin_centers, counts, yerr=errors, fmt='none', ecolor='black', elinewidth=1, capsize=5)

# Fit a spline to the histogram counts
spline = UnivariateSpline(bin_centers, counts)
x_spline = np.linspace(bin_centers.min(), bin_centers.max(), 500)
y_spline = spline(x_spline)

# Plot the fitted spline curve
axes[0].plot(x_spline, y_spline, color='red', linestyle='-')

axes[0].set_xlim(0, 50000)
axes[0].set_xticks(range(0, 50001, 10000))
axes[0].set_xlabel('Price')
axes[0].set_ylabel('Frequency')
axes[0].set_title('Price Distribution with Error Bars')

# Plot 2: Box plot of price
sns.boxplot(x=cars_df['price'], ax=axes[1])
axes[1].set_xlim(0, 50000)
axes[1].set_xticks(range(0, 50001, 10000))
axes[1].set_xlabel('Price')
axes[1].set_title('Box Plot of Price')

# Adjust layout
plt.tight_layout()

# Show the plot
plt.show()



import matplotlib.pyplot as plt
import seaborn as sns

# Set up the figure and axes
fig, axes = plt.subplots(1, 2, figsize=(15, 6))

# Plot 1: Price distribution using distplot
sns.distplot(cars_df['price'], ax=axes[0], kde=False)
axes[0].set_xlim(0, 50000)  # Set x-axis limits
axes[0].set_xticks(range(0, 50001, 10000))  # Set x-axis ticks at intervals of 10000
axes[0].set_xlabel('Price')
axes[0].set_ylabel('Frequency')
axes[0].set_title('Price Distribution')

# Add regression line above the bars
sns.regplot(x=cars_df['price'], y=np.zeros_like(cars_df['price']), ax=axes[0], scatter=False, color='red')

# Plot 2: Box plot of price
sns.boxplot(x='price', data=cars_df, ax=axes[1])
axes[1].set_xlim(0, 50000)  # Set x-axis limits
axes[1].set_xticks(range(0, 50001, 10000))  # Set x-axis ticks at intervals of 10000
axes[1].set_xlabel('Price')
axes[1].set_title('Box Plot of Price')

# Adjust layout
plt.tight_layout()

# Show the plot
plt.show()



import matplotlib.pyplot as plt
import seaborn as sns
import numpy as np

# Set up the figure and axes
fig, axes = plt.subplots(1, 2, figsize=(15, 6))

# Plot 1: Price distribution using KDE plot and bars
sns.histplot(cars_df['price'], ax=axes[0], kde=True, color='lightblue', bins=30)
axes[0].set_xlim(0, 50000)  # Set x-axis limits
axes[0].set_ylim(0)  # Ensure y-axis starts from 0
axes[0].set_xlabel('Price')
axes[0].set_ylabel('Frequency')
axes[0].set_title('Price Distribution')

# Add loess curve (regression line)
sns.regplot(x=cars_df['price'], y=np.zeros_like(cars_df['price']), ax=axes[0], scatter=False, lowess=True, line_kws={'color': 'red'})

# Plot 2: Box plot of price
sns.boxplot(x='price', data=cars_df, ax=axes[1])
axes[1].set_xlim(0, 50000)  # Set x-axis limits
axes[1].set_xticks(range(0, 50001, 10000))  # Set x-axis ticks at intervals of 10000
axes[1].set_xlabel('Price')
axes[1].set_title('Box Plot of Price')

# Adjust layout
plt.tight_layout()

# Show the plot
plt.show()



import matplotlib.pyplot as plt
import seaborn as sns
import numpy as np

# Set up the figure and axes
fig, axes = plt.subplots(1, 2, figsize=(15, 6))

# Plot 1: Price distribution using KDE plot and bars
# Plot 1: Price distribution using distplot
sns.distplot(cars_df['price'], ax=axes[0], kde=False)
axes[0].set_xlim(0, 50000)  # Set x-axis limits
axes[0].set_xticks(range(0, 50001, 10000))  # Set x-axis ticks at intervals of 10000
axes[0].set_xlabel('Price')
axes[0].set_ylabel('Frequency')
axes[0].set_title('Price Distribution')

# Add loess curve (regression line)
sns.regplot(x=cars_df['price'], y=np.zeros_like(cars_df['price']), ax=axes[0], scatter=False, lowess=False, line_kws={'color': 'red'})

# Plot 2: Box plot of price
sns.boxplot(x='price', data=cars_df, ax=axes[1])
axes[1].set_xlim(0, 50000)  # Set x-axis limits
axes[1].set_xticks(range(0, 50001, 10000))  # Set x-axis ticks at intervals of 10000
axes[1].set_xlabel('Price')
axes[1].set_title('Box Plot of Price')

# Adjust layout
plt.tight_layout()

# Show the plot
plt.show()



import matplotlib.pyplot as plt
import seaborn as sns

# Set up the figure and axes
fig, axes = plt.subplots(1, 2, figsize=(15, 6))

# Plot 1: Price distribution using distplot
sns.distplot(cars_df['price'], ax=axes[0], kde=False)
axes[0].set_xlim(0, 50000)  # Set x-axis limits
axes[0].set_xticks(range(0, 50001, 10000))  # Set x-axis ticks at intervals of 10000
axes[0].set_xlabel('Price')
axes[0].set_ylabel('Frequency')
axes[0].set_title('Price Distribution')
# plt.errorbar(x=company_stats_sorted['car_company'], y=company_stats_sorted['mean'], yerr=company_stats_sorted['std'], fmt='none', color='black', capsize=0, capthick=1)





# Plot 2: Box plot of price
sns.boxplot(x='price', data=cars_df, ax=axes[1])
axes[1].set_xlim(0, 50000)  # Set x-axis limits
axes[1].set_xticks(range(0, 50001, 10000))  # Set x-axis ticks at intervals of 10000
axes[1].set_xlabel('Price')
axes[1].set_title('Box Plot of Price')







# Adjust layout
plt.tight_layout()

# Show the plot
plt.show()



import seaborn as sns
import matplotlib.pyplot as plt

# Generate some sample data
data = sns.load_dataset('iris')

# Create a combined histogram and KDE plot
sns.distplot(data['petal_length'], bins=10, kde=True)

# Show the plot
plt.show()



import matplotlib.pyplot as plt
import seaborn as sns

# Set up the figure and axes
fig, axes = plt.subplots(1, 2, figsize=(15, 6))

# Plot 1: Price distribution using histplot and kdeplot
sns.histplot(cars_df['price'], ax=axes[0], kde=True, bins=14)
axes[0].set_xlim(-10000, 50000)  # Set x-axis limits
axes[0].set_xticks(range(0, 50001, 10000))  # Set x-axis ticks at intervals of 10000
axes[0].set_xlabel('Price')
axes[0].set_ylabel('Frequency')
axes[0].set_title('Price Distribution')

# Plot 2: Box plot of price
sns.boxplot(x='price', data=cars_df, ax=axes[1])
axes[1].set_xlim(0, 50000)  # Set x-axis limits
axes[1].set_xticks(range(0, 50001, 10000))  # Set x-axis ticks at intervals of 10000
axes[1].set_xlabel('Price')
axes[1].set_title('Box Plot of Price')

# Adjust layout
plt.tight_layout()

# Show the plot
plt.show()



import matplotlib.pyplot as plt
import seaborn as sns

# Set up the figure and axes
fig, axes = plt.subplots(1, 2, figsize=(15, 6))

# Plot 1: Price distribution using histplot and kdeplot
sns.histplot(cars_df['price'], ax=axes[0], kde=True, bins=10)
axes[0].set_xlim(0, 50000)  # Set x-axis limits
axes[0].set_xticks(range(0, 50001, 10000))  # Set x-axis ticks at intervals of 10000
axes[0].set_xlabel('Price')
axes[0].set_ylabel('Frequency')
axes[0].set_title('Price Distribution')

# Plot 2: Box plot of price
sns.boxplot(x='price', data=cars_df, ax=axes[1])
axes[1].set_xlim(0, 50000)  # Set x-axis limits
axes[1].set_xticks(range(0, 50001, 10000))  # Set x-axis ticks at intervals of 10000
axes[1].set_xlabel('Price')
axes[1].set_title('Box Plot of Price')

# Adjust layout
plt.tight_layout()

# Show the plot
plt.show()



import matplotlib.pyplot as plt
import seaborn as sns

# Set up the figure and axes
fig, axes = plt.subplots(1, 2, figsize=(15, 6))

# Plot 1: Price distribution using histplot and kdeplot
sns.histplot(cars_df['price'], ax=axes[0], kde=True, bins=14, common_norm=True)
axes[0].set_xlim(0, 50000)  # Set x-axis limits
axes[0].set_xticks(range(0, 50001, 10000))  # Set x-axis ticks at intervals of 10000
axes[0].set_xlabel('Price')
axes[0].set_ylabel('Frequency')
axes[0].set_title('Price Distribution')

# Plot 2: Box plot of price
sns.boxplot(x='price', data=cars_df, ax=axes[1])
axes[1].set_xlim(0, 50000)  # Set x-axis limits
axes[1].set_xticks(range(0, 50001, 10000))  # Set x-axis ticks at intervals of 10000
axes[1].set_xlabel('Price')
axes[1].set_title('Box Plot of Price')

# Adjust layout
plt.tight_layout()

# Show the plot
plt.show()



import matplotlib.pyplot as plt
import seaborn as sns

# Assuming `cars_df` is your DataFrame containing the relevant data

# Set up the figure and axes
fig, axes = plt.subplots(2, 2, figsize=(15, 12))

# Plot 1: Scatter plot of carlength vs price with regression line
sns.regplot(x='carlength', y='price', data=cars_df, ax=axes[0, 0], scatter_kws={'color': 'blue'}, line_kws={'color': 'blue'})
axes[0, 0].set_xlabel('Car Length')
axes[0, 0].set_ylabel('Price')
axes[0, 0].set_title('Car Length vs Price')

# Plot 2: Scatter plot of carwidth vs price with regression line
sns.regplot(x='carwidth', y='price', data=cars_df, ax=axes[0, 1], scatter_kws={'color': 'orange'}, line_kws={'color': 'orange'})
axes[0, 1].set_xlabel('Car Width')
axes[0, 1].set_ylabel('Price')
axes[0, 1].set_title('Car Width vs Price')

# Plot 3: Scatter plot of carheight vs price with regression line
sns.regplot(x='carheight', y='price', data=cars_df, ax=axes[1, 0], scatter_kws={'color': 'green'}, line_kws={'color': 'green'})
axes[1, 0].set_xlabel('Car Height')
axes[1, 0].set_ylabel('Price')
axes[1, 0].set_title('Car Height vs Price')

# Plot 4: Scatter plot of carweight vs price with regression line
sns.regplot(x='curbweight', y='price', data=cars_df, ax=axes[1, 1], scatter_kws={'color': 'red'}, line_kws={'color': 'red'})
axes[1, 1].set_xlabel('Car Weight')
axes[1, 1].set_ylabel('Price')
axes[1, 1].set_title('Car Weight vs Price')

# Adjust layout
plt.tight_layout()

# Show the plot
plt.show()



import matplotlib.pyplot as plt
import seaborn as sns

# Assuming `cars_df` is your DataFrame containing the relevant data

# Set up the figure and axes
fig, axes = plt.subplots(2, 2, figsize=(15, 12))

# Plot 1: Scatter plot of carlength vs price with regression line
sns.regplot(x='carlength', y='price', data=cars_df, ax=axes[0, 0], scatter_kws={'color': 'blue', 's': 100, 'alpha': 0.7}, line_kws={'color': 'blue'})
axes[0, 0].set_xlabel('Car Length')
axes[0, 0].set_ylabel('Price')
axes[0, 0].set_title('Car Length vs Price')

# Plot 2: Scatter plot of carwidth vs price with regression line
sns.regplot(x='carwidth', y='price', data=cars_df, ax=axes[0, 1], scatter_kws={'color': 'orange', 's': 100, 'alpha': 0.7}, line_kws={'color': 'orange'})
axes[0, 1].set_xlabel('Car Width')
axes[0, 1].set_ylabel('Price')
axes[0, 1].set_title('Car Width vs Price')

# Plot 3: Scatter plot of carheight vs price with regression line
sns.regplot(x='carheight', y='price', data=cars_df, ax=axes[1, 0], scatter_kws={'color': 'green', 's': 100, 'alpha': 0.7}, line_kws={'color': 'green'})
axes[1, 0].set_xlabel('Car Height')
axes[1, 0].set_ylabel('Price')
axes[1, 0].set_title('Car Height vs Price')

# Plot 4: Scatter plot of carweight vs price with regression line
sns.regplot(x='carweight', y='price', data=cars_df, ax=axes[1, 1], scatter_kws={'color': 'red', 's': 100, 'alpha': 0.7}, line_kws={'color': 'red'})
axes[1, 1].set_xlabel('Car Weight')
axes[1, 1].set_ylabel('Price')
axes[1, 1].set_title('Car Weight vs Price')

# Adjust layout
plt.tight_layout()

# Show the plot
plt.show()



import matplotlib.pyplot as plt
import seaborn as sns

# Assuming `cars_df` is your DataFrame containing the relevant data

# Set up the figure and axes
fig, axes = plt.subplots(2, 2, figsize=(15, 12))

# Plot 1: Scatter plot of carlength vs price with regression line
sns.regplot(x='carlength', y='price', data=cars_df, ax=axes[0, 0], scatter_kws={'color': 'blue', 's': 50, 'alpha': 0.7}, line_kws={'color': 'blue'})
axes[0, 0].set_xlabel('Car Length')
axes[0, 0].set_ylabel('Price')
axes[0, 0].set_title('Car Length vs Price')

# Plot 2: Scatter plot of carwidth vs price with regression line
sns.regplot(x='carwidth', y='price', data=cars_df, ax=axes[0, 1], scatter_kws={'color': 'orange', 's': 50, 'alpha': 0.7}, line_kws={'color': 'orange'})
axes[0, 1].set_xlabel('Car Width')
axes[0, 1].set_ylabel('Price')
axes[0, 1].set_title('Car Width vs Price')

# Plot 3: Scatter plot of carheight vs price with regression line
sns.regplot(x='carheight', y='price', data=cars_df, ax=axes[1, 0], scatter_kws={'color': 'green', 's': 50, 'alpha': 0.7}, line_kws={'color': 'green'})
axes[1, 0].set_xlabel('Car Height')
axes[1, 0].set_ylabel('Price')
axes[1, 0].set_title('Car Height vs Price')

# Plot 4: Scatter plot of carweight vs price with regression line
sns.regplot(x='carweight', y='price', data=cars_df, ax=axes[1, 1], scatter_kws={'color': 'red', 's': 50, 'alpha': 0.7}, line_kws={'color': 'red'})
axes[1, 1].set_xlabel('Car Weight')
axes[1, 1].set_ylabel('Price')
axes[1, 1].set_title('Car Weight vs Price')

# Adjust layout
plt.tight_layout()

# Show the plot
plt.show()



### WRITE YOUR CODE HERE, WHICH SHOULD REPRODUCE THE BELOW IF DONE CORRECTLY ###
import matplotlib.pyplot as plt
import seaborn as sns

# Assuming `cars_df` is your DataFrame containing the relevant data

# Set up the figure and axes (3 rows and 2 columns)
fig, axes = plt.subplots(3, 3, figsize=(18, 18))

# Plot 1: Scatter plot of enginesize vs price with regression line
sns.regplot(x='enginesize', y='price', data=cars_df, ax=axes[0, 0], scatter_kws={'color': 'blue'}, line_kws={'color': 'blue'})
axes[0, 0].set_xlabel('Engine Size')
axes[0, 0].set_ylabel('Price')
axes[0, 0].set_title('Engine Size vs Price')

# Plot 2: Scatter plot of boreratio vs price with regression line
sns.regplot(x='boreratio', y='price', data=cars_df, ax=axes[0, 1], scatter_kws={'color': 'orange'}, line_kws={'color': 'orange'})
axes[0, 1].set_xlabel('Bore Ratio')
axes[0, 1].set_ylabel('Price')
axes[0, 1].set_title('Bore Ratio vs Price')

# Plot 3: Scatter plot of stroke vs price with regression line
sns.regplot(x='stroke', y='price', data=cars_df, ax=axes[0, 2], scatter_kws={'color': 'green'}, line_kws={'color': 'green'})
axes[0, 2].set_xlabel('Stroke')
axes[0, 2].set_ylabel('Price')
axes[0, 2].set_title('Stroke vs Price')

# Plot 4: Scatter plot of compressionratio vs price with regression line
sns.regplot(x='compressionratio', y='price', data=cars_df, ax=axes[1, 0], scatter_kws={'color': 'red'}, line_kws={'color': 'red'})
axes[1, 0].set_xlabel('Compression Ratio')
axes[1, 0].set_ylabel('Price')
axes[1, 0].set_title('Compression Ratio vs Price')

# Plot 5: Scatter plot of horsepower vs price with regression line
sns.regplot(x='horsepower', y='price', data=cars_df, ax=axes[1, 1], scatter_kws={'color': 'purple'}, line_kws={'color': 'purple'})
axes[1, 1].set_xlabel('Horsepower')
axes[1, 1].set_ylabel('Price')
axes[1, 1].set_title('Horsepower vs Price')

# Plot 6: Scatter plot of peakrpm vs price with regression line
sns.regplot(x='peakrpm', y='price', data=cars_df, ax=axes[1, 2], scatter_kws={'color': 'brown'}, line_kws={'color': 'brown'})
axes[1, 2].set_xlabel('Peak RPM')
axes[1, 2].set_ylabel('Price')
axes[1, 2].set_title('Peak RPM vs Price')

# Plot 7: Scatter plot of wheelbase vs price with regression line
sns.regplot(x='wheelbase', y='price', data=cars_df, ax=axes[2, 0], scatter_kws={'color': 'magenta'}, line_kws={'color': 'magenta'})
axes[2, 0].set_xlabel('Wheelbase')
axes[2, 0].set_ylabel('Price')
axes[2, 0].set_title('Wheelbase vs Price')

# Plot 8: Scatter plot of citympg vs price with regression line
sns.regplot(x='citympg', y='price', data=cars_df, ax=axes[2, 1], scatter_kws={'color': 'grey'}, line_kws={'color': 'grey'})
axes[2, 1].set_xlabel('City MPG')
axes[2, 1].set_ylabel('Price')
axes[2, 1].set_title('City MPG vs Price')

# Plot 9: Scatter plot of highwaympg vs price with regression line
sns.regplot(x='highwaympg', y='price', data=cars_df, ax=axes[2, 2], scatter_kws={'color': '#C7D77E'}, line_kws={'color': '#C7D77E'})
axes[2, 2].set_xlabel('Highway MPG')
axes[2, 2].set_ylabel('Price')
axes[2, 2].set_title('Highway MPG vs Price')

# Adjust layout
plt.tight_layout()

# Show the plot
plt.show()



### WRITE YOUR CODE HERE, WHICH SHOULD REPRODUCE THE BELOW IF DONE CORRECTLY ###
import seaborn as sns
import matplotlib.pyplot as plt

# Assuming `cars_df` is your DataFrame containing the relevant data

# Create the heatmap of the correlation matrix
sns.heatmap(cars_df.corr(), annot=True)

# Set the title of the plot
plt.title("Correlation Matrix")

# Show the plot
plt.show()



import pandas as pd
import seaborn as sns
import matplotlib.pyplot as plt

# Assuming `cars_df` is your DataFrame containing the relevant data

# Remove non-numeric columns from the DataFrame
numeric_cars_df = cars_df.select_dtypes(include=['float64', 'int64'])

# Create the heatmap of the correlation matrix
sns.heatmap(numeric_cars_df.corr(), annot=True, cmap ='YlGnBu')

# Set the title of the plot
plt.title("Correlation Matrix")

# Show the plot
plt.show()



print


import pandas as pd
import seaborn as sns
import matplotlib.pyplot as plt

# Assuming `cars_df` is your DataFrame containing the relevant data

# Remove non-numeric columns from the DataFrame
numeric_cars_df = cars_df.select_dtypes(include=['float64', 'int64'])

# Set the size of the heatmap
plt.figure(figsize=(10, 8))  # Adjust width and height as needed

# Create the heatmap of the correlation matrix with annotations and a colormap
sns.heatmap(numeric_cars_df.corr(), annot=True, cmap='YlGnBu', square=True)

# Set the title of the plot
plt.title("Correlation Matrix")

# Show the plot
plt.show()



import pandas as pd
import seaborn as sns
import matplotlib.pyplot as plt

# Assuming `cars_df` is your DataFrame containing the relevant data

# Remove non-numeric columns from the DataFrame
numeric_cars_df = cars_df.select_dtypes(include=['float64', 'int64'])

# Check the correlation matrix
corr_matrix = numeric_cars_df.corr()

# Set the size of the heatmap
plt.figure(figsize=(10, 8))  # Adjust width and height as needed

# Create the heatmap of the correlation matrix with annotations and a colormap
heatmap = sns.heatmap(corr_matrix, annot=True, cmap='YlGnBu', fmt=".2f", square=True)

# Adjust the heatmap properties to ensure all annotations are visible
for _, spine in heatmap.spines.items():
    spine.set_visible(True)

# Set the title of the plot
plt.title("Correlation Matrix")

# Show the plot
plt.show()



### WRITE YOUR CODE HERE, WHICH SHOULD REPRODUCE THE BELOW IF DONE CORRECTLY ###


### WRITE YOUR CODE HERE ###


### WRITE YOUR CODE HERE, WHICH SHOULD REPRODUCE THE BELOW IF DONE CORRECTLY ###


### WRITE YOUR CODE HERE, WHICH SHOULD REPRODUCE THE BELOW IF DONE CORRECTLY ###
