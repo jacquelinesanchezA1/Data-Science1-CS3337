import pandas as pd
import numpy as np
import matplotlib.pyplot as plt
import sklearn as skl
import seaborn as sb


sb.set_style('darkgrid') 


HD_df = pd.read_csv(filepath_or_buffer='framingham.csv')
HD_df


#Enter your code here.
sb.heatmap(HD_df.corr())
plt.show()


sb.heatmap(HD_df.corr(), annot =True)
plt.show()


import seaborn as sb
import matplotlib.pyplot as plt

# Assuming HD_df is your DataFrame
plt.figure(figsize=(10, 8))  # Adjust the figure size as needed
heatmap = sb.heatmap(HD_df.corr(), annot=True, annot_kws={"size": 5}, cmap='coolwarm', center=0)
plt.show()



import plotly.express as px

# Assuming HD_df is your DataFrame
fig = px.imshow(HD_df.corr(), text_auto=True, aspect="auto", color_continuous_scale='magma')
fig.show()





import seaborn as sb
import matplotlib.pyplot as plt

# Function to plot a section of the heatmap
def plot_heatmap_section(data, title):
    plt.figure(figsize=(10, 8))
    sb.heatmap(data.corr(), annot=True, cmap='coolwarm', center=0, annot_kws={"size": 8})
    plt.title(title)
    plt.show()

# Dimensions of the DataFrame
num_rows, num_cols = HD_df.shape

# Define the sections
sections = [
    ("Top Left", HD_df.iloc[:num_rows//2, :num_cols//2]),
    ("Top Right", HD_df.iloc[:num_rows//2, num_cols//2:]),
    ("Bottom Left", HD_df.iloc[num_rows//2:, :num_cols//2]),
    ("Bottom Right", HD_df.iloc[num_rows//2:, num_cols//2:])
]

# Plot each section
for title, section in sections:
    plot_heatmap_section(section, title)



import plotly.express as px
import pandas as pd
import numpy as np

# Example DataFrame
# HD_df = pd.DataFrame(np.random.randn(30, 30), columns=[f'Var{i}' for i in range(30)])  # Replace with your DataFrame

# Function to plot a section of the heatmap interactively
def plot_interactive_heatmap_section(data, title):
    fig = px.imshow(data.corr(), text_auto=True, aspect="auto", color_continuous_scale='mint')
    fig.update_layout(title=title, autosize=False, width=600, height=600)
    fig.show()

# Dimensions of the DataFrame
num_rows, num_cols = HD_df.shape

# Define the sections (3x3 grid)
# Define the sections
sections = [
    ("Top Left", HD_df.iloc[:num_rows//2, :num_cols//2]),
    ("Top Right", HD_df.iloc[:num_rows//2, num_cols//2:]),
    ("Bottom Left", HD_df.iloc[num_rows//2:, :num_cols//2]),
    ("Bottom Right", HD_df.iloc[num_rows//2:, num_cols//2:])
]


# Plot each section interactively
for title, section in sections:
    plot_interactive_heatmap_section(section, title)
    
fig.show()



import plotly.express as px
import pandas as pd
import numpy as np

# Example DataFrame
# HD_df = pd.DataFrame(np.random.randn(30, 30), columns=[f'Var{i}' for i in range(30)])  # Replace with your DataFrame

# Function to plot a section of the heatmap interactively
def plot_interactive_heatmap_section(data, title):
    fig = px.imshow(data.corr(), text_auto=True, aspect="auto", color_continuous_scale='solar')
    fig.update_layout(title=title, autosize=False, width=600, height=600)
    fig.show()

# Dimensions of the DataFrame
num_rows, num_cols = HD_df.shape

# Define the sections (3x3 grid)
sections = [
    ("Top Left", HD_df.iloc[:num_rows//3, :num_cols//3]),
    ("Top Center", HD_df.iloc[:num_rows//3, num_cols//3:2*num_cols//3]),
    ("Top Right", HD_df.iloc[:num_rows//3, 2*num_cols//3:]),
    ("Middle Left", HD_df.iloc[num_rows//3:2*num_rows//3, :num_cols//3]),
    ("Middle Center", HD_df.iloc[num_rows//3:2*num_rows//3, num_cols//3:2*num_cols//3]),
    ("Middle Right", HD_df.iloc[num_rows//3:2*num_rows//3, 2*num_cols//3:]),
    ("Bottom Left", HD_df.iloc[2*num_rows//3:, :num_cols//3]),
    ("Bottom Center", HD_df.iloc[2*num_rows//3:, num_cols//3:2*num_cols//3]),
    ("Bottom Right", HD_df.iloc[2*num_rows//3:, 2*num_cols//3:])
]

# Plot each section interactively
for title, section in sections:
    plot_interactive_heatmap_section(section, title)
    
fig.show()






import seaborn as sb
import matplotlib.pyplot as plt

# Function to plot a section of the heatmap
def plot_heatmap_section(data, title):
    plt.figure(figsize=(12, 10))  # Increase figure size
    heatmap = sb.heatmap(data.corr(), annot=True, cmap='coolwarm', center=0, annot_kws={"size": 8})
    heatmap.set_title(title)
    plt.show()

# Dimensions of the DataFrame
num_rows, num_cols = HD_df.shape

# Define the sections
sections = [
    ("Top Left", HD_df.iloc[:num_rows//2, :num_cols//2]),
    ("Top Right", HD_df.iloc[:num_rows//2, num_cols//2:]),
    ("Bottom Left", HD_df.iloc[num_rows//2:, :num_cols//2]),
    ("Bottom Right", HD_df.iloc[num_rows//2:, num_cols//2:])
]

# Plot each section
for title, section in sections:
    plot_heatmap_section(section, title)







#Enter your code here.
HD_df.info()


HD_df.isnull().sum()


#Enter Your code here

# handling education by using emputation method

# 1_ calculate the mean for education
mean_education = HD_df['education'].mean()
# 2_ replace missing education values with the mean education
HD_df['education'] = HD_df['education'].apply(lambda education: mean_education 
                                              if pd.isnull(education) 
                                              else education)


# handling cigsPerDay
# 1_ calculate mean
mean_cigsPerDay = HD_df['cigsPerDay'].mean()
# 2_ replace missing values
HD_df['cigsPerDay'] = HD_df['cigsPerDay'].apply(lambda cigsPerDay: mean_cigsPerDay 
                                                if pd.isnull(cigsPerDay) 
                                                else cigsPerDay)


# handling BPMeds
# 1_ calculate mean
mean_BPMeds = HD_df['BPMeds'].mean()
# 2_ replace missing values
HD_df['BPMeds'] = HD_df['BPMeds'].apply(lambda BPMeds: mean_BPMeds 
                                                if pd.isnull(BPMeds) 
                                                else BPMeds)

# handling totChol
# 1_ calculate mean
mean_totChol = HD_df['totChol'].mean()
# 2_ replace missing values
HD_df['totChol'] = HD_df['totChol'].apply(lambda totChol: mean_totChol 
                                                if pd.isnull(totChol) 
                                                else totChol)


# handling BMI
# 1_ calculate mean
mean_BMI = HD_df['BMI'].mean()
# 2_ replace missing values
HD_df['BMI'] = HD_df['BMI'].apply(lambda BMI: mean_BMI 
                                                if pd.isnull(BMI) 
                                                else BMI)

# heartRate
# 1_ calculate mean
mean_heartRate = HD_df['heartRate'].mean()
# 2_ replace missing values
HD_df['heartRate'] = HD_df['heartRate'].apply(lambda heartRate: mean_heartRate
                                                if pd.isnull(heartRate) 
                                                else heartRate)


# 'glucose' removing or emputation? 
# 1_ calculate mean
mean_glucose = HD_df['glucose'].mean()
# 2_ replace missing values
HD_df['glucose'] = HD_df['glucose'].apply(lambda glucose: mean_glucose
                                                if pd.isnull(glucose) 
                                                else glucose)

HD_df.info()


#Enter your code here
sb.histplot(HD_df['male'])
plt.show()
print(HD_df['male'].describe()) 


sb.histplot(HD_df['age'])
plt.show()
print(HD_df['age'].describe()) 


sb.histplot(HD_df['education'])
plt.show()
print(HD_df['education'].describe()) 


sb.histplot(HD_df['currentSmoker'])
plt.show()
print(HD_df['currentSmoker'].describe()) 



sb.histplot(HD_df['cigsPerDay'])
plt.show()
print(HD_df['cigsPerDay'].describe()) 


sb.histplot(HD_df['BPMeds'])
plt.show()
print(HD_df['BPMeds'].describe()) 



sb.histplot(HD_df['prevalentStroke'])
plt.show()
print(HD_df['prevalentStroke'].describe()) 



sb.histplot(HD_df['prevalentHyp'])
plt.show()
print(HD_df['prevalentHyp'].describe()) 



sb.histplot(HD_df['diabetes'])
plt.show()
print(HD_df['diabetes'].describe()) 



sb.histplot(HD_df['totChol'])
plt.show()
print(HD_df['totChol'].describe()) 



sb.histplot(HD_df['sysBP'])
plt.show()
print(HD_df['sysBP'].describe()) 



sb.histplot(HD_df['diaBP'])
plt.show()
print(HD_df['diaBP'].describe()) 



sb.histplot(HD_df['BMI'])
plt.show()
print(HD_df['BMI'].describe()) 


sb.histplot(HD_df['heartRate'])
plt.show()
print(HD_df['heartRate'].describe()) 



sb.histplot(HD_df['glucose'])
plt.show()
print(HD_df['glucose'].describe()) 


sb.histplot(HD_df['TenYearCHD'])
plt.show()
print(HD_df['TenYearCHD'].describe()) 




sb.pairplot(HD_df)
plt.show()


#Enter your code here

from sklearn.model_selection import train_test_split

X = HD_df[['male', 'age', 'education', 'currentSmoker', 'cigsPerDay', 'diabetes','BPMeds', 'prevalentStroke', 'prevalentHyp', 'totChol', 'diaBP', 'BMI', 'heartRate', 'glucose','TenYearCHD' ]] # all the other features

y = HD_df['sysBP'] # the target variable

X_train, X_test, y_train, y_test = train_test_split(X, y, test_size=0.3)



#Enter your code here
from sklearn.linear_model import LinearRegression

lm = LinearRegression()
lm.fit(X_train,y_train)

# Predict the values for the test set
y_pred = lm.predict(X_test)

# Show the predicted results for the first 10 data points
predicted_results = pd.DataFrame({'Actual': y_test, 'Predicted': y_pred})
print(predicted_results.head(10))



#Enter your code here
predictions = lm.predict(X_test)
plt.scatter(y_test,predictions)
plt.show()


from sklearn.metrics import r2_score

print('R2 Score: ', r2_score(y_test, predictions))








#Enter your code here

from sklearn.model_selection import train_test_split

X = HD_df[['male', 'age', 'education', 'currentSmoker','diabetes','sysBP','BPMeds', 'prevalentStroke', 'prevalentHyp', 'totChol', 'diaBP', 'BMI', 'glucose','TenYearCHD','cigsPerDay' ]] # all the other features

y = HD_df['heartRate'] # the target variable

X_train, X_test, y_train, y_test = train_test_split(X, y, test_size=0.3)

# Train the model
model = LinearRegression()
model.fit(X_train, y_train)

# Predict the values for the test set
y_pred = model.predict(X_test)

# Show the predicted results for the first 10 data points
predicted_results = pd.DataFrame({'Actual': y_test, 'Predicted': y_pred})


print(predicted_results.head(10))



from sklearn.metrics import r2_score

print('R2 Score: ', r2_score(y_test, predictions))


import matplotlib.pyplot as plt

# Scatter plot of actual vs predicted values
plt.figure(figsize=(8, 6)) 
plt.scatter(y_test, y_pred, color='blue', label='Actual vs Predicted')
plt.plot([y_test.min(), y_test.max()], [y_test.min(), y_test.max()], 'k--', lw=2, color='red', label='Ideal Line')
plt.xlabel('Actual Heart Rate')
plt.ylabel('Predicted Heart Rate')
plt.title('Actual vs Predicted Heart Rate')
plt.legend()
plt.show()



#Enter your code here
predictions = lm.predict(X_test)
plt.scatter(y_test,predictions)
plt.show()
