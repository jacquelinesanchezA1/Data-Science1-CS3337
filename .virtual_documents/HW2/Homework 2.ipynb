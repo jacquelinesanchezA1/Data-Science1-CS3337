


# first lets load the necessary libraries that we'll need for this assignment

import numpy as np
import pandas as pd

import matplotlib.pyplot as plt
import seaborn as sb
from matplotlib import rcParams


# lets load the data
heart_df = pd.read_csv('data.csv')

# displaying the first 5 rows
heart_df.head()


size_df = heart_df.shape[0]
print(f' There are {size_df} observations in total')


# method 1: 
print(heart_df.isna().sum())

# # methods 2: 
# print(heart_df.isnull().any())


if not heart_df.isnull().values.any():
    print("No missing data")
else:
    missing_count = heart_df.isnull().sum().sum()
    print(f"There are {missing_count} observations missing")


# number of unique values in each column
# unique_values = heart_df.nunique()
# print(unique_values)

# display purposes
for col in heart_df.columns:
    unique_count = heart_df[col].nunique()
    print(f"In column {col} there are {unique_count} unique values.")


print(heart_df.dtypes)


# Plot the counts of the target variable
plt.figure(figsize=(8, 6))
target_var = heart_df['output']

# ploting target variables 
target_var.value_counts().plot(kind='bar', color=['blue', 'orange'])
plt.xlabel('Output') # x-axis
plt.ylabel('Count') # y-axis 
plt.title('Counts of Target Variable')
plt.xticks(rotation=0)
plt.show()














# Set up the matplotlib figure (Letter-Value Box Plot)
plt.figure(figsize=(12, 6))

# color pallete 
color_palette = ['lightblue', 'orange']

# Plot letter value (boxen) plot for 'age' by 'output'
plt.subplot(1, 2, 1)
sb.boxenplot(x='output', y='age', hue = 'output', data=heart_df, palette = color_palette)
plt.title('Age Spread by Outcome')

# Plot letter value (boxen) plot for 'chol' by 'output'
plt.subplot(1, 2, 2)
sb.boxenplot(x='output', y='chol', hue = 'output', data=heart_df, palette = color_palette)
plt.title('Chol Spread by Outcome')

# Adjust layout and show plot
plt.tight_layout()
plt.show()


# Set up the matplotlib figure
plt.figure(figsize=(14, 6))

# Plot distribution plot for 'age' by 'output'
plt.subplot(1, 2, 1)
sb.histplot(data=heart_df, x='age', hue='output', kde=True, multiple="stack")
plt.title('Age Distribution by Outcome')

# Plot distribution plot for 'chol' by 'output'
plt.subplot(1, 2, 2)
sb.histplot(data=heart_df, x='chol', hue='output', kde=True, multiple="stack")
plt.title('Chol Distribution by Outcome')

# Adjust layout and show plot
plt.tight_layout()
plt.show()





# Compute the correlation matrix
corr_matrix = heart_df.corr()

# Set up the matplotlib figure
plt.figure(figsize=(10, 8))

# Generate the heatmap
sb.heatmap(corr_matrix, annot=True, fmt=".2f", cmap='viridis', linewidths=.5)

# Add title
plt.title('Correlation Heatmap of Continuous Variables')

# Show plot
plt.show()






























