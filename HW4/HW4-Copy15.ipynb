{
 "cells": [
  {
   "cell_type": "markdown",
   "id": "d30aabce",
   "metadata": {},
   "source": [
    "Jacqueline Sanchez <br>\n",
    "June 25, 2024 <br> \n",
    "Homework 4"
   ]
  },
  {
   "cell_type": "markdown",
   "id": "9deaa93a",
   "metadata": {},
   "source": [
    "# Neural Networks"
   ]
  },
  {
   "cell_type": "markdown",
   "id": "aa578ace",
   "metadata": {},
   "source": [
    "Your task for this homework will be to construct a neural network for both a regression\n",
    "and classification task. We'll be using the california dataset for the regression portion,\n",
    "and iris for classification.By the end of this hw you should be comfortable using sklearn'sneural network on a dataset."
   ]
  },
  {
   "cell_type": "code",
   "execution_count": 1,
   "id": "da91b641",
   "metadata": {},
   "outputs": [],
   "source": [
    "# dataset importation\n",
    "from sklearn.datasets import fetch_california_housing, load_iris\n",
    "\n",
    "# libraries \n",
    "import pandas as pd\n",
    "import numpy as np\n",
    "\n",
    "\n",
    "# plotting tools\n",
    "import seaborn as sb # to use rcParams\n",
    "import matplotlib.pyplot as plt\n",
    "\n",
    "# tools\n",
    "from sklearn.pipeline import Pipeline\n",
    "\n",
    "# model training tools\n",
    "from sklearn.model_selection import train_test_split, GridSearchCV # split \n",
    "from sklearn.preprocessing import StandardScaler # scale, preprocessing\n",
    "\n",
    "\n",
    "\n",
    "# models\n",
    "# from sklearn.neural_network import MLPRegressor # for neural network (new)\n",
    "from sklearn.neural_network import MLPClassifier \n",
    "\n",
    "\n",
    "# metric tools\n",
    "from sklearn.metrics import mean_squared_error, r2_score, confusion_matrix, classification_report"
   ]
  },
  {
   "cell_type": "code",
   "execution_count": 2,
   "id": "e157f6f7",
   "metadata": {},
   "outputs": [],
   "source": [
    "from matplotlib import rcParams # need sb\n",
    "rcParams['figure.figsize'] = 8, 5\n",
    "sb.set_style('darkgrid')"
   ]
  },
  {
   "cell_type": "markdown",
   "id": "eb4a4fe8",
   "metadata": {},
   "source": [
    "## Artificial Neural Network for Regressional Task"
   ]
  },
  {
   "cell_type": "markdown",
   "id": "2f609209",
   "metadata": {},
   "source": [
    "### Part 1: Reading and Understanding the Data (Regression Part)"
   ]
  },
  {
   "cell_type": "code",
   "execution_count": 3,
   "id": "b0b81d4b",
   "metadata": {},
   "outputs": [
    {
     "data": {
      "text/plain": [
       "(   MedInc  HouseAge  AveRooms  AveBedrms  Population  AveOccup  Latitude  \\\n",
       " 0  8.3252      41.0  6.984127   1.023810       322.0  2.555556     37.88   \n",
       " 1  8.3014      21.0  6.238137   0.971880      2401.0  2.109842     37.86   \n",
       " 2  7.2574      52.0  8.288136   1.073446       496.0  2.802260     37.85   \n",
       " 3  5.6431      52.0  5.817352   1.073059       558.0  2.547945     37.85   \n",
       " 4  3.8462      52.0  6.281853   1.081081       565.0  2.181467     37.85   \n",
       " \n",
       "    Longitude  \n",
       " 0    -122.23  \n",
       " 1    -122.22  \n",
       " 2    -122.24  \n",
       " 3    -122.25  \n",
       " 4    -122.25  ,\n",
       " array([4.526, 3.585, 3.521, 3.413, 3.422]))"
      ]
     },
     "execution_count": 3,
     "metadata": {},
     "output_type": "execute_result"
    }
   ],
   "source": [
    "california_housing = fetch_california_housing()\n",
    "\n",
    "# Convert the data into a pandas DataFrame\n",
    "X = pd.DataFrame(california_housing.data, columns=california_housing.feature_names)\n",
    "\n",
    "# Save the target into a variable y\n",
    "y = california_housing.target\n",
    "\n",
    "# Display the first few rows of the DataFrame to ensure it is loaded correctly\n",
    "X.head(), y[:5]"
   ]
  },
  {
   "cell_type": "markdown",
   "id": "09a698a3",
   "metadata": {},
   "source": [
    "#### To Do: "
   ]
  },
  {
   "cell_type": "code",
   "execution_count": 4,
   "id": "c46174f6",
   "metadata": {
    "scrolled": false
   },
   "outputs": [
    {
     "name": "stdout",
     "output_type": "stream",
     "text": [
      "             MedInc      HouseAge      AveRooms     AveBedrms    Population  \\\n",
      "count  20640.000000  20640.000000  20640.000000  20640.000000  20640.000000   \n",
      "mean       3.870671     28.639486      5.429000      1.096675   1425.476744   \n",
      "std        1.899822     12.585558      2.474173      0.473911   1132.462122   \n",
      "min        0.499900      1.000000      0.846154      0.333333      3.000000   \n",
      "25%        2.563400     18.000000      4.440716      1.006079    787.000000   \n",
      "50%        3.534800     29.000000      5.229129      1.048780   1166.000000   \n",
      "75%        4.743250     37.000000      6.052381      1.099526   1725.000000   \n",
      "max       15.000100     52.000000    141.909091     34.066667  35682.000000   \n",
      "\n",
      "           AveOccup      Latitude     Longitude  \n",
      "count  20640.000000  20640.000000  20640.000000  \n",
      "mean       3.070655     35.631861   -119.569704  \n",
      "std       10.386050      2.135952      2.003532  \n",
      "min        0.692308     32.540000   -124.350000  \n",
      "25%        2.429741     33.930000   -121.800000  \n",
      "50%        2.818116     34.260000   -118.490000  \n",
      "75%        3.282261     37.710000   -118.010000  \n",
      "max     1243.333333     41.950000   -114.310000  \n"
     ]
    }
   ],
   "source": [
    "# 1. Print some basic statistics of your data\n",
    "print(X.describe())"
   ]
  },
  {
   "cell_type": "code",
   "execution_count": 5,
   "id": "1f7e13c0",
   "metadata": {},
   "outputs": [
    {
     "name": "stdout",
     "output_type": "stream",
     "text": [
      "Basic Information: \n",
      "<class 'pandas.core.frame.DataFrame'>\n",
      "RangeIndex: 20640 entries, 0 to 20639\n",
      "Data columns (total 8 columns):\n",
      " #   Column      Non-Null Count  Dtype  \n",
      "---  ------      --------------  -----  \n",
      " 0   MedInc      20640 non-null  float64\n",
      " 1   HouseAge    20640 non-null  float64\n",
      " 2   AveRooms    20640 non-null  float64\n",
      " 3   AveBedrms   20640 non-null  float64\n",
      " 4   Population  20640 non-null  float64\n",
      " 5   AveOccup    20640 non-null  float64\n",
      " 6   Latitude    20640 non-null  float64\n",
      " 7   Longitude   20640 non-null  float64\n",
      "dtypes: float64(8)\n",
      "memory usage: 1.3 MB\n",
      "None\n",
      "\n",
      "Data types of each column: \n",
      "MedInc        float64\n",
      "HouseAge      float64\n",
      "AveRooms      float64\n",
      "AveBedrms     float64\n",
      "Population    float64\n",
      "AveOccup      float64\n",
      "Latitude      float64\n",
      "Longitude     float64\n",
      "dtype: object\n",
      "\n",
      "Missing values in the dataset: \n",
      "MedInc        0\n",
      "HouseAge      0\n",
      "AveRooms      0\n",
      "AveBedrms     0\n",
      "Population    0\n",
      "AveOccup      0\n",
      "Latitude      0\n",
      "Longitude     0\n",
      "dtype: int64\n"
     ]
    }
   ],
   "source": [
    "# 2. Print some general info using pandas \n",
    "print(\"Basic Information: \")\n",
    "print(X.info())\n",
    "\n",
    "print(\"\\nData types of each column: \")\n",
    "print(X.dtypes)\n",
    "\n",
    "print(\"\\nMissing values in the dataset: \")\n",
    "print(X.isnull().sum())"
   ]
  },
  {
   "cell_type": "markdown",
   "id": "6b39354f",
   "metadata": {},
   "source": [
    "<span style = 'color:green'>\n",
    "No, there are no missing values in this dataset as I added all the na values in the dataset but there were none. "
   ]
  },
  {
   "cell_type": "markdown",
   "id": "d83569d9",
   "metadata": {},
   "source": [
    "### Part 2 Visualization"
   ]
  },
  {
   "cell_type": "code",
   "execution_count": 6,
   "id": "6f9a7861",
   "metadata": {},
   "outputs": [
    {
     "data": {
      "text/plain": [
       "Text(0.5, 1.0, 'y(house value) Distribution')"
      ]
     },
     "execution_count": 6,
     "metadata": {},
     "output_type": "execute_result"
    },
    {
     "data": {
      "image/png": "[encoded data removed]",
      "text/plain": [
       "<Figure size 800x500 with 1 Axes>"
      ]
     },
     "metadata": {},
     "output_type": "display_data"
    }
   ],
   "source": [
    "# histogram of the median house value(y)c\n",
    "\n",
    "sb.histplot(y, bins = 30, kde = True, alpha = 0.4)\n",
    "plt.title('y(house value) Distribution')"
   ]
  },
  {
   "cell_type": "markdown",
   "id": "b0d6e8fa",
   "metadata": {},
   "source": [
    "<span style = 'color : green'>\n",
    "I can conclude that the data has low variance in house value as most of the house values fall within the mean range with a few outliers being the exception like the points right of the histogram."
   ]
  },
  {
   "cell_type": "markdown",
   "id": "13ed7ce7",
   "metadata": {},
   "source": [
    "### Part 2 Visualization"
   ]
  },
  {
   "cell_type": "markdown",
   "id": "d45bf8e3",
   "metadata": {},
   "source": [
    "#### Scatter plot of the Population vs. House Value(y)"
   ]
  },
  {
   "cell_type": "code",
   "execution_count": null,
   "id": "03bbe873",
   "metadata": {},
   "outputs": [],
   "source": [
    "plt.scatter(X['Population'], y,c = X['Population'], cmap = 'spring', marker = 'o', s = 100, alpha = 0.5)"
   ]
  },
  {
   "cell_type": "markdown",
   "id": "8d32e7c3",
   "metadata": {},
   "source": [
    "<span style = 'color:green'>\n",
    "I can conclude the where there are more population the value of the house are lower than the houses where there is more population. There are instances of ouliters across the range but noticibly there are two significant outliers that are farther away from the avegrage house value which are happen to be located where there is less population."
   ]
  },
  {
   "cell_type": "markdown",
   "id": "840565c2",
   "metadata": {},
   "source": [
    "#### scatter plot of Longitude vs Latitude"
   ]
  },
  {
   "cell_type": "code",
   "execution_count": null,
   "id": "ee3e4d02",
   "metadata": {},
   "outputs": [],
   "source": [
    "scatter = plt.scatter(X['Longitude'], X['Latitude'], c=y, cmap='magma', s=50, alpha=0.5)\n",
    "\n",
    "# labels\n",
    "plt.title('House Price on Basis of Geo-coordinates')\n",
    "plt.xlabel('Longitude')\n",
    "plt.ylabel('Latitude')\n",
    "\n",
    "# color bar\n",
    "cbar = plt.colorbar(scatter)\n",
    "cbar.set_label('House Price')\n",
    "\n",
    "\n",
    "plt.show()"
   ]
  },
  {
   "cell_type": "markdown",
   "id": "16ba759f",
   "metadata": {},
   "source": [
    "<span style = 'color:green'>\n",
    "Based on the scatter plot created, it is observed that latitude and longitude have a correlation relationship with one another, as indicated by the linear pattern formed in the plot.\n",
    "There is a slight precence of variance notibly in the lower longitude and higher latitude section of the plot. \n",
    "<br>\n",
    "    \n",
    "This suggests that as one of these variables changes, the other tends to change in a predictable manner."
   ]
  },
  {
   "cell_type": "markdown",
   "id": "39f48ff1",
   "metadata": {},
   "source": [
    "### Part 2 Visualization"
   ]
  },
  {
   "cell_type": "markdown",
   "id": "14093162",
   "metadata": {},
   "source": [
    "#### Heatmap of the features"
   ]
  },
  {
   "cell_type": "code",
   "execution_count": null,
   "id": "10854b85",
   "metadata": {},
   "outputs": [],
   "source": [
    "X_copy = X.copy()\n",
    "X_copy['target'] = y\n",
    "\n",
    "# correlation matrix\n",
    "correlation_matrix = X_copy.drop('target', axis=1).corr()\n",
    "\n",
    "# plotting the heatmap\n",
    "sb.heatmap(correlation_matrix, annot=True, cmap='coolwarm', linewidths=.5)\n",
    "\n",
    "plt.title('Heatmap of Feature Correlation')\n",
    "plt.show()"
   ]
  },
  {
   "cell_type": "markdown",
   "id": "ffea085f",
   "metadata": {},
   "source": [
    "<span style='color:green'>\n",
    "It is evident that the heatmap provides a clear visualization of the correlation values between each feature. From the heatmap, we can observe that latitude and longitude have the least correlation with each other. Therefore, we can consider removing these features to potentially improve the model's performance."
   ]
  },
  {
   "cell_type": "markdown",
   "id": "565e013e",
   "metadata": {},
   "source": [
    "#### Scatter plot for ['MedInc', 'HouseAge', 'AveRooms', 'AveBedrms', 'AveOccup'] vs. house value(y)"
   ]
  },
  {
   "cell_type": "code",
   "execution_count": null,
   "id": "28e83a15",
   "metadata": {
    "scrolled": false
   },
   "outputs": [],
   "source": [
    "# the chosen features vs house value\n",
    "features = ['MedInc', 'HouseAge', 'AveRooms', 'AveBedrms', 'AveOccup']\n",
    "\n",
    "# colors for plot\n",
    "colors = ['blue', 'orange', 'green', 'red', 'purple']\n",
    "\n",
    "# scatter plots using sb.regplot\n",
    "for feature, color in zip(features, colors):\n",
    "    plt.figure(figsize=(8, 6))\n",
    "    sb.regplot(x=feature, y=y, data=X, scatter_kws={'color': color}, line_kws={'color': color})\n",
    "    plt.title(f'Scatter Plot of {feature} vs. House Value')\n",
    "    plt.xlabel(feature)\n",
    "    plt.ylabel('House Value')\n",
    "    plt.grid(True)\n",
    "    plt.show()"
   ]
  },
  {
   "cell_type": "markdown",
   "id": "39d49c56",
   "metadata": {},
   "source": [
    "<span style = 'color:green'>\n",
    "The plots suggest that median income and the number of rooms per household are positively correlated with house values, while house age, average bedrooms, and average occupancy do not show a strong linear relationship with house values."
   ]
  },
  {
   "cell_type": "markdown",
   "id": "d96c5b81",
   "metadata": {},
   "source": [
    "#### Histogram for HouseAge"
   ]
  },
  {
   "cell_type": "code",
   "execution_count": null,
   "id": "b01135a1",
   "metadata": {},
   "outputs": [],
   "source": [
    "# histogram of the median house value(y)\n",
    "sb.histplot(X['HouseAge'], bins = 30, kde = True, alpha = 0.4)\n",
    "plt.title('Histogram for HouseAge')"
   ]
  },
  {
   "cell_type": "markdown",
   "id": "fb44f757",
   "metadata": {},
   "source": [
    "### Part 3 Model Creation and Evaluation"
   ]
  },
  {
   "cell_type": "markdown",
   "id": "c71ad507",
   "metadata": {},
   "source": [
    "* Perform the following"
   ]
  },
  {
   "cell_type": "markdown",
   "id": "d4f8da7c",
   "metadata": {},
   "source": [
    "1. Scale the data"
   ]
  },
  {
   "cell_type": "code",
   "execution_count": null,
   "id": "70b43942",
   "metadata": {},
   "outputs": [],
   "source": [
    "# 1. scale\n",
    "scaler = StandardScaler()\n",
    "scaled_features = scaler.fit_transform(X)\n",
    "scaled_features_df = pd.DataFrame(scaled_features, columns=X.columns)\n",
    "\n",
    "# split train and test (test size of 0.30)\n",
    "X_train, X_test, y_train, y_test = train_test_split(scaled_features, y, test_size=0.30, random_state=42)\n",
    "\n",
    "# neural network for regression using sklearn (hidden layers of size: 130->64->32->16)\n",
    "mlp = MLPRegressor(hidden_layer_sizes=(130, 64, 32, 16), activation='relu', max_iter=1000, random_state=42)\n",
    "mlp.fit(X_train, y_train)\n",
    "\n",
    "# Run the test data through the model to obtain predictions\n",
    "predictions = mlp.predict(X_test)\n",
    "\n",
    "# Calculate and print the R^2 score of this model\n",
    "r2 = r2_score(y_test, predictions)\n",
    "print(f'R² of the model: {r2}')"
   ]
  },
  {
   "cell_type": "markdown",
   "id": "1edee3e7",
   "metadata": {},
   "source": [
    "### Part 3: Model Creation and Evaluation"
   ]
  },
  {
   "cell_type": "markdown",
   "id": "d02d6002",
   "metadata": {},
   "source": [
    "• How did your model perform? "
   ]
  },
  {
   "cell_type": "code",
   "execution_count": null,
   "id": "dbeb8ea8",
   "metadata": {},
   "outputs": [],
   "source": [
    "#not so good "
   ]
  },
  {
   "cell_type": "markdown",
   "id": "c93b1602",
   "metadata": {},
   "source": [
    "• Try experimenting with different hidden layer sizes."
   ]
  },
  {
   "cell_type": "code",
   "execution_count": null,
   "id": "ca800359",
   "metadata": {},
   "outputs": [],
   "source": [
    "# to keep consistency while applying the same transformation to both the training and test set, lets use pipeline\n",
    "# reduce errors\n",
    "\n",
    "pipeline = Pipeline([\n",
    "    ('scaler', StandardScaler()),\n",
    "    ('mlp', MLPRegressor(max_iter=1000, random_state=42))\n",
    "])\n",
    "\n",
    "# expererimenting different layers\n",
    "param_grid = {\n",
    "    'mlp_hidden_layer_sizes': [(130,), (130, 64), (130, 64, 32), (130, 64, 32, 16)],\n",
    "    'mlp_activation': ['relu']\n",
    "}\n",
    "\n",
    "# finding the best set of parameters(using gridsearchCV)\n",
    "grid_search = GridSearchCV(pipeline, param_grid, cv=3, scoring='r2')\n",
    "grid_search.fit(X_train, y_train)\n",
    "\n",
    "\n",
    "print(f'Best parameters: {grid_search.best_params_}')\n",
    "\n",
    "best_model = grid_search.best_estimator_\n",
    "predictions = best_model.predict(X_test)\n",
    "\n",
    "r2 = r2_score(y_test, predictions)\n",
    "print(f'R² of the model: {r2}')\n"
   ]
  },
  {
   "cell_type": "code",
   "execution_count": null,
   "id": "2767d59d",
   "metadata": {},
   "outputs": [],
   "source": []
  },
  {
   "cell_type": "code",
   "execution_count": null,
   "id": "65d47b3e",
   "metadata": {},
   "outputs": [],
   "source": []
  },
  {
   "cell_type": "code",
   "execution_count": null,
   "id": "6f03ae36",
   "metadata": {},
   "outputs": [],
   "source": [
    "# DBSCAN (method 1)"
   ]
  },
  {
   "cell_type": "code",
   "execution_count": null,
   "id": "9a48dcc3",
   "metadata": {},
   "outputs": [],
   "source": [
    "from sklearn.cluster import DBSCAN\n",
    "\n",
    "# Function to check the number of points removed by DBSCAN with varying parameters\n",
    "def check_outliers_removal(X, eps=0.5, min_samples=5):\n",
    "    outlier_remover = DBSCAN(eps=eps, min_samples=min_samples)\n",
    "    outlier_remover.fit(X)\n",
    "    mask = outlier_remover.labels_ != -1\n",
    "    print(f\"Points removed: {len(X) - np.sum(mask)} out of {len(X)}\")\n",
    "\n",
    "# Visualize the data (assuming 2D data for simplicity)\n",
    "def visualize_data(X, title=\"Data Visualization\"):\n",
    "    plt.scatter(X[:, 0], X[:, 1], s=5)\n",
    "    plt.title(title)\n",
    "    plt.show()\n",
    "\n",
    "# Assuming X_train is defined and is a DataFrame\n",
    "X_train = pd.DataFrame(X_train)\n",
    "X_train_np = X_train.to_numpy()\n",
    "\n",
    "# Visualize the original data\n",
    "visualize_data(X_train_np, \"Original Data\")\n",
    "\n",
    "# Test different DBSCAN parameters\n",
    "check_outliers_removal(X_train, eps=1.0, min_samples=5)\n",
    "check_outliers_removal(X_train, eps=1.5, min_samples=5)\n",
    "check_outliers_removal(X_train, eps=0.5, min_samples=10)\n",
    "check_outliers_removal(X_train, eps=0.5, min_samples=20)\n"
   ]
  },
  {
   "cell_type": "code",
   "execution_count": null,
   "id": "8af164c2",
   "metadata": {},
   "outputs": [],
   "source": [
    "# PCA (method 2)"
   ]
  },
  {
   "cell_type": "code",
   "execution_count": null,
   "id": "292c3208",
   "metadata": {},
   "outputs": [],
   "source": [
    "from sklearn.decomposition import PCA\n",
    "\n",
    "# Assuming X_train and y_train are defined and are NumPy arrays or DataFrames\n",
    "X_train = pd.DataFrame(X_train)  # Convert to DataFrame if not already\n",
    "y_train = pd.Series(y_train)  # Convert to Series if not already\n",
    "\n",
    "# Perform PCA\n",
    "pca = PCA(n_components=2)  # Reduce to 2 dimensions for visualization and distance calculation\n",
    "X_pca = pca.fit_transform(X_train)\n",
    "\n",
    "# Calculate the Euclidean distance from the origin in the PCA-transformed space\n",
    "distance = np.sqrt(np.sum(X_pca**2, axis=1))\n",
    "\n",
    "# Define a threshold for outliers (e.g., points beyond 3 standard deviations from the mean)\n",
    "threshold = np.mean(distance) + 3 * np.std(distance)\n",
    "outliers = distance > threshold\n",
    "\n",
    "# Filter out the outliers\n",
    "X_train_no_outliers = X_train[~outliers]\n",
    "y_train_no_outliers = y_train[~outliers]\n",
    "\n",
    "# Ensure X_test is also a DataFrame for consistent handling\n",
    "X_test = pd.DataFrame(X_test)\n",
    "y_test = pd.Series(y_test)\n",
    "\n",
    "# Setup the pipeline with Isolation Forest outlier remover\n",
    "pipeline = Pipeline([\n",
    "    ('scaler', StandardScaler()),\n",
    "    ('mlp', MLPRegressor(max_iter=1000, random_state=42))\n",
    "])\n",
    "\n",
    "# Define the parameter grid for GridSearchCV\n",
    "param_grid = {\n",
    "    'mlp__hidden_layer_sizes': [(130,), (130, 64), (130, 64, 32), (130, 64, 32, 16)],\n",
    "    'mlp__activation': ['relu']\n",
    "}\n",
    "\n",
    "# Set up GridSearchCV with the pipeline\n",
    "grid_search = GridSearchCV(pipeline, param_grid, cv=3, scoring='r2')\n",
    "\n",
    "try:\n",
    "    grid_search.fit(X_train_no_outliers, y_train_no_outliers)\n",
    "\n",
    "    # Output the best parameters\n",
    "    print(f'Best parameters: {grid_search.best_params_}')\n",
    "\n",
    "    # Use the best model to make predictions on the test set\n",
    "    best_model = grid_search.best_estimator_\n",
    "    predictions = best_model.predict(X_test)\n",
    "\n",
    "    # Calculate and print the R² score\n",
    "    r2 = r2_score(y_test, predictions)\n",
    "    print(f'R² of the model: {r2}')\n",
    "except ValueError as e:\n",
    "    print(f\"Error during grid search: {e}\")\n"
   ]
  },
  {
   "cell_type": "markdown",
   "id": "a6135bb7",
   "metadata": {},
   "source": [
    "by viewing at the original data seem to have a lot variation which by removing a lot of datapoints could have potentially reduce the training sample size significantly. After applying PCA"
   ]
  },
  {
   "cell_type": "code",
   "execution_count": null,
   "id": "bccdf0b6",
   "metadata": {},
   "outputs": [],
   "source": [
    "# DVSCAN: can even worsen down the dimensionality "
   ]
  },
  {
   "cell_type": "code",
   "execution_count": null,
   "id": "a4413fd3",
   "metadata": {},
   "outputs": [],
   "source": []
  },
  {
   "cell_type": "code",
   "execution_count": null,
   "id": "5598f44f",
   "metadata": {},
   "outputs": [],
   "source": [
    "# Assuming X and y are your DataFrame with features and target respectively\n",
    "# Calculate IQR\n",
    "Q1 = X.quantile(0.25)\n",
    "Q3 = X.quantile(0.75)\n",
    "IQR = Q3 - Q1\n",
    "\n",
    "# Filter out outliers\n",
    "X_clean = X[~((X < (Q1 - 1.5 * IQR)) | (X > (Q3 + 1.5 * IQR))).any(axis=1)]\n",
    "y_clean = y[X_clean.index]\n",
    "\n",
    "# Split the cleaned data into training and test sets\n",
    "X_train, X_test, y_train, y_test = train_test_split(X_clean, y_clean, test_size=0.2, random_state=42)\n",
    "\n",
    "# Define the pipeline\n",
    "pipeline = Pipeline([\n",
    "    ('scaler', StandardScaler()),\n",
    "    ('mlp', MLPRegressor(max_iter=1000, random_state=42))\n",
    "])\n",
    "\n",
    "# Define the parameter grid for GridSearchCV\n",
    "param_grid = {\n",
    "    'mlp__hidden_layer_sizes': [(130,), (130, 64), (130, 64, 32), (130, 64, 32, 16)],\n",
    "    'mlp__activation': ['relu']\n",
    "}\n",
    "\n",
    "# Perform GridSearchCV to find the best parameters\n",
    "grid_search = GridSearchCV(pipeline, param_grid, cv=3, scoring='r2')\n",
    "grid_search.fit(X_train, y_train)\n",
    "\n",
    "# Print the best parameters\n",
    "print(f'Best parameters: {grid_search.best_params_}')\n",
    "\n",
    "# Get the best model\n",
    "best_model = grid_search.best_estimator_\n",
    "\n",
    "# Make predictions on the test set\n",
    "predictions = best_model.predict(X_test)\n",
    "\n",
    "# Calculate the R² score\n",
    "r2 = r2_score(y_test, predictions)\n",
    "print(f'R² of the model: {r2}')"
   ]
  },
  {
   "cell_type": "code",
   "execution_count": null,
   "id": "dfe1ed7a",
   "metadata": {},
   "outputs": [],
   "source": []
  },
  {
   "cell_type": "code",
   "execution_count": null,
   "id": "1a3a0c40",
   "metadata": {},
   "outputs": [],
   "source": []
  },
  {
   "cell_type": "code",
   "execution_count": null,
   "id": "75245249",
   "metadata": {},
   "outputs": [],
   "source": []
  },
  {
   "cell_type": "code",
   "execution_count": null,
   "id": "1a1faaa4",
   "metadata": {},
   "outputs": [],
   "source": []
  },
  {
   "cell_type": "markdown",
   "id": "704c5bb6",
   "metadata": {},
   "source": [
    "# Part 4 (Classification Part)"
   ]
  },
  {
   "cell_type": "markdown",
   "id": "c694bf53",
   "metadata": {},
   "source": [
    "### Reading and Understanding the data"
   ]
  },
  {
   "cell_type": "code",
   "execution_count": null,
   "id": "a5c985d9",
   "metadata": {},
   "outputs": [],
   "source": [
    "# dataset importation\n",
    "from sklearn.datasets import load_iris\n",
    "\n",
    "\n",
    "iris = load_iris()\n",
    "iris_df = pd.DataFrame(data = iris.data, columns = iris.feature_names)\n",
    "iris_df['species'] = iris.target"
   ]
  },
  {
   "cell_type": "markdown",
   "id": "59d7bf5e",
   "metadata": {},
   "source": [
    "### Print some basic statistics of your data"
   ]
  },
  {
   "cell_type": "code",
   "execution_count": null,
   "id": "eab5650c",
   "metadata": {},
   "outputs": [],
   "source": [
    "# 1. Print some basic statistics of your data\n",
    "print(X.describe())"
   ]
  },
  {
   "cell_type": "markdown",
   "id": "6b7e0cec",
   "metadata": {},
   "source": [
    "### general information using pandas"
   ]
  },
  {
   "cell_type": "code",
   "execution_count": null,
   "id": "364635d6",
   "metadata": {},
   "outputs": [],
   "source": [
    "# 2. Print some general info using pandas \n",
    "print(\"Basic Information: \")\n",
    "print(X.info())\n",
    "\n",
    "print(\"\\nData types of each column: \")\n",
    "print(X.dtypes)\n",
    "\n",
    "print(\"\\nMissing values in the dataset: \")\n",
    "print(X.isnull().sum())"
   ]
  },
  {
   "cell_type": "markdown",
   "id": "5e7c86c4",
   "metadata": {},
   "source": [
    "<span style = 'color:green'> \n",
    "No, there are no missing values in the iris dataset because the sum of all x.isnull() value are 0. "
   ]
  },
  {
   "cell_type": "markdown",
   "id": "375360a9",
   "metadata": {},
   "source": [
    "## Iris Pairplot"
   ]
  },
  {
   "cell_type": "code",
   "execution_count": null,
   "id": "1ad0fd85",
   "metadata": {},
   "outputs": [],
   "source": [
    "# pair plot\n",
    "# sb.pairplot(iris_df, hue = 'species')\n",
    "\n",
    "# sb.pairplot(iris_df, hue='species', palette='bright', markers=[\"o\", \"s\", \"D\"])\n",
    "\n",
    "sb.pairplot(iris_df)\n",
    "plt.show()"
   ]
  },
  {
   "cell_type": "code",
   "execution_count": null,
   "id": "0d7386b9",
   "metadata": {},
   "outputs": [],
   "source": [
    "print(iris_df.dtypes)"
   ]
  },
  {
   "cell_type": "markdown",
   "id": "e6c83176",
   "metadata": {},
   "source": [
    "## Boxplot of species on the x-axis and sepal length (cm) on the Y-axis"
   ]
  },
  {
   "cell_type": "code",
   "execution_count": null,
   "id": "99c392f0",
   "metadata": {},
   "outputs": [],
   "source": [
    "iris_df['species'] = iris_df['species'].map({0: 'setosa', 1: 'versicolor', 2: 'virginica'})\n",
    "\n",
    "# converting n̶u̶m̶e̶r̶i̶c̶a̶l̶ object label to categorical variable\n",
    "iris_df['species'] = pd.Categorical.from_codes(iris.target, iris.target_names)\n",
    "\n",
    "# Define a custom color palette\n",
    "colors = ['lightblue', 'orange', 'limegreen']\n",
    "\n",
    "# Create the boxplot and assign `species` to `hue`\n",
    "plt.figure(figsize=(10, 6))\n",
    "sb.boxplot(x='species', y='sepal length (cm)', hue='species', data=iris_df, palette=colors, dodge=False)\n",
    "plt.title('Species v.s. Sepal Length Box Plots')\n",
    "plt.xlabel('Species')\n",
    "plt.ylabel('Sepal Length (cm)')\n",
    "plt.legend(loc='upper left')\n",
    "plt.show()"
   ]
  },
  {
   "cell_type": "code",
   "execution_count": null,
   "id": "377092e6",
   "metadata": {},
   "outputs": [],
   "source": [
    "# print(iris_df.dtypes)"
   ]
  },
  {
   "cell_type": "markdown",
   "id": "2504df97",
   "metadata": {},
   "source": [
    "### What can you conclude from the plots you created? "
   ]
  },
  {
   "cell_type": "markdown",
   "id": "4bd4f7cf",
   "metadata": {},
   "source": [
    "<span style='color:green'>\n",
    "    \n",
    "I can see that all three species have a nearly balanced data proportion with respect to Sepal Length by species. This suggests similar central tendencies in Sepal Length across Setosa, Versicolor, and Virginica. **However, Virginica is the only species with an outlier below the lower quartile, indicating potential variability or an extreme value in Sepal Length measurements within this species.**\n"
   ]
  },
  {
   "cell_type": "markdown",
   "id": "55dd2f80",
   "metadata": {},
   "source": [
    "## Boxplot of species on the x-axis and sepal width(cm) on the y-axis"
   ]
  },
  {
   "cell_type": "code",
   "execution_count": null,
   "id": "4a8e4608",
   "metadata": {},
   "outputs": [],
   "source": [
    "# Define a custom color palette\n",
    "colors = ['lightblue', 'orange', 'limegreen']\n",
    "\n",
    "# Create the boxplot and assign `species` to `hue`\n",
    "plt.figure(figsize=(10, 6))\n",
    "sb.boxplot(x='species', y='sepal width (cm)', hue='species', data=iris_df, palette=colors, dodge=False)\n",
    "plt.title('Species v.s. Sepal Width Box Plots')\n",
    "plt.xlabel('Species')\n",
    "plt.ylabel('Sepal width (cm)')\n",
    "plt.legend(loc='upper left')\n",
    "plt.show()"
   ]
  },
  {
   "cell_type": "markdown",
   "id": "2f137285",
   "metadata": {},
   "source": [
    "### What can you conclude from the plots you created?"
   ]
  },
  {
   "cell_type": "markdown",
   "id": "bd7aeb57",
   "metadata": {},
   "source": [
    "<span style='color:green'>\n",
    "In analyzing the boxplot for Sepal Width across species, I observed that Setosa and Virginica exhibit outliers at both ends of the whiskers, indicating significant variability in Sepal Width measurements within these species. In contrast, Versicolor shows a narrower distribution without outliers, suggesting more consistent Sepal Width measurements. This variability across species highlights the need for further investigation into the factors influencing Sepal Width variability in Setosa and Virginica compared to Versicolor.\n",
    "\n"
   ]
  },
  {
   "cell_type": "markdown",
   "id": "65a8b45d",
   "metadata": {},
   "source": [
    "## Boxplot of species on the x-axis and petal width(cm) on the y-axis "
   ]
  },
  {
   "cell_type": "code",
   "execution_count": null,
   "id": "76d3286a",
   "metadata": {},
   "outputs": [],
   "source": [
    "# Define a custom color palette\n",
    "colors = ['lightblue', 'orange', 'limegreen']\n",
    "\n",
    "# Create the boxplot and assign `species` to `hue`\n",
    "plt.figure(figsize=(10, 6))\n",
    "sb.boxplot(x='species', y='petal width (cm)', hue='species', data=iris_df, palette=colors, dodge=False)\n",
    "plt.title('Species v.s. petal width Box Plots')\n",
    "plt.xlabel('Species')\n",
    "plt.ylabel('Petal width (cm)')\n",
    "plt.legend(loc='upper left')\n",
    "plt.show()"
   ]
  },
  {
   "cell_type": "markdown",
   "id": "859da0a5",
   "metadata": {},
   "source": [
    "<span style='color:green'>\n",
    "    \n",
    "Setosa seems to have the smallest range in petal width compared to its counterparts, Versicolor and Virginica, indicating very consistent measurements within this species with a few exceptions indicated by outliers at the upper quartile end of the whiskers. This suggests that a few Setosa specimens have wider petals than the typical range. <br>\n",
    "    \n",
    "Versicolor has a wider range in petal width than Setosa but less than Virginica, indicating moderate variability. Virginica has the widest range of petal width among the three species, indicating greater variability and consistently wider petals compared to the other species."
   ]
  },
  {
   "cell_type": "markdown",
   "id": "762fc043",
   "metadata": {},
   "source": [
    "## Scatterplot of sepal length (cm) vs. sepal width (cm) "
   ]
  },
  {
   "cell_type": "code",
   "execution_count": null,
   "id": "73056eff",
   "metadata": {},
   "outputs": [],
   "source": [
    "plt.figure(figsize=(10, 6))\n",
    "\n",
    "sb.scatterplot(x='sepal length (cm)', y='sepal width (cm)', hue='species', data=iris_df, palette='Set1', s=30, alpha=0.8)\n",
    "plt.title('Sepal Length vs. Sepal Width')\n",
    "plt.xlabel('Sepal Length (cm)')\n",
    "plt.ylabel('Sepal Width (cm)')\n",
    "plt.legend(title='Species', loc='upper right')\n",
    "plt.show()"
   ]
  },
  {
   "cell_type": "markdown",
   "id": "7ccd5474",
   "metadata": {},
   "source": [
    "### What can you conclude from the plots you created?"
   ]
  },
  {
   "cell_type": "markdown",
   "id": "773a5c93",
   "metadata": {},
   "source": [
    "<span style = 'color:green'> \n",
    "\n",
    "Setosa: There is a significant cluster of setosa in the left upper side of the scatter plot, indicating that setosa species have relatively smaller sepal lengths but larger sepal widths with respect to their margin location. This makes setosa distinct and easily identifiable compared to the other species.\n",
    "\n",
    "Versicolor: Versicolor are spread in the mid-range of the graph, showing more variability in their sepal measurements. This spread indicates that versicolor species have a wider range of sepal lengths and widths.\n",
    "\n",
    "Virginica: Virginica occupy a higher range of sepal lengths and have sepal widths similar to versicolor. This indicates that virginica species generally have longer sepals. Additionally, virginica has longer petals."
   ]
  },
  {
   "cell_type": "code",
   "execution_count": null,
   "id": "c629de02",
   "metadata": {},
   "outputs": [],
   "source": [
    "# extract features and target\n",
    "X = data.drop('species', axis=1)\n",
    "y = data['species'] # target\n",
    "\n",
    "# 1. Scale the data\n",
    "scaler = StandardScaler()\n",
    "X_scaled = scaler.fit_transform(X)\n",
    "\n",
    "# 2. split the data\n",
    "X_train, X_test, y_train, y_test = train_test_split(X_scaled, y, test_size=0.30, random_state=42)\n",
    "\n",
    "# 3. create a neural network\n",
    "mlp = MLPClassifier(hidden_layer_sizes=(256, 128, 64, 32), activation='relu', max_iter=1000, random_state=42)\n",
    "\n",
    "# 4. train the neural network\n",
    "mlp.fit(X_train, y_train)\n",
    "\n",
    "# 5. predict on the test set\n",
    "predictions = mlp.predict(X_test)\n",
    "\n",
    "# evaluating the model\n",
    "print(confusion_matrix(y_test, predictions))\n",
    "print(classification_report(y_test, predictions))\n"
   ]
  },
  {
   "cell_type": "markdown",
   "id": "48b47a37",
   "metadata": {},
   "source": [
    "### How did your model perform? "
   ]
  },
  {
   "cell_type": "markdown",
   "id": "cf769610",
   "metadata": {},
   "source": [
    "<span style='color:green'>\n",
    "    \n",
    "The model performed exceptionally well. All the scores for precision, recall, and F1 for all three classes are 1.0, which indicates that the model is perfectly accurate for each class. The overall accuracy of the model is 100%. \n",
    "\n",
    "<br>\n",
    "As for the confusion matrix, it shows that the model classified each class correctly, as each class has an entry for true positives, meaning that all instances were classified correctly according to their respective classes.\n",
    "\n"
   ]
  },
  {
   "cell_type": "markdown",
   "id": "39f326d3",
   "metadata": {},
   "source": [
    "### Try experimenting with different hidden layer sizes"
   ]
  },
  {
   "cell_type": "code",
   "execution_count": null,
   "id": "64d7711f",
   "metadata": {},
   "outputs": [],
   "source": [
    "# Extract features and target\n",
    "X = data.drop('species', axis=1)\n",
    "y = data['species']\n",
    "\n",
    "# Step 1: Scale the data\n",
    "scaler = StandardScaler()\n",
    "X_scaled = scaler.fit_transform(X)\n",
    "\n",
    "# Step 2: Split the data\n",
    "X_train, X_test, y_train, y_test = train_test_split(X_scaled, y, test_size=0.30, random_state=42)\n",
    "\n",
    "# List of different hidden layer configurations to try\n",
    "hidden_layer_sizes_list = [\n",
    "    (128, 64, 32),\n",
    "    (512, 256, 128),\n",
    "    (128, 128, 128, 128)\n",
    "]\n",
    "\n",
    "# Function to evaluate model performance\n",
    "def evaluate_model(hidden_layer_sizes):\n",
    "    print(f\"Evaluating model with hidden layers: {hidden_layer_sizes}\")\n",
    "    # Step 3: Create a neural network\n",
    "    mlp = MLPClassifier(hidden_layer_sizes=hidden_layer_sizes, \n",
    "                        activation='relu', \n",
    "                        max_iter=1000, random_state=42)\n",
    "\n",
    "    # Step 4: Train the neural network\n",
    "    mlp.fit(X_train, y_train)\n",
    "\n",
    "    # Step 5: Predict on the test set\n",
    "    predictions = mlp.predict(X_test)\n",
    "\n",
    "    # Evaluate the model\n",
    "    print(confusion_matrix(y_test, predictions))\n",
    "    print(classification_report(y_test, predictions))\n",
    "\n",
    "# Evaluate each configuration\n",
    "for hidden_layer_sizes in hidden_layer_sizes_list:\n",
    "    evaluate_model(hidden_layer_sizes)"
   ]
  },
  {
   "cell_type": "markdown",
   "id": "ed206471",
   "metadata": {},
   "source": [
    "### Try using gridsearchCV to find the best set of parameters"
   ]
  },
  {
   "cell_type": "code",
   "execution_count": null,
   "id": "0497d82e",
   "metadata": {},
   "outputs": [],
   "source": [
    "# Extract features and target\n",
    "X = data.drop('species', axis=1)\n",
    "y = data['species']\n",
    "\n",
    "# Step 1: Scale the data\n",
    "scaler = StandardScaler()\n",
    "X_scaled = scaler.fit_transform(X)\n",
    "\n",
    "# Step 2: Split the data\n",
    "X_train, X_test, y_train, y_test = train_test_split(X_scaled, y, test_size=0.30, random_state=42)\n",
    "\n",
    "# Define the parameter grid for GridSearchCV\n",
    "param_grid = {\n",
    "    'hidden_layer_sizes': [(128, 64, 32), (512, 256, 128), (128, 128, 128, 128)],\n",
    "    'activation': ['relu'],\n",
    "    'max_iter': [1000],\n",
    "    'random_state': [42]\n",
    "}\n",
    "\n",
    "# Create the GridSearchCV object\n",
    "grid_search = GridSearchCV(estimator=MLPClassifier(), param_grid=param_grid, cv=5, n_jobs=-1, verbose=2)\n",
    "\n",
    "# Step 3: Perform the grid search\n",
    "grid_search.fit(X_train, y_train)\n",
    "\n",
    "# Get the best parameters\n",
    "best_params = grid_search.best_params_\n",
    "print(\"Best parameters found: \", best_params)\n",
    "\n",
    "# Step 4: Evaluate the best model\n",
    "best_model = grid_search.best_estimator_\n",
    "\n",
    "# Step 5: Predict on the test set\n",
    "predictions = best_model.predict(X_test)\n",
    "\n",
    "# Evaluate the model\n",
    "print(confusion_matrix(y_test, predictions))\n",
    "print(classification_report(y_test, predictions))"
   ]
  },
  {
   "cell_type": "code",
   "execution_count": null,
   "id": "4024a9ad",
   "metadata": {},
   "outputs": [],
   "source": [
    "# lets try using piping together the preprocessing aspect and estimator \n",
    "\n",
    "# Extract features and target\n",
    "X = data.drop('species', axis=1)\n",
    "y = data['species']\n",
    "\n",
    "# Split the data\n",
    "X_train, X_test, y_train, y_test = train_test_split(X_scaled, y, test_size=0.30, random_state=42)\n",
    "\n",
    "# Create a pipeline\n",
    "pipeline = Pipeline([\n",
    "    ('scaler', StandardScaler()),\n",
    "    ('mlp', MLPClassifier(max_iter=1000, random_state=42))\n",
    "])\n",
    "\n",
    "# Define the parameter grid for GridSearchCV\n",
    "param_grid = {\n",
    "    'mlp_hidden_layer_sizes': [(128, 64, 32), (512, 256, 128), (128, 128, 128, 128)],\n",
    "    'mlp_activation': ['relu']\n",
    "}\n",
    "\n",
    "# Create the GridSearchCV object\n",
    "grid_search = GridSearchCV(estimator=pipeline, param_grid=param_grid, cv=5, n_jobs=-1, verbose=2)\n",
    "\n",
    "# Perform the grid search\n",
    "grid_search.fit(X_train, y_train)\n",
    "\n",
    "# Get the best parameters\n",
    "best_params = grid_search.best_params_\n",
    "print(\"Best parameters found: \", best_params)\n",
    "\n",
    "# Evaluate the best model\n",
    "best_model = grid_search.best_estimator_\n",
    "\n",
    "# Predict on the test set\n",
    "predictions = best_model.predict(X_test)\n",
    "\n",
    "# Evaluate the model\n",
    "print(confusion_matrix(y_test, predictions))\n",
    "print(classification_report(y_test, predictions)) #intersting"
   ]
  },
  {
   "cell_type": "markdown",
   "id": "820b4e45",
   "metadata": {},
   "source": [
    "### Save any cells use for experimenting so that we can see what you tried ↑"
   ]
  },
  {
   "cell_type": "markdown",
   "id": "d8c5935a",
   "metadata": {},
   "source": [
    "<span style='color:green'>\n",
    "Even though the same list of hidden layer sizes and configurations was used for both models through a pipeline, GridSearchCV identified different best parameter groupings. Nevertheless, the models' performances were similar, indicating that multiple hyperparameter configurations can produce equivalent results.\n",
    "    \n",
    "\n",
    "<br>\n",
    "This emphasizes the flexibility and robustness of the neural network in adapting to various hyperparameter settings. It also emphasizes the importance of hyperparameter tuning, revealing that several optimal solutions may exist. Consistently applying preprocessing steps through a pipeline is crucial for maintaining the integrity of the model training and evaluation process.\n",
    "\n",
    "\n",
    "\n",
    "\n",
    "\n",
    "\n"
   ]
  },
  {
   "cell_type": "markdown",
   "id": "af0e02c9",
   "metadata": {},
   "source": [
    "### What works best for this model? "
   ]
  },
  {
   "cell_type": "markdown",
   "id": "0dc539ac",
   "metadata": {},
   "source": [
    "<span style='color:green'>\n",
    "    \n",
    "For these models, without using the pipeline technique, the best hidden layer sizes are (128, 64, 32). When using the pipeline technique, the best hiddent layer sizes are (512, 256, 128). Both scored an accuracy socre of 0.98"
   ]
  },
  {
   "cell_type": "code",
   "execution_count": null,
   "id": "5c1b3ce4",
   "metadata": {},
   "outputs": [],
   "source": [
    "# Confusion Matrix "
   ]
  },
  {
   "cell_type": "code",
   "execution_count": null,
   "id": "673f021c",
   "metadata": {},
   "outputs": [],
   "source": [
    "# extract features and target\n",
    "X = data.drop('species', axis=1)\n",
    "y = data['species']\n",
    "\n",
    "# 1. scale the data\n",
    "scaler = StandardScaler()\n",
    "X_scaled = scaler.fit_transform(X)\n",
    "\n",
    "# 2. split the data\n",
    "X_train, X_test, y_train, y_test = train_test_split(X_scaled, y, test_size=0.30, random_state=42)\n",
    "\n",
    "# hidden layers determined by using paramGrid\n",
    "hidden_layer_sizes = (128, 64, 32)\n",
    "\n",
    "# create and train the neural network\n",
    "mlp = MLPClassifier(hidden_layer_sizes=hidden_layer_sizes, activation='relu', max_iter=1000, random_state=42)\n",
    "mlp.fit(X_train, y_train)\n",
    "\n",
    "# predict on the test set\n",
    "predictions = mlp.predict(X_test)\n",
    "\n",
    "# create and plot the confusion matrix\n",
    "conf_matrix = confusion_matrix(y_test, predictions)\n",
    "plt.figure(figsize=(8, 6))\n",
    "sns.heatmap(conf_matrix, annot=True, fmt='d', cmap='Blues', xticklabels=iris.target_names, yticklabels=iris.target_names)\n",
    "plt.title('Confusion Matrix')\n",
    "plt.xlabel('Predicted')\n",
    "plt.ylabel('Actual')\n",
    "plt.show()\n",
    "\n",
    "conf_matrix"
   ]
  },
  {
   "cell_type": "markdown",
   "id": "ecd9a3bb",
   "metadata": {},
   "source": [
    "### This is the confusion matrix for the original model before experimenting with different layer sizes"
   ]
  },
  {
   "cell_type": "code",
   "execution_count": null,
   "id": "3ac45f8c",
   "metadata": {},
   "outputs": [],
   "source": [
    "# extract features and target\n",
    "X = data.drop('species', axis=1)\n",
    "y = data['species'] # target\n",
    "\n",
    "# 1. scale the data\n",
    "scaler = StandardScaler()\n",
    "X_scaled = scaler.fit_transform(X)\n",
    "\n",
    "# 2. split the data\n",
    "X_train, X_test, y_train, y_test = train_test_split(X_scaled, y, test_size=0.30, random_state=42)\n",
    "\n",
    "# 3. create a neural network\n",
    "mlp = MLPClassifier(hidden_layer_sizes=(256, 128, 64, 32), activation='relu', max_iter=1000, random_state=42)\n",
    "\n",
    "# 4. train the neural network\n",
    "mlp.fit(X_train, y_train)\n",
    "\n",
    "# 5. predict on the test set\n",
    "predictions = mlp.predict(X_test)\n",
    "\n",
    "# evaluating the model\n",
    "print(confusion_matrix(y_test, predictions))\n",
    "print(classification_report(y_test, predictions))\n",
    "\n",
    "# create and plot the confusion matrix\n",
    "conf_matrix = confusion_matrix(y_test, predictions)\n",
    "plt.figure(figsize=(8, 6))\n",
    "sns.heatmap(conf_matrix, annot=True, fmt='d', cmap='Blues', xticklabels=iris.target_names, yticklabels=iris.target_names)\n",
    "plt.title('Confusion Matrix')\n",
    "plt.xlabel('Predicted')\n",
    "plt.ylabel('Actual')\n",
    "plt.show()"
   ]
  }
 ],
 "metadata": {
  "kernelspec": {
   "display_name": "Python 3 (ipykernel)",
   "language": "python",
   "name": "python3"
  },
  "language_info": {
   "codemirror_mode": {
    "name": "ipython",
    "version": 3
   },
   "file_extension": ".py",
   "mimetype": "text/x-python",
   "name": "python",
   "nbconvert_exporter": "python",
   "pygments_lexer": "ipython3",
   "version": "3.11.0"
  }
 },
 "nbformat": 4,
 "nbformat_minor": 5
}
