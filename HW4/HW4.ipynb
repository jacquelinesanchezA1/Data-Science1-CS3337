{
 "cells": [
  {
   "cell_type": "markdown",
   "id": "d30aabce",
   "metadata": {},
   "source": [
    "Jacqueline Sanchez <br>\n",
    "June 25, 2024 <br> \n",
    "Homework 4"
   ]
  },
  {
   "cell_type": "markdown",
   "id": "9deaa93a",
   "metadata": {},
   "source": [
    "# Neural Networks"
   ]
  },
  {
   "cell_type": "markdown",
   "id": "aa578ace",
   "metadata": {},
   "source": [
    "Your task for this homework will be to construct a neural network for both a regression\n",
    "and classification task. We'll be using the california dataset for the regression portion,\n",
    "and iris for classification.By the end of this hw you should be comfortable using sklearn'sneural network on a dataset."
   ]
  },
  {
   "cell_type": "code",
   "execution_count": 4,
   "id": "da91b641",
   "metadata": {},
   "outputs": [],
   "source": [
    "# dataset importation\n",
    "from sklearn.datasets import fetch_california_housing, load_iris\n",
    "\n",
    "# tools \n",
    "import pandas as pd\n"
   ]
  },
  {
   "cell_type": "code",
   "execution_count": 13,
   "id": "b0b81d4b",
   "metadata": {},
   "outputs": [],
   "source": [
    "# Fetch the dataset as a DataFrame\n",
    "cali_housing = fetch_california_housing(as_frame=True) # regression portion\n",
    "iris = load_iris(as_frame=True)\n",
    "\n",
    "# Extract the DataFrame\n",
    "cali_housing_df = cali_housing.frame\n",
    "iris_df = iris.frame\n",
    "\n",
    "# Display the first few rows of the DataFrame\n",
    "# print(cali_housing_df.head())\n",
    "# print(iris_df.head())"
   ]
  }
 ],
 "metadata": {
  "kernelspec": {
   "display_name": "Python 3 (ipykernel)",
   "language": "python",
   "name": "python3"
  },
  "language_info": {
   "codemirror_mode": {
    "name": "ipython",
    "version": 3
   },
   "file_extension": ".py",
   "mimetype": "text/x-python",
   "name": "python",
   "nbconvert_exporter": "python",
   "pygments_lexer": "ipython3",
   "version": "3.11.0"
  }
 },
 "nbformat": 4,
 "nbformat_minor": 5
}
