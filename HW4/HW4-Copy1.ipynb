{
 "cells": [
  {
   "cell_type": "markdown",
   "id": "6f8ceff1",
   "metadata": {},
   "source": [
    "Jacqueline Sanchez <br>\n",
    "June 25, 2024 <br> \n",
    "Homework 4"
   ]
  },
  {
   "cell_type": "markdown",
   "id": "cb962483",
   "metadata": {},
   "source": [
    "# Neural Networks"
   ]
  },
  {
   "cell_type": "markdown",
   "id": "8ffdb6b4",
   "metadata": {},
   "source": [
    "Your task for this homework will be to construct a neural network for both a regression\n",
    "and classification task. We'll be using the california dataset for the regression portion,\n",
    "and iris for classification.By the end of this hw you should be comfortable using sklearn'sneural network on a dataset."
   ]
  },
  {
   "cell_type": "code",
   "execution_count": 4,
   "id": "e3cfb43f",
   "metadata": {},
   "outputs": [],
   "source": [
    "# dataset importation\n",
    "from sklearn.datasets import fetch_california_housing, load_iris\n",
    "\n",
    "# tools \n",
    "import pandas as pd\n"
   ]
  },
  {
   "cell_type": "code",
   "execution_count": 8,
   "id": "3f766e4a",
   "metadata": {},
   "outputs": [
    {
     "name": "stdout",
     "output_type": "stream",
     "text": [
      "   MedInc  HouseAge  AveRooms  AveBedrms  Population  AveOccup  Latitude  \\\n",
      "0  8.3252      41.0  6.984127   1.023810       322.0  2.555556     37.88   \n",
      "1  8.3014      21.0  6.238137   0.971880      2401.0  2.109842     37.86   \n",
      "2  7.2574      52.0  8.288136   1.073446       496.0  2.802260     37.85   \n",
      "3  5.6431      52.0  5.817352   1.073059       558.0  2.547945     37.85   \n",
      "4  3.8462      52.0  6.281853   1.081081       565.0  2.181467     37.85   \n",
      "\n",
      "   Longitude  Target  \n",
      "0    -122.23   4.526  \n",
      "1    -122.22   3.585  \n",
      "2    -122.24   3.521  \n",
      "3    -122.25   3.413  \n",
      "4    -122.25   3.422  \n"
     ]
    }
   ],
   "source": [
    "# cali_housing = fetch_california_housing()\n",
    "\n",
    "cali_housing = fetch_california_housing()\n",
    "\n",
    "cali_housing_df = pd.DataFrame(data = cali_housing.data, columns = cali_housing.feature_names)\n",
    "cali_housing_df['Target'] = cali_housing.target\n",
    "\n",
    "print(cali_housing_df.head())"
   ]
  },
  {
   "cell_type": "code",
   "execution_count": 10,
   "id": "d3bdd46e",
   "metadata": {},
   "outputs": [
    {
     "name": "stdout",
     "output_type": "stream",
     "text": [
      "   MedInc  HouseAge  AveRooms  AveBedrms  Population  AveOccup  Latitude  \\\n",
      "0  8.3252      41.0  6.984127   1.023810       322.0  2.555556     37.88   \n",
      "1  8.3014      21.0  6.238137   0.971880      2401.0  2.109842     37.86   \n",
      "2  7.2574      52.0  8.288136   1.073446       496.0  2.802260     37.85   \n",
      "3  5.6431      52.0  5.817352   1.073059       558.0  2.547945     37.85   \n",
      "4  3.8462      52.0  6.281853   1.081081       565.0  2.181467     37.85   \n",
      "\n",
      "   Longitude  MedHouseVal  \n",
      "0    -122.23        4.526  \n",
      "1    -122.22        3.585  \n",
      "2    -122.24        3.521  \n",
      "3    -122.25        3.413  \n",
      "4    -122.25        3.422  \n"
     ]
    }
   ],
   "source": [
    "import pandas as pd\n",
    "from sklearn.datasets import fetch_california_housing\n",
    "\n",
    "# Fetch the dataset as a DataFrame\n",
    "cali_housing = fetch_california_housing(as_frame=True)\n",
    "\n",
    "# Extract the DataFrame\n",
    "cali_housing_df = cali_housing.frame\n",
    "\n",
    "# Display the first few rows of the DataFrame\n",
    "print(cali_housing_df.head())\n"
   ]
  }
 ],
 "metadata": {
  "kernelspec": {
   "display_name": "Python 3 (ipykernel)",
   "language": "python",
   "name": "python3"
  },
  "language_info": {
   "codemirror_mode": {
    "name": "ipython",
    "version": 3
   },
   "file_extension": ".py",
   "mimetype": "text/x-python",
   "name": "python",
   "nbconvert_exporter": "python",
   "pygments_lexer": "ipython3",
   "version": "3.11.0"
  }
 },
 "nbformat": 4,
 "nbformat_minor": 5
}
