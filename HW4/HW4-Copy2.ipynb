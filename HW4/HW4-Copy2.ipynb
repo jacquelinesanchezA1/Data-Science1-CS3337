{
 "cells": [
  {
   "cell_type": "markdown",
   "id": "d30aabce",
   "metadata": {},
   "source": [
    "Jacqueline Sanchez <br>\n",
    "June 25, 2024 <br> \n",
    "Homework 4"
   ]
  },
  {
   "cell_type": "markdown",
   "id": "9deaa93a",
   "metadata": {},
   "source": [
    "# Neural Networks"
   ]
  },
  {
   "cell_type": "markdown",
   "id": "aa578ace",
   "metadata": {},
   "source": [
    "Your task for this homework will be to construct a neural network for both a regression\n",
    "and classification task. We'll be using the california dataset for the regression portion,\n",
    "and iris for classification.By the end of this hw you should be comfortable using sklearn'sneural network on a dataset."
   ]
  },
  {
   "cell_type": "code",
   "execution_count": 15,
   "id": "da91b641",
   "metadata": {},
   "outputs": [],
   "source": [
    "# dataset importation\n",
    "from sklearn.datasets import fetch_california_housing, load_iris\n",
    "\n",
    "# tools \n",
    "import pandas as pd\n",
    "from sklearn.model_selection import train_test_split\n"
   ]
  },
  {
   "cell_type": "markdown",
   "id": "2c7c36ef",
   "metadata": {},
   "source": [
    "## Artificial Neural Network for Regressional Task"
   ]
  },
  {
   "cell_type": "markdown",
   "id": "78f6b85a",
   "metadata": {},
   "source": [
    "### Part 1: Reading and Understanding the Data (Regression Part)"
   ]
  },
  {
   "cell_type": "code",
   "execution_count": 21,
   "id": "b0b81d4b",
   "metadata": {},
   "outputs": [],
   "source": [
    "# loading california housing dataset\n",
    "cali_housing = fetch_california_housing()\n",
    "cali_features = pd.DataFrame(cali_housing.data, columns = cali_housing.feature_names)\n",
    "\n",
    "# create a dataframe for the target\n",
    "cali_target = pd.DataFrame(cali_housing.target, columns=[\"target\"])\n",
    "\n",
    "# concat both dataframes\n",
    "california_df = pd.concat([cali_features, cali_target], axis = 1)\n",
    "\n",
    "###### Preparaing data for training ######\n",
    "\n",
    "# Saving data into df X\n",
    "X = california_df.drop('target', axis = 1)\n",
    "\n",
    "# Target/labels variable into Y\n",
    "y = california_df['target']\n",
    "\n",
    "X_train, X_test, y_train, y_test = train_test_split(X, y, test_size = 0.2, random_state=42)\n",
    "\n",
    "# print(cali_housing.keys())\n",
    "# print(california_df.head())"
   ]
  },
  {
   "cell_type": "code",
   "execution_count": 19,
   "id": "982d0ece",
   "metadata": {
    "scrolled": false
   },
   "outputs": [],
   "source": [
    "# print(\"Training features: \")\n",
    "# print(X_train)\n",
    "\n",
    "# print(\"\\nTrain Labels: \")\n",
    "# print(y_train)\n",
    "\n",
    "# print(\"\\nTesting Features: \")\n",
    "# print(X_test)\n",
    "\n",
    "# print(\"n\\Testing Labels: \")\n",
    "# print(y_test)"
   ]
  },
  {
   "cell_type": "code",
   "execution_count": null,
   "id": "02bb5f93",
   "metadata": {},
   "outputs": [],
   "source": []
  },
  {
   "cell_type": "code",
   "execution_count": null,
   "id": "13df327c",
   "metadata": {},
   "outputs": [],
   "source": []
  },
  {
   "cell_type": "code",
   "execution_count": null,
   "id": "5daecf66",
   "metadata": {},
   "outputs": [],
   "source": []
  },
  {
   "cell_type": "code",
   "execution_count": null,
   "id": "1adf752e",
   "metadata": {},
   "outputs": [],
   "source": []
  },
  {
   "cell_type": "code",
   "execution_count": null,
   "id": "b97f8e10",
   "metadata": {},
   "outputs": [],
   "source": []
  },
  {
   "cell_type": "code",
   "execution_count": null,
   "id": "e1111fd1",
   "metadata": {},
   "outputs": [],
   "source": []
  }
 ],
 "metadata": {
  "kernelspec": {
   "display_name": "Python 3 (ipykernel)",
   "language": "python",
   "name": "python3"
  },
  "language_info": {
   "codemirror_mode": {
    "name": "ipython",
    "version": 3
   },
   "file_extension": ".py",
   "mimetype": "text/x-python",
   "name": "python",
   "nbconvert_exporter": "python",
   "pygments_lexer": "ipython3",
   "version": "3.11.0"
  }
 },
 "nbformat": 4,
 "nbformat_minor": 5
}
