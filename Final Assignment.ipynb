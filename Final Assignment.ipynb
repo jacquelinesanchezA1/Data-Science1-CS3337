{
 "cells": [
  {
   "cell_type": "markdown",
   "id": "2fbb29ea",
   "metadata": {},
   "source": [
    "Guidelines\n",
    "\n",
    "To ensure a successful submission and receive a passing grade for the project, please adhere to the following guidelines:\n",
    "\n",
    "Prepare your source code in a well-documented manner, including comments, docstrings, and your PeopleSoft ID.\n",
    "\n",
    "Provide detailed docstrings comments within your source code, explaining the program's intended functionality.\n",
    "\n",
    "Verify that your source code runs without any syntax errors.\n",
    "\n",
    "Save the file as FirstName_LastName_assignmentNumber.ipynb in the .ipynb format.\n",
    "\n",
    "Before submitting, thoroughly test your code with various input values to ensure its correct operation.\n",
    "\n",
    "Submit the file to the course website.\n",
    "\n",
    "The University of Houston Academic Honesty Policy applies-http://www.uh.edu/provost/policies/honesty. Please ensure you are familiar with the policy and osbserve it while doing your assignments.\n",
    "\n",
    "Artificial Intelligence: No Artificial Intelligence (AI) aside from spellcheck in word processing programs may be used in this assignment. Turnitin or other similar software programs may be used on written assignments to check for the use of ChatGPT or similar AI program. \n",
    "\n",
    "\n",
    "\n",
    "Problems"
   ]
  },
  {
   "cell_type": "markdown",
   "id": "905d5aa6",
   "metadata": {},
   "source": [
    "Problem 1) \n",
    "\n",
    "Kids Game\n",
    "\n",
    "Develop a simple game that tests 3rd to 4th-grade students, on how well they can solve problems involving division with integer numbers. Your function game() will take an integer n as input and then ask n division questions. The numbers to be divided should be chosen randomly such that :\n",
    "\n",
    "a) the divisor should be in the range [1, 9] (i.e.,1 to 9 inclusive). \n",
    "\n",
    "b) the dividend should be in the range [9, 1000] (i.e.,9 to 1000 inclusive). The user will enter the answer for both the quotient and remainder when prompted. Your function should print 'Correct' for correct answers and 'Incorrect' for incorrect answers. After n questions, your function should print the number of correct answers.\n",
    "\n",
    "      game(3)\n",
    "\n",
    "      100 / 2 =\n",
    "\n",
    "      Enter the Quotient: 50\n",
    "\n",
    "      Enter the Remainder: 0\n",
    "\n",
    "      Correct.\n",
    "\n",
    "      30 / 9 =\n",
    "\n",
    "      Enter the Quotient: 4\n",
    "\n",
    "      Enter the Remainder: 0\n",
    "\n",
    "      Incorrect.\n",
    "\n",
    "      50  / 7 =\n",
    "\n",
    "      Enter the Quotient: 7\n",
    "\n",
    "      Enter the Remainder:  1\n",
    "\n",
    "      Correct.\n",
    "\n",
    "      You got 2 correct answers out of 3\n"
   ]
  },
  {
   "cell_type": "code",
   "execution_count": null,
   "id": "48167ae5",
   "metadata": {},
   "outputs": [],
   "source": []
  },
  {
   "cell_type": "markdown",
   "id": "130dfa92",
   "metadata": {},
   "source": [
    "Problem 2)\n",
    "\n",
    "2a)\n",
    "\n",
    "Suppose you want to find the slope between two points in 2-Dimensional Space (2D), namely point_a and point_b such that  point_a is (a, f(a)) and  point_b is (b, f(b)) where f(x)  =  x^2+ 3x –7.\n",
    "\n",
    "Enter the one-line lambda function f(x) = x^2+ 3x –7,\n",
    "\n",
    "Create a function g(a, b) that will find the slope between two points,  x = a and x = b on f(x).\n",
    "\n",
    "Use g to find the slope between x @ a =  5 and x  @ b = 13\n",
    "\n",
    "Use g to find the slope between x @a = -4 and x  @ b = 6\n",
    "\n",
    "2b). Write a function info(a, b) that takes two points  (a, f(a)) and (b, f(b)) where f(x)  = x^2 + 5x - 7; and returns three things about the segment  between the two points:\n",
    "\n",
    "Its slope\n",
    "\n",
    "Its midpoint\n",
    "\n",
    "Its length ( Euclidean distance)"
   ]
  },
  {
   "cell_type": "code",
   "execution_count": null,
   "id": "1dad9796",
   "metadata": {},
   "outputs": [],
   "source": []
  },
  {
   "cell_type": "markdown",
   "id": "b469f7d8",
   "metadata": {},
   "source": [
    "Problem 3)\n",
    "\n",
    "Write a Python program or function that does:\n",
    "\n",
    "loads the Stockholm temperature dataset via appropriate numpy functions, use exceptions to trap failure in case the file does not exist.\n",
    "\n",
    "generate numpy array of the morning temperatures in the Fahrenheit temperature scale, note temperature was initially in the Celsius scale.\n",
    "\n",
    "generate a series plot of the morning temperature in Fahrenheit vs time. Label the title, legend, and axes accordingly.\n",
    "\n",
    "generate a histogram of the morning temperature in Fahrenheit to reflect the temperature distribution. Label the title, legend and axes accordingly.\n"
   ]
  },
  {
   "cell_type": "code",
   "execution_count": null,
   "id": "8aeadc38",
   "metadata": {},
   "outputs": [],
   "source": []
  },
  {
   "cell_type": "markdown",
   "id": "eff3a6f4",
   "metadata": {},
   "source": [
    "Problem 4)\n",
    "\n",
    " Detecting Trends Language on Twitter\n",
    "\n",
    "This subproject will allow you to practice manipulating dictionaries and files in your Python scripts. The goal is to keep track of trendy topics in a sample of Twitter data. You will need two files posted on the course website: twitter_data.txt.\n",
    "\n",
    "WARNING: Some of the tweets in the sample file actually do contain swear words.\n",
    "\n",
    "4a). Detecting Topic Trends on Twitter\n",
    "\n",
    "One of Twitter's services is the ability to track the most popular topics. For this part of the assignment, you will do something similar. Your task is to keep track of the issues identified by users with the hashtag symbol ‘#’. You will also need to count the frequency of the hashtags you found and provide a ranking of hashtags based on their frequency. The output of your script should be one file, named top_hashtags.txt, with the N most popular hashtags, where N is a parameter to your function. For example, assume this is the content of your twitter_data.txt file:\n",
    "\n",
    "      #lebron is the best athlete of our generation\n",
    "\n",
    "      ML 5 Demos! Lots of great stuff to come! Yes, I&#39;m excited. :) http://htmlfive.appspot.com #io2009 #googleio\n",
    "\n",
    "      At GWT fireside chat #googleio\n",
    "\n",
    "      @khalid0456 No, Lebron is the best #lebron\n",
    "\n",
    " If N is set to 2, then your script should generate a file top_hashtags.txt with the following content (note that in the case of ties the order doesn’t matter):\n",
    "\n",
    "      #googleio 2\n",
    "\n",
    "      #lebron 2"
   ]
  },
  {
   "cell_type": "code",
   "execution_count": null,
   "id": "f982429a",
   "metadata": {},
   "outputs": [],
   "source": []
  },
  {
   "cell_type": "markdown",
   "id": "237af3cb",
   "metadata": {},
   "source": [
    "\n",
    "Problem 5)\n",
    "\n",
    " Write a Python program or function that does:\n",
    "\n",
    "5a) loads the Stockholm temperature dataset via appropriate NumPy functions\n",
    "\n",
    "5b) generate NumPy array of the average daily temperature  (i.e. morning + afternoon + evening )/3 )  in Fahrenheit temperature scale, note temperature was initially in Celsius scale.\n",
    "\n",
    "5c) generate a series plot of the average daily temperature for the 19th century in Fahrenheit vs. time. Label the title, legend, and axes accordingly.\n",
    "\n",
    "5d) generate a histogram of the average daily temperature in Fahrenheit for the 18th and 20th centuries to reflect the temperature distribution. Label the title, legend, and axes accordingly.\n",
    "\n",
    "5e) split the data into three subgroups based on timeline/periods (i.e. 18th century, 19th century, and 20th century), and save the separated data sets to disk using NumPy's savecompressed. Hint label the 18th century as a 19th century as b, and the 20th century as c.\n"
   ]
  },
  {
   "cell_type": "code",
   "execution_count": null,
   "id": "c042b42e",
   "metadata": {},
   "outputs": [],
   "source": []
  },
  {
   "cell_type": "markdown",
   "id": "28ab4d04",
   "metadata": {},
   "source": [
    " 6 ) \n",
    "\n",
    "Write a Python program that will find the longest word among several files. The program should print the word or words(sometimes 2 or more words have the highest rank), the number of characters in that word, and the file name. Hint you will be using dictionaries, string modules, and files for this exercise. The files for this exercise include tomsawyer.txt, a-princess-of-mars.txt, great_expectations.txt, lorem-ipsum.txt moby-dick.txt."
   ]
  }
 ],
 "metadata": {
  "kernelspec": {
   "display_name": "Python 3 (ipykernel)",
   "language": "python",
   "name": "python3"
  },
  "language_info": {
   "codemirror_mode": {
    "name": "ipython",
    "version": 3
   },
   "file_extension": ".py",
   "mimetype": "text/x-python",
   "name": "python",
   "nbconvert_exporter": "python",
   "pygments_lexer": "ipython3",
   "version": "3.11.0"
  }
 },
 "nbformat": 4,
 "nbformat_minor": 5
}
