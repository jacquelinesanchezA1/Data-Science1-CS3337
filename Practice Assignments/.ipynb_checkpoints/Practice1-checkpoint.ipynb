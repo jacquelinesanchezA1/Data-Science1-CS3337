{
 "cells": [
  {
   "cell_type": "markdown",
   "id": "7682a8de",
   "metadata": {},
   "source": [
    "* Jacqueline Sanchez\n",
    "* Cougarnet ID: Jsanche87\n",
    "* COSC 3337 | Summer 2024\n",
    "* Practice Assigment 1\n"
   ]
  },
  {
   "cell_type": "code",
   "execution_count": 1,
   "id": "0a87b70e",
   "metadata": {},
   "outputs": [],
   "source": [
    "import numpy as np"
   ]
  },
  {
   "cell_type": "markdown",
   "id": "a15f8f03",
   "metadata": {},
   "source": [
    "## Creating Arrays and Common Methods\n",
    "\n",
    "The first way of creating a NumPy array is by converting your existing Python list."
   ]
  },
  {
   "cell_type": "code",
   "execution_count": 2,
   "id": "6b32e4c9",
   "metadata": {},
   "outputs": [
    {
     "name": "stdout",
     "output_type": "stream",
     "text": [
      "[1, 2, 3, 4, 5]\n",
      "<class 'list'>\n"
     ]
    }
   ],
   "source": [
    "python_list = [1, 2, 3, 4, 5]\n",
    "print(python_list)\n",
    "print(type(python_list))"
   ]
  },
  {
   "cell_type": "code",
   "execution_count": 3,
   "id": "e924eced",
   "metadata": {},
   "outputs": [
    {
     "name": "stdout",
     "output_type": "stream",
     "text": [
      "[2, 4, 5, 7, 9, 12]\n",
      "<class 'list'>\n"
     ]
    }
   ],
   "source": [
    "python_list1 = [2, 4, 5, 7, 9, 12]\n",
    "print(python_list1)\n",
    "print(type(python_list1))"
   ]
  },
  {
   "cell_type": "code",
   "execution_count": 4,
   "id": "7a1d4727",
   "metadata": {},
   "outputs": [
    {
     "name": "stdout",
     "output_type": "stream",
     "text": [
      "['apple', 'blueberry', 'carrots']\n",
      "<class 'list'>\n"
     ]
    }
   ],
   "source": [
    "python_list2 = ['apple', 'blueberry', 'carrots']\n",
    "print(python_list2)\n",
    "print(type(python_list2))"
   ]
  },
  {
   "cell_type": "code",
   "execution_count": 6,
   "id": "04d1ec12",
   "metadata": {},
   "outputs": [],
   "source": [
    "# creating a numpy array! (:"
   ]
  },
  {
   "cell_type": "code",
   "execution_count": 5,
   "id": "4ad1cba1",
   "metadata": {},
   "outputs": [
    {
     "name": "stdout",
     "output_type": "stream",
     "text": [
      "[1 2 3 4 5]\n",
      "<class 'numpy.ndarray'>\n"
     ]
    }
   ],
   "source": [
    "numpy_array = np.array(python_list)\n",
    "print(numpy_array)\n",
    "print(type(numpy_array))"
   ]
  },
  {
   "cell_type": "code",
   "execution_count": 10,
   "id": "502e1fb1",
   "metadata": {},
   "outputs": [
    {
     "name": "stdout",
     "output_type": "stream",
     "text": [
      "[[1, 2, 3, 4, 5], [6, 7, 8, 9, 10], [11, 12, 13, 14, 15]]\n",
      "<class 'list'>\n"
     ]
    }
   ],
   "source": [
    "python_2d_array = [[1 , 2, 3, 4, 5], [6, 7, 8, 9, 10], [11, 12, 13, 14, 15]]\n",
    "print(python_2d_array)\n",
    "print(type(python_2d_array))"
   ]
  },
  {
   "cell_type": "code",
   "execution_count": 8,
   "id": "012cebb9",
   "metadata": {},
   "outputs": [
    {
     "name": "stdout",
     "output_type": "stream",
     "text": [
      "[['a', 'b', 'c', 'd', 'e'], ['c', 'o', 'w', 's', 'moo']]\n",
      "<class 'list'>\n"
     ]
    }
   ],
   "source": [
    "python_2d_array2 = [['a', 'b', 'c', 'd', 'e'], ['c', 'o', 'w', 's', 'moo']]\n",
    "print(python_2d_array2)\n",
    "print(type(python_2d_array2))"
   ]
  },
  {
   "cell_type": "code",
   "execution_count": 9,
   "id": "d875d728",
   "metadata": {},
   "outputs": [],
   "source": [
    "# rows seem to be consider lists, interesting"
   ]
  },
  {
   "cell_type": "code",
   "execution_count": 11,
   "id": "0902e0ae",
   "metadata": {},
   "outputs": [
    {
     "name": "stdout",
     "output_type": "stream",
     "text": [
      "[[ 1  2  3  4  5]\n",
      " [ 6  7  8  9 10]\n",
      " [11 12 13 14 15]]\n",
      "<class 'numpy.ndarray'>\n"
     ]
    }
   ],
   "source": [
    "numpy_2d_array = np.array(python_2d_array) #updating the current 2d array\n",
    "print(numpy_2d_array)\n",
    "print(type(numpy_2d_array))"
   ]
  },
  {
   "cell_type": "code",
   "execution_count": 11,
   "id": "25951679",
   "metadata": {},
   "outputs": [
    {
     "name": "stdout",
     "output_type": "stream",
     "text": [
      "[['a' 'b' 'c' 'd' 'e']\n",
      " ['c' 'o' 'w' 's' 'moo']]\n",
      "<class 'numpy.ndarray'>\n"
     ]
    }
   ],
   "source": [
    "numpy_2d_array2 = np.array(python_2d_array2)\n",
    "print(numpy_2d_array2)\n",
    "print(type(numpy_2d_array2))"
   ]
  },
  {
   "cell_type": "markdown",
   "id": "aa84bb63",
   "metadata": {},
   "source": [
    "However, you are more likely to use some of NumPy's built in methods to generate ndarrays. Here we'll introduce you to a few of these built in methods. "
   ]
  },
  {
   "cell_type": "markdown",
   "id": "8e9daf53",
   "metadata": {},
   "source": [
    "**arrange(start,stop,step)** will return evenly spaced values within a given interval. The default step size is 1. "
   ]
  },
  {
   "cell_type": "code",
   "execution_count": 12,
   "id": "308e33cc",
   "metadata": {},
   "outputs": [
    {
     "data": {
      "text/plain": [
       "array([ 0,  1,  2,  3,  4,  5,  6,  7,  8,  9, 10, 11, 12, 13, 14])"
      ]
     },
     "execution_count": 12,
     "metadata": {},
     "output_type": "execute_result"
    }
   ],
   "source": [
    "np.arange(0, 15)"
   ]
  },
  {
   "cell_type": "code",
   "execution_count": 21,
   "id": "ca002920",
   "metadata": {},
   "outputs": [
    {
     "data": {
      "text/plain": [
       "array([ 0,  2,  4,  6,  8, 10, 12, 14])"
      ]
     },
     "execution_count": 21,
     "metadata": {},
     "output_type": "execute_result"
    }
   ],
   "source": [
    "np.arange(0, 15, 2)"
   ]
  },
  {
   "cell_type": "code",
   "execution_count": 14,
   "id": "71bc3bae",
   "metadata": {},
   "outputs": [
    {
     "data": {
      "text/plain": [
       "array([-5,  0,  5, 10, 15, 20, 25])"
      ]
     },
     "execution_count": 14,
     "metadata": {},
     "output_type": "execute_result"
    }
   ],
   "source": [
    "np.arange(-5, 30, 5) # starts at -5 ends before 30 at intervals of 5"
   ]
  },
  {
   "cell_type": "markdown",
   "id": "47f6b795",
   "metadata": {},
   "source": [
    "What if we wanted a 2d array instead? We can call **reshape(rows, columns)** on an existing NumPy array. Please note that the product of rows and columns must evaluate to the total number of elements in your current NumPy"
   ]
  },
  {
   "cell_type": "code",
   "execution_count": 24,
   "id": "b06d9c56",
   "metadata": {},
   "outputs": [
    {
     "data": {
      "text/plain": [
       "array([[ 0,  1,  2,  3,  4],\n",
       "       [ 5,  6,  7,  8,  9],\n",
       "       [10, 11, 12, 13, 14]])"
      ]
     },
     "execution_count": 24,
     "metadata": {},
     "output_type": "execute_result"
    }
   ],
   "source": [
    "np.arange(0, 15).reshape(3, 5) # this reshapes it to a 3x5 2d array!"
   ]
  },
  {
   "cell_type": "code",
   "execution_count": 17,
   "id": "27dbf052",
   "metadata": {},
   "outputs": [
    {
     "data": {
      "text/plain": [
       "array([[ 0,  1,  2],\n",
       "       [ 3,  4,  5],\n",
       "       [ 6,  7,  8],\n",
       "       [ 9, 10, 11],\n",
       "       [12, 13, 14]])"
      ]
     },
     "execution_count": 17,
     "metadata": {},
     "output_type": "execute_result"
    }
   ],
   "source": [
    "np.arange(0, 15).reshape(5, 3) # this reshapes it to a 5x3 2d array!"
   ]
  },
  {
   "cell_type": "markdown",
   "id": "f49d6b51",
   "metadata": {},
   "source": [
    "If we'd like to generate an ndarry of zeroes or ones (useful with certain calculations), we could do so by simply calling **zeros** or **ones**. For example: "
   ]
  },
  {
   "cell_type": "code",
   "execution_count": 25,
   "id": "af47a7a3",
   "metadata": {},
   "outputs": [
    {
     "data": {
      "text/plain": [
       "array([0., 0., 0., 0., 0., 0., 0., 0., 0., 0., 0., 0., 0., 0., 0.])"
      ]
     },
     "execution_count": 25,
     "metadata": {},
     "output_type": "execute_result"
    }
   ],
   "source": [
    "np.zeros(15)"
   ]
  },
  {
   "cell_type": "code",
   "execution_count": 19,
   "id": "beda1f7c",
   "metadata": {},
   "outputs": [
    {
     "data": {
      "text/plain": [
       "array([0., 0., 0.])"
      ]
     },
     "execution_count": 19,
     "metadata": {},
     "output_type": "execute_result"
    }
   ],
   "source": [
    "np.zeros(3)"
   ]
  },
  {
   "cell_type": "code",
   "execution_count": 29,
   "id": "ae01eaad",
   "metadata": {},
   "outputs": [
    {
     "data": {
      "text/plain": [
       "array([[0., 0., 0., 0., 0.],\n",
       "       [0., 0., 0., 0., 0.],\n",
       "       [0., 0., 0., 0., 0.]])"
      ]
     },
     "execution_count": 29,
     "metadata": {},
     "output_type": "execute_result"
    }
   ],
   "source": [
    "np.zeros(15).reshape(3, 5) # there are 15 zeros in a 3x5 matrix!"
   ]
  },
  {
   "cell_type": "code",
   "execution_count": 20,
   "id": "537016d7",
   "metadata": {},
   "outputs": [
    {
     "data": {
      "text/plain": [
       "array([[0., 0., 0.],\n",
       "       [0., 0., 0.],\n",
       "       [0., 0., 0.],\n",
       "       [0., 0., 0.],\n",
       "       [0., 0., 0.]])"
      ]
     },
     "execution_count": 20,
     "metadata": {},
     "output_type": "execute_result"
    }
   ],
   "source": [
    "np.zeros(15).reshape(5, 3) # there are 15 zeros in a 5x3 matrix!"
   ]
  },
  {
   "cell_type": "code",
   "execution_count": 31,
   "id": "c520962f",
   "metadata": {},
   "outputs": [
    {
     "data": {
      "text/plain": [
       "array([1., 1., 1., 1., 1., 1., 1., 1., 1., 1., 1., 1., 1., 1., 1.])"
      ]
     },
     "execution_count": 31,
     "metadata": {},
     "output_type": "execute_result"
    }
   ],
   "source": [
    "np.ones(15) # returns a 1x15 row of 1's"
   ]
  },
  {
   "cell_type": "code",
   "execution_count": 21,
   "id": "214ae9af",
   "metadata": {},
   "outputs": [
    {
     "data": {
      "text/plain": [
       "array([[1., 1., 1., 1., 1.],\n",
       "       [1., 1., 1., 1., 1.],\n",
       "       [1., 1., 1., 1., 1.]])"
      ]
     },
     "execution_count": 21,
     "metadata": {},
     "output_type": "execute_result"
    }
   ],
   "source": [
    "np.ones(15).reshape(3, 5)"
   ]
  },
  {
   "cell_type": "code",
   "execution_count": 25,
   "id": "7596a94d",
   "metadata": {},
   "outputs": [
    {
     "data": {
      "text/plain": [
       "array([[1., 1., 1., 1., 1., 1., 1., 1., 1., 1., 1.],\n",
       "       [1., 1., 1., 1., 1., 1., 1., 1., 1., 1., 1.],\n",
       "       [1., 1., 1., 1., 1., 1., 1., 1., 1., 1., 1.],\n",
       "       [1., 1., 1., 1., 1., 1., 1., 1., 1., 1., 1.]])"
      ]
     },
     "execution_count": 25,
     "metadata": {},
     "output_type": "execute_result"
    }
   ],
   "source": [
    "np.ones(44).reshape(4, 11) # remind me of the functions used in Matlab "
   ]
  },
  {
   "cell_type": "markdown",
   "id": "5ea5445a",
   "metadata": {},
   "source": [
    "You might have noticed that these values defaulted to floats. If for some reason you'd like to use a different type, say, iint you can insert an additional *parameter* such as **dtype = int**. See more on dtypes [here](https://numpy.org/doc/stable/user/basics.types.html)\n"
   ]
  },
  {
   "cell_type": "code",
   "execution_count": 35,
   "id": "54a2a6cc",
   "metadata": {},
   "outputs": [
    {
     "data": {
      "text/plain": [
       "array([[1, 1, 1, 1, 1],\n",
       "       [1, 1, 1, 1, 1],\n",
       "       [1, 1, 1, 1, 1]])"
      ]
     },
     "execution_count": 35,
     "metadata": {},
     "output_type": "execute_result"
    }
   ],
   "source": [
    "np.ones(15, dtype=int).reshape(3,5)"
   ]
  },
  {
   "cell_type": "code",
   "execution_count": 27,
   "id": "a6ce4795",
   "metadata": {},
   "outputs": [
    {
     "data": {
      "text/plain": [
       "array([[1, 1, 1, 1, 1],\n",
       "       [1, 1, 1, 1, 1],\n",
       "       [1, 1, 1, 1, 1],\n",
       "       [1, 1, 1, 1, 1],\n",
       "       [1, 1, 1, 1, 1]])"
      ]
     },
     "execution_count": 27,
     "metadata": {},
     "output_type": "execute_result"
    }
   ],
   "source": [
    "np.ones(25, dtype=int).reshape(5,5)"
   ]
  },
  {
   "cell_type": "markdown",
   "id": "635c0965",
   "metadata": {},
   "source": [
    "A common matrix used in linear algebra is the identity matrix (an nxn squared matrix with ones on the main diagonal and zeros elsewhere). We can generate this in the NumPy using **eye(n)**. "
   ]
  },
  {
   "cell_type": "code",
   "execution_count": 38,
   "id": "8242006a",
   "metadata": {},
   "outputs": [
    {
     "data": {
      "text/plain": [
       "array([[1., 0., 0., 0., 0.],\n",
       "       [0., 1., 0., 0., 0.],\n",
       "       [0., 0., 1., 0., 0.],\n",
       "       [0., 0., 0., 1., 0.],\n",
       "       [0., 0., 0., 0., 1.]])"
      ]
     },
     "execution_count": 38,
     "metadata": {},
     "output_type": "execute_result"
    }
   ],
   "source": [
    "np.eye(5) # this function looks familiar, i've seen it using matlab! it returns the identity matrix of given dimension!"
   ]
  },
  {
   "cell_type": "code",
   "execution_count": 39,
   "id": "e4a5001a",
   "metadata": {},
   "outputs": [
    {
     "data": {
      "text/plain": [
       "array([[1, 0, 0, 0, 0],\n",
       "       [0, 1, 0, 0, 0],\n",
       "       [0, 0, 1, 0, 0],\n",
       "       [0, 0, 0, 1, 0],\n",
       "       [0, 0, 0, 0, 1]])"
      ]
     },
     "execution_count": 39,
     "metadata": {},
     "output_type": "execute_result"
    }
   ],
   "source": [
    "np.eye(5, dtype=int)"
   ]
  },
  {
   "cell_type": "code",
   "execution_count": 28,
   "id": "15cc3a63",
   "metadata": {},
   "outputs": [
    {
     "data": {
      "text/plain": [
       "array([[1, 0, 0, 0],\n",
       "       [0, 1, 0, 0],\n",
       "       [0, 0, 1, 0],\n",
       "       [0, 0, 0, 1]])"
      ]
     },
     "execution_count": 28,
     "metadata": {},
     "output_type": "execute_result"
    }
   ],
   "source": [
    "np.eye(4, dtype=int)"
   ]
  },
  {
   "cell_type": "markdown",
   "id": "56afc9aa",
   "metadata": {},
   "source": [
    "Another common use case is to generate an ndarray of random numbers. This can be done in 2 ways. **rand**(which will fill the ndarray with random samples from a uniform distribution over [0,1) ), and **randn** (which will return a sample (or samples_ from the standard normal distribution.) Additionally, we cam use **randint(low, high, size)** to generate a single or multiple random integers between [low, high). The size parameter specifies how many we'd like. Let's see a few examples. "
   ]
  },
  {
   "cell_type": "code",
   "execution_count": 29,
   "id": "ef7e6067",
   "metadata": {},
   "outputs": [
    {
     "data": {
      "text/plain": [
       "array([0.7262465 , 0.05961022, 0.03088697, 0.69181218, 0.34345168])"
      ]
     },
     "execution_count": 29,
     "metadata": {},
     "output_type": "execute_result"
    }
   ],
   "source": [
    "np.random.rand(5) # from uniform distribution"
   ]
  },
  {
   "cell_type": "code",
   "execution_count": 30,
   "id": "1a5550e5",
   "metadata": {},
   "outputs": [
    {
     "data": {
      "text/plain": [
       "array([ 0.76791405, -0.08744332,  0.56510842,  0.55254406, -1.24805239])"
      ]
     },
     "execution_count": 30,
     "metadata": {},
     "output_type": "execute_result"
    }
   ],
   "source": [
    "np.random.randn(5) # from standard normal distribution "
   ]
  },
  {
   "cell_type": "code",
   "execution_count": 31,
   "id": "601241be",
   "metadata": {},
   "outputs": [
    {
     "data": {
      "text/plain": [
       "77"
      ]
     },
     "execution_count": 31,
     "metadata": {},
     "output_type": "execute_result"
    }
   ],
   "source": [
    "np.random.randint(1,100) # returns a random number from 1-100"
   ]
  },
  {
   "cell_type": "code",
   "execution_count": 32,
   "id": "49329a95",
   "metadata": {},
   "outputs": [
    {
     "data": {
      "text/plain": [
       "198"
      ]
     },
     "execution_count": 32,
     "metadata": {},
     "output_type": "execute_result"
    }
   ],
   "source": [
    "np.random.randint(1,210) # returns a random number from 1-210"
   ]
  },
  {
   "cell_type": "markdown",
   "id": "775af3da",
   "metadata": {},
   "source": [
    "Other common methods that you're like to encounter in this class includ **min**, **max**, **argmin**, and **argmax**. The only difference between the two arg methods is that they'll instead return the index position of the min/max value. For exmample: "
   ]
  },
  {
   "cell_type": "code",
   "execution_count": 38,
   "id": "e38dd39d",
   "metadata": {},
   "outputs": [
    {
     "data": {
      "text/plain": [
       "array([[66, 63, 29, 24, 57],\n",
       "       [68, 14, 86, 56, 61],\n",
       "       [40, 36, 27, 35, 38],\n",
       "       [84, 78, 86,  4, 78]])"
      ]
     },
     "execution_count": 38,
     "metadata": {},
     "output_type": "execute_result"
    }
   ],
   "source": [
    "A = np.random.randint(0, 100, 20).reshape(4,5)\n",
    "A"
   ]
  },
  {
   "cell_type": "code",
   "execution_count": 39,
   "id": "29e70274",
   "metadata": {},
   "outputs": [
    {
     "data": {
      "text/plain": [
       "array([[0, 7, 3, 5],\n",
       "       [5, 2, 7, 5],\n",
       "       [5, 6, 5, 5],\n",
       "       [0, 0, 1, 9],\n",
       "       [0, 7, 8, 5]])"
      ]
     },
     "execution_count": 39,
     "metadata": {},
     "output_type": "execute_result"
    }
   ],
   "source": [
    "B = np.random.randint(0, 10, 20).reshape(5,4) # returns a 4x5 matrix w/ numbers ranging from 0 to 10 (chose randomly!)\n",
    "B"
   ]
  },
  {
   "cell_type": "code",
   "execution_count": 40,
   "id": "f90c63d4",
   "metadata": {},
   "outputs": [
    {
     "name": "stdout",
     "output_type": "stream",
     "text": [
      "The smallest value in A is 4, and is located at position 18\n",
      "The largest value in A is 86, and is located at position 7\n"
     ]
    }
   ],
   "source": [
    "print(f'The smallest value in A is {A.min()}, and is located at position {A.argmin()}')\n",
    "print(f'The largest value in A is {A.max()}, and is located at position {A.argmax()}')"
   ]
  },
  {
   "cell_type": "code",
   "execution_count": 41,
   "id": "f7742d89",
   "metadata": {},
   "outputs": [
    {
     "name": "stdout",
     "output_type": "stream",
     "text": [
      "The smallest value in B is 0, and is located at position 0\n",
      "The largest value in A is 9, and is located at position 15\n"
     ]
    }
   ],
   "source": [
    "print(f'The smallest value in B is {B.min()}, and is located at position {B.argmin()}')\n",
    "print(f'The largest value in A is {B.max()}, and is located at position {B.argmax()}')"
   ]
  },
  {
   "cell_type": "markdown",
   "id": "6299c42f",
   "metadata": {},
   "source": [
    "Lastly, we'll often find ourselves wanting to know the shape(dimensions) of our ndarray. This can be done by using **shape** "
   ]
  },
  {
   "cell_type": "code",
   "execution_count": 42,
   "id": "0698819c",
   "metadata": {},
   "outputs": [
    {
     "data": {
      "text/plain": [
       "(4, 5)"
      ]
     },
     "execution_count": 42,
     "metadata": {},
     "output_type": "execute_result"
    }
   ],
   "source": [
    "A.shape"
   ]
  },
  {
   "cell_type": "code",
   "execution_count": 43,
   "id": "d8d831fd",
   "metadata": {},
   "outputs": [
    {
     "data": {
      "text/plain": [
       "(5, 4)"
      ]
     },
     "execution_count": 43,
     "metadata": {},
     "output_type": "execute_result"
    }
   ],
   "source": [
    "B.shape"
   ]
  },
  {
   "cell_type": "code",
   "execution_count": 44,
   "id": "273467a7",
   "metadata": {},
   "outputs": [
    {
     "data": {
      "text/plain": [
       "(4, 5)"
      ]
     },
     "execution_count": 44,
     "metadata": {},
     "output_type": "execute_result"
    }
   ],
   "source": [
    "np.shape(A)"
   ]
  },
  {
   "cell_type": "markdown",
   "id": "fc2254e3",
   "metadata": {},
   "source": [
    "Great! you now know how to create NumPy arrays and some of the common operations we can perform on these arrays. "
   ]
  },
  {
   "cell_type": "markdown",
   "id": "05d9b9ea",
   "metadata": {},
   "source": [
    "## Common Operations"
   ]
  },
  {
   "cell_type": "code",
   "execution_count": 45,
   "id": "160a0fbc",
   "metadata": {},
   "outputs": [
    {
     "name": "stdout",
     "output_type": "stream",
     "text": [
      "A: [ 1  2  3  4  5  6  7  8  9 10 11 12 13 14 15]\n",
      "B: [ 1  3  5  7  9 11 13 15 17 19 21 23 25 27 29]\n",
      "C:\n",
      "[[0 1]\n",
      " [2 3]]\n",
      "D:\n",
      "[[0 1]\n",
      " [2 3]]\n",
      "E:\n",
      "[[ 1  2  3  4  5]\n",
      " [ 6  7  8  9 10]\n",
      " [11 12 13 14 15]]\n",
      "G: [ 0  1  2  3  4  5  6  7  8  9 10]\n"
     ]
    }
   ],
   "source": [
    "A = np.arange(1, 16)\n",
    "B = np.arange(1, 30, 2)\n",
    "C = np.arange(0, 4).reshape(2, 2)\n",
    "D = np.arange(0, 4).reshape(2, 2)\n",
    "E = np.arange(1, 16).reshape(3, 5)\n",
    "G = np.arange(11)\n",
    "print(f'A: {A}')\n",
    "print(f'B: {B}')\n",
    "print('C:')\n",
    "print(C)\n",
    "print('D:')\n",
    "print(D)\n",
    "print('E:')\n",
    "print(E)\n",
    "print(f'G: {G}')"
   ]
  },
  {
   "cell_type": "markdown",
   "id": "b912e923",
   "metadata": {},
   "source": [
    "### Arithmetic"
   ]
  },
  {
   "cell_type": "code",
   "execution_count": 52,
   "id": "247acbfd",
   "metadata": {},
   "outputs": [
    {
     "data": {
      "text/plain": [
       "array([ 2,  5,  8, 11, 14, 17, 20, 23, 26, 29, 32, 35, 38, 41, 44])"
      ]
     },
     "execution_count": 52,
     "metadata": {},
     "output_type": "execute_result"
    }
   ],
   "source": [
    "A+B"
   ]
  },
  {
   "cell_type": "code",
   "execution_count": 53,
   "id": "4ec75b53",
   "metadata": {},
   "outputs": [
    {
     "data": {
      "text/plain": [
       "array([ 6,  7,  8,  9, 10, 11, 12, 13, 14, 15, 16, 17, 18, 19, 20])"
      ]
     },
     "execution_count": 53,
     "metadata": {},
     "output_type": "execute_result"
    }
   ],
   "source": [
    "A + 5"
   ]
  },
  {
   "cell_type": "code",
   "execution_count": 54,
   "id": "04bf5573",
   "metadata": {},
   "outputs": [
    {
     "data": {
      "text/plain": [
       "array([  0,  -1,  -2,  -3,  -4,  -5,  -6,  -7,  -8,  -9, -10, -11, -12,\n",
       "       -13, -14])"
      ]
     },
     "execution_count": 54,
     "metadata": {},
     "output_type": "execute_result"
    }
   ],
   "source": [
    "A - B"
   ]
  },
  {
   "cell_type": "code",
   "execution_count": 55,
   "id": "6045adb9",
   "metadata": {},
   "outputs": [
    {
     "data": {
      "text/plain": [
       "array([-4, -3, -2, -1,  0,  1,  2,  3,  4,  5,  6,  7,  8,  9, 10])"
      ]
     },
     "execution_count": 55,
     "metadata": {},
     "output_type": "execute_result"
    }
   ],
   "source": [
    "A - 5"
   ]
  },
  {
   "cell_type": "code",
   "execution_count": 56,
   "id": "20271faa",
   "metadata": {},
   "outputs": [
    {
     "data": {
      "text/plain": [
       "array([  1,   6,  15,  28,  45,  66,  91, 120, 153, 190, 231, 276, 325,\n",
       "       378, 435])"
      ]
     },
     "execution_count": 56,
     "metadata": {},
     "output_type": "execute_result"
    }
   ],
   "source": [
    "A * B"
   ]
  },
  {
   "cell_type": "code",
   "execution_count": 57,
   "id": "f80b3e01",
   "metadata": {},
   "outputs": [
    {
     "data": {
      "text/plain": [
       "array([ 5, 10, 15, 20, 25, 30, 35, 40, 45, 50, 55, 60, 65, 70, 75])"
      ]
     },
     "execution_count": 57,
     "metadata": {},
     "output_type": "execute_result"
    }
   ],
   "source": [
    "A * 5"
   ]
  },
  {
   "cell_type": "code",
   "execution_count": 58,
   "id": "c30176b0",
   "metadata": {},
   "outputs": [
    {
     "data": {
      "text/plain": [
       "array([1.        , 0.66666667, 0.6       , 0.57142857, 0.55555556,\n",
       "       0.54545455, 0.53846154, 0.53333333, 0.52941176, 0.52631579,\n",
       "       0.52380952, 0.52173913, 0.52      , 0.51851852, 0.51724138])"
      ]
     },
     "execution_count": 58,
     "metadata": {},
     "output_type": "execute_result"
    }
   ],
   "source": [
    "A / B"
   ]
  },
  {
   "cell_type": "code",
   "execution_count": 60,
   "id": "32209b59",
   "metadata": {},
   "outputs": [
    {
     "data": {
      "text/plain": [
       "array([0.5, 1. , 1.5, 2. , 2.5, 3. , 3.5, 4. , 4.5, 5. , 5.5, 6. , 6.5,\n",
       "       7. , 7.5])"
      ]
     },
     "execution_count": 60,
     "metadata": {},
     "output_type": "execute_result"
    }
   ],
   "source": [
    "A / 2"
   ]
  },
  {
   "cell_type": "markdown",
   "id": "58ab6b61",
   "metadata": {},
   "source": [
    "Note: Becareful dividing by zero. You'll get **nan** short for Not a number. "
   ]
  },
  {
   "cell_type": "markdown",
   "id": "079f65fb",
   "metadata": {},
   "source": [
    "As you may have noticed, the standard operations *,+,-,/ work element-wise on arrays. If you'd like to instead do matrix multiplication, **matmul** can be used [here](https://www.mathsisfun.com/algebra/matrix-multiplying.html)"
   ]
  },
  {
   "cell_type": "code",
   "execution_count": 61,
   "id": "3cd1b09c",
   "metadata": {},
   "outputs": [
    {
     "data": {
      "text/plain": [
       "array([[ 2,  3],\n",
       "       [ 6, 11]])"
      ]
     },
     "execution_count": 61,
     "metadata": {},
     "output_type": "execute_result"
    }
   ],
   "source": [
    "np.matmul(C, D)"
   ]
  },
  {
   "cell_type": "markdown",
   "id": "f7cec3f3",
   "metadata": {},
   "source": [
    "## Universal Functions"
   ]
  },
  {
   "cell_type": "markdown",
   "id": "ecf61955",
   "metadata": {},
   "source": [
    "NumPy also contains [universal functions](https://numpy.org/doc/stable/reference/ufuncs.html) which is a function that operates on ndarrays in an element-by-element fashion. Let's see a few examples."
   ]
  },
  {
   "cell_type": "code",
   "execution_count": 62,
   "id": "dd55ba22",
   "metadata": {},
   "outputs": [
    {
     "data": {
      "text/plain": [
       "array([[1.        , 1.41421356, 1.73205081, 2.        , 2.23606798],\n",
       "       [2.44948974, 2.64575131, 2.82842712, 3.        , 3.16227766],\n",
       "       [3.31662479, 3.46410162, 3.60555128, 3.74165739, 3.87298335]])"
      ]
     },
     "execution_count": 62,
     "metadata": {},
     "output_type": "execute_result"
    }
   ],
   "source": [
    "np.sqrt(E)"
   ]
  },
  {
   "cell_type": "code",
   "execution_count": 63,
   "id": "43a1d870",
   "metadata": {},
   "outputs": [
    {
     "data": {
      "text/plain": [
       "array([[0.        , 0.69314718, 1.09861229, 1.38629436, 1.60943791],\n",
       "       [1.79175947, 1.94591015, 2.07944154, 2.19722458, 2.30258509],\n",
       "       [2.39789527, 2.48490665, 2.56494936, 2.63905733, 2.7080502 ]])"
      ]
     },
     "execution_count": 63,
     "metadata": {},
     "output_type": "execute_result"
    }
   ],
   "source": [
    "np.log(E)"
   ]
  },
  {
   "cell_type": "markdown",
   "id": "0e448199",
   "metadata": {},
   "source": [
    "Something that will often come in handy is the **where(condition,x,y)** method. This will loop through every element in your ndarray and return a new ndarray that replaces the element with x if the condition is met, and y if the condition is not met. In the example below we're multiplying all odd numbers by 100, else replacing with -1. Try changing the -1 to G in the example below and see what happens. "
   ]
  },
  {
   "cell_type": "code",
   "execution_count": 64,
   "id": "326b7c4a",
   "metadata": {},
   "outputs": [
    {
     "data": {
      "text/plain": [
       "array([ -1, 100,  -1, 300,  -1, 500,  -1, 700,  -1, 900,  -1])"
      ]
     },
     "execution_count": 64,
     "metadata": {},
     "output_type": "execute_result"
    }
   ],
   "source": [
    "np.where(G%2==0, -1, G*100)"
   ]
  },
  {
   "cell_type": "markdown",
   "id": "5e56736d",
   "metadata": {},
   "source": [
    "Nice! Now that you know how to create NumPy arrays and perform basic operations on them, let's take a look at how to index and select certain elements."
   ]
  },
  {
   "cell_type": "markdown",
   "id": "f4d36232",
   "metadata": {},
   "source": [
    "### Indexing"
   ]
  },
  {
   "cell_type": "markdown",
   "id": "b24e582d",
   "metadata": {},
   "source": [
    "Note: recall that counting starts from 0. Given an array [5,6,7,8], we say that value 5 is at index/position 0. "
   ]
  },
  {
   "cell_type": "code",
   "execution_count": 65,
   "id": "800ea702",
   "metadata": {},
   "outputs": [
    {
     "data": {
      "text/plain": [
       "array([ 0,  1,  2,  3,  4,  5,  6,  7,  8,  9, 10, 11, 12, 13, 14])"
      ]
     },
     "execution_count": 65,
     "metadata": {},
     "output_type": "execute_result"
    }
   ],
   "source": [
    "A = np.arange(15)\n",
    "A"
   ]
  },
  {
   "cell_type": "markdown",
   "id": "42f36ef7",
   "metadata": {},
   "source": [
    "Obtaining a single element will look similar to Python arrays:"
   ]
  },
  {
   "cell_type": "code",
   "execution_count": 68,
   "id": "c9586137",
   "metadata": {},
   "outputs": [
    {
     "name": "stdout",
     "output_type": "stream",
     "text": [
      "A[0]: 0\n",
      "A[5]: 5\n",
      "A[14]: 14\n"
     ]
    }
   ],
   "source": [
    "print(f'A[0]: {A[0]}')\n",
    "print(f'A[5]: {A[5]}')\n",
    "print(f'A[14]: {A[14]}')"
   ]
  },
  {
   "cell_type": "markdown",
   "id": "e14fa251",
   "metadata": {},
   "source": [
    "We can grab a section using **A[start_index : stop_index]**. stop_index is not inclusive. "
   ]
  },
  {
   "cell_type": "code",
   "execution_count": 69,
   "id": "c89239ae",
   "metadata": {},
   "outputs": [
    {
     "data": {
      "text/plain": [
       "array([0, 1, 2, 3, 4, 5, 6, 7, 8, 9])"
      ]
     },
     "execution_count": 69,
     "metadata": {},
     "output_type": "execute_result"
    }
   ],
   "source": [
    "A[0:10]"
   ]
  },
  {
   "cell_type": "markdown",
   "id": "d2d53faf",
   "metadata": {},
   "source": [
    "We can also modify values in this way."
   ]
  },
  {
   "cell_type": "code",
   "execution_count": 70,
   "id": "fb7ac3a0",
   "metadata": {},
   "outputs": [
    {
     "data": {
      "text/plain": [
       "array([500, 500, 500, 500, 500, 500, 500, 500, 500, 500,  10,  11,  12,\n",
       "        13,  14])"
      ]
     },
     "execution_count": 70,
     "metadata": {},
     "output_type": "execute_result"
    }
   ],
   "source": [
    "A[0:10] = 500\n",
    "A"
   ]
  },
  {
   "cell_type": "markdown",
   "id": "d14afc52",
   "metadata": {},
   "source": [
    "### Indexing a 2d array"
   ]
  },
  {
   "cell_type": "code",
   "execution_count": 72,
   "id": "dffd8839",
   "metadata": {},
   "outputs": [
    {
     "data": {
      "text/plain": [
       "array([[ 0,  1,  2,  3,  4,  5,  6,  7,  8,  9],\n",
       "       [10, 11, 12, 13, 14, 15, 16, 17, 18, 19],\n",
       "       [20, 21, 22, 23, 24, 25, 26, 27, 28, 29],\n",
       "       [30, 31, 32, 33, 34, 35, 36, 37, 38, 39],\n",
       "       [40, 41, 42, 43, 44, 45, 46, 47, 48, 49]])"
      ]
     },
     "execution_count": 72,
     "metadata": {},
     "output_type": "execute_result"
    }
   ],
   "source": [
    "B = np.arange(50).reshape(5,10)\n",
    "B"
   ]
  },
  {
   "cell_type": "markdown",
   "id": "7d6951c1",
   "metadata": {},
   "source": [
    "Obtaining a single element can be done using **B[row, col]**."
   ]
  },
  {
   "cell_type": "code",
   "execution_count": 73,
   "id": "ff722800",
   "metadata": {},
   "outputs": [
    {
     "name": "stdout",
     "output_type": "stream",
     "text": [
      "Oth row and 2nd col in B: 2\n",
      "3rd row and 3rd col in B: 33\n",
      "4th row and 2nd col in B: 42\n"
     ]
    }
   ],
   "source": [
    "print(f'Oth row and 2nd col in B: {B[0,2]}')\n",
    "print(f'3rd row and 3rd col in B: {B[3,3]}')\n",
    "print(f'4th row and 2nd col in B: {B[4,2]}')"
   ]
  },
  {
   "cell_type": "markdown",
   "id": "c39f4eb1",
   "metadata": {},
   "source": [
    "Similar to before, we can also grab a section of interest from this 2darray. Only now we have to specify both the row section of interest and column sections of interest. B[0:2, 3:5] says: I want rows 0-2 from B, but only the elements in that row corresponding to columns 3-5. Recall that stop_index is not inclusive. Here stop_index for the row is 2, and stop_indexfor the column is 5. "
   ]
  },
  {
   "cell_type": "code",
   "execution_count": 74,
   "id": "7136592b",
   "metadata": {},
   "outputs": [
    {
     "data": {
      "text/plain": [
       "array([[ 0,  1,  2, -1, -1,  5,  6,  7,  8,  9],\n",
       "       [10, 11, 12, -1, -1, 15, 16, 17, 18, 19],\n",
       "       [20, 21, 22, 23, 24, 25, 26, 27, 28, 29],\n",
       "       [30, 31, 32, 33, 34, 35, 36, 37, 38, 39],\n",
       "       [40, 41, 42, 43, 44, 45, 46, 47, 48, 49]])"
      ]
     },
     "execution_count": 74,
     "metadata": {},
     "output_type": "execute_result"
    }
   ],
   "source": [
    "B[0:2, 3:5] = -1\n",
    "B"
   ]
  },
  {
   "cell_type": "markdown",
   "id": "ae6d8b5c",
   "metadata": {},
   "source": [
    "### Boolean Array Indexing"
   ]
  },
  {
   "cell_type": "code",
   "execution_count": 75,
   "id": "2f59eaf3",
   "metadata": {},
   "outputs": [
    {
     "data": {
      "text/plain": [
       "array([[ 0,  1,  2,  3,  4],\n",
       "       [ 5,  6,  7,  8,  9],\n",
       "       [10, 11, 12, 13, 14],\n",
       "       [15, 16, 17, 18, 19],\n",
       "       [20, 21, 22, 23, 24],\n",
       "       [25, 26, 27, 28, 29],\n",
       "       [30, 31, 32, 33, 34],\n",
       "       [35, 36, 37, 38, 39],\n",
       "       [40, 41, 42, 43, 44],\n",
       "       [45, 46, 47, 48, 49]])"
      ]
     },
     "execution_count": 75,
     "metadata": {},
     "output_type": "execute_result"
    }
   ],
   "source": [
    "C = np.arange(50).reshape(10, 5)\n",
    "C"
   ]
  },
  {
   "cell_type": "markdown",
   "id": "2beb88cb",
   "metadata": {},
   "source": [
    "A really cool feature of NumPy is that we can index arrays using comparison operators. This Lets us modify or select only elements meeting some condition. To demonstrate this, lets first see what is returned when we try to use comparison operators with our arrays. "
   ]
  },
  {
   "cell_type": "code",
   "execution_count": 76,
   "id": "615d8bff",
   "metadata": {},
   "outputs": [
    {
     "data": {
      "text/plain": [
       "array([[ True, False,  True, False,  True],\n",
       "       [False,  True, False,  True, False],\n",
       "       [ True, False,  True, False,  True],\n",
       "       [False,  True, False,  True, False],\n",
       "       [ True, False,  True, False,  True],\n",
       "       [False,  True, False,  True, False],\n",
       "       [ True, False,  True, False,  True],\n",
       "       [False,  True, False,  True, False],\n",
       "       [ True, False,  True, False,  True],\n",
       "       [False,  True, False,  True, False]])"
      ]
     },
     "execution_count": 76,
     "metadata": {},
     "output_type": "execute_result"
    }
   ],
   "source": [
    "C%2 == 0"
   ]
  },
  {
   "cell_type": "markdown",
   "id": "fd45c666",
   "metadata": {},
   "source": [
    "We get back an array of the same shape telling us which values in **C** satisfy the condition C%2==0 (even values). Recall that 0 is an alias for False, and 1 is an alias for True. Becuase of this, we can actually can the sum function right off this array, which will evaluate to the total number of even numbers in **C**. "
   ]
  },
  {
   "cell_type": "code",
   "execution_count": 77,
   "id": "6165ce17",
   "metadata": {},
   "outputs": [
    {
     "data": {
      "text/plain": [
       "25"
      ]
     },
     "execution_count": 77,
     "metadata": {},
     "output_type": "execute_result"
    }
   ],
   "source": [
    "(C%2 == 0).sum()"
   ]
  },
  {
   "cell_type": "markdown",
   "id": "a9b4a3d7",
   "metadata": {},
   "source": [
    "Something we'll find ourselves doing more often is passing the boolean array as an index. What this will do is filter out the False elements and only leave us with the elements corresponding to True (even values in our case). "
   ]
  },
  {
   "cell_type": "code",
   "execution_count": 78,
   "id": "016a33cb",
   "metadata": {},
   "outputs": [
    {
     "data": {
      "text/plain": [
       "array([ 0,  2,  4,  6,  8, 10, 12, 14, 16, 18, 20, 22, 24, 26, 28, 30, 32,\n",
       "       34, 36, 38, 40, 42, 44, 46, 48])"
      ]
     },
     "execution_count": 78,
     "metadata": {},
     "output_type": "execute_result"
    }
   ],
   "source": [
    "C[C%2 == 0]"
   ]
  },
  {
   "cell_type": "markdown",
   "id": "7d33e932",
   "metadata": {},
   "source": [
    "Congratulations! You now know how to create NumPy arrays, perform common operations on them, and how to index them. There's so much that NumPy can do, but this should cover just about all that you'll need to succeed in this course. Other popular Python libraries used for data science such as Pandas and Matplotlib are built on top of NumPy, so you'll be using a lot of these features alongside those libraries. "
   ]
  }
 ],
 "metadata": {
  "kernelspec": {
   "display_name": "Python 3 (ipykernel)",
   "language": "python",
   "name": "python3"
  },
  "language_info": {
   "codemirror_mode": {
    "name": "ipython",
    "version": 3
   },
   "file_extension": ".py",
   "mimetype": "text/x-python",
   "name": "python",
   "nbconvert_exporter": "python",
   "pygments_lexer": "ipython3",
   "version": "3.11.0"
  }
 },
 "nbformat": 4,
 "nbformat_minor": 5
}
