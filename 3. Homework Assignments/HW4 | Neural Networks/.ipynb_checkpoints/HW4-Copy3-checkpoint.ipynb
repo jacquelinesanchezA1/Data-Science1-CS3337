{
 "cells": [
  {
   "cell_type": "markdown",
   "id": "d30aabce",
   "metadata": {},
   "source": [
    "Jacqueline Sanchez <br>\n",
    "June 25, 2024 <br> \n",
    "Homework 4"
   ]
  },
  {
   "cell_type": "markdown",
   "id": "9deaa93a",
   "metadata": {},
   "source": [
    "# Neural Networks"
   ]
  },
  {
   "cell_type": "markdown",
   "id": "aa578ace",
   "metadata": {},
   "source": [
    "Your task for this homework will be to construct a neural network for both a regression\n",
    "and classification task. We'll be using the california dataset for the regression portion,\n",
    "and iris for classification.By the end of this hw you should be comfortable using sklearn'sneural network on a dataset."
   ]
  },
  {
   "cell_type": "code",
   "execution_count": 62,
   "id": "da91b641",
   "metadata": {},
   "outputs": [],
   "source": [
    "# dataset importation\n",
    "from sklearn.datasets import fetch_california_housing, load_iris\n",
    "\n",
    "# tools \n",
    "import pandas as pd\n",
    "import numpy as np\n",
    "from sklearn.model_selection import train_test_split\n",
    "\n",
    "# plotting tools\n",
    "import seaborn as sns # to use rcParams\n",
    "import matplotlib.pyplot as plt\n"
   ]
  },
  {
   "cell_type": "code",
   "execution_count": 48,
   "id": "6396c17e",
   "metadata": {},
   "outputs": [],
   "source": [
    "from matplotlib import rcParams # need sb\n",
    "rcParams['figure.figsize'] = 8, 5\n",
    "sns.set_style('darkgrid')"
   ]
  },
  {
   "cell_type": "markdown",
   "id": "4b57ca79",
   "metadata": {},
   "source": [
    "## Artificial Neural Network for Regressional Task"
   ]
  },
  {
   "cell_type": "markdown",
   "id": "633c6379",
   "metadata": {},
   "source": [
    "### Part 1: Reading and Understanding the Data (Regression Part)"
   ]
  },
  {
   "cell_type": "code",
   "execution_count": 23,
   "id": "b0b81d4b",
   "metadata": {},
   "outputs": [],
   "source": [
    "# loading california housing dataset\n",
    "cali_housing = fetch_california_housing()\n",
    "cali_features = pd.DataFrame(cali_housing.data, columns = cali_housing.feature_names)\n",
    "\n",
    "# create a dataframe for the target\n",
    "cali_target = pd.DataFrame(cali_housing.target, columns=[\"target\"])\n",
    "\n",
    "# concat both dataframes\n",
    "california_df = pd.concat([cali_features, cali_target], axis = 1)\n",
    "\n",
    "###### Preparaing data for training ######\n",
    "\n",
    "# Saving data into df X\n",
    "X = california_df.drop('target', axis = 1)\n",
    "\n",
    "# Target/labels variable into Y\n",
    "y = california_df['target']\n",
    "\n",
    "X_train, X_test, y_train, y_test = train_test_split(X, y, test_size = 0.2, random_state=42)\n",
    "\n",
    "# print(cali_housing.keys())\n",
    "# print(california_df.head())"
   ]
  },
  {
   "cell_type": "markdown",
   "id": "7aded653",
   "metadata": {},
   "source": [
    "#### To Do: "
   ]
  },
  {
   "cell_type": "code",
   "execution_count": 25,
   "id": "b94135bb",
   "metadata": {
    "scrolled": false
   },
   "outputs": [
    {
     "name": "stdout",
     "output_type": "stream",
     "text": [
      "             MedInc      HouseAge      AveRooms     AveBedrms    Population  \\\n",
      "count  20640.000000  20640.000000  20640.000000  20640.000000  20640.000000   \n",
      "mean       3.870671     28.639486      5.429000      1.096675   1425.476744   \n",
      "std        1.899822     12.585558      2.474173      0.473911   1132.462122   \n",
      "min        0.499900      1.000000      0.846154      0.333333      3.000000   \n",
      "25%        2.563400     18.000000      4.440716      1.006079    787.000000   \n",
      "50%        3.534800     29.000000      5.229129      1.048780   1166.000000   \n",
      "75%        4.743250     37.000000      6.052381      1.099526   1725.000000   \n",
      "max       15.000100     52.000000    141.909091     34.066667  35682.000000   \n",
      "\n",
      "           AveOccup      Latitude     Longitude        target  \n",
      "count  20640.000000  20640.000000  20640.000000  20640.000000  \n",
      "mean       3.070655     35.631861   -119.569704      2.068558  \n",
      "std       10.386050      2.135952      2.003532      1.153956  \n",
      "min        0.692308     32.540000   -124.350000      0.149990  \n",
      "25%        2.429741     33.930000   -121.800000      1.196000  \n",
      "50%        2.818116     34.260000   -118.490000      1.797000  \n",
      "75%        3.282261     37.710000   -118.010000      2.647250  \n",
      "max     1243.333333     41.950000   -114.310000      5.000010  \n"
     ]
    }
   ],
   "source": [
    "# 1. Print some basic statistics of your data\n",
    "print(california_df.describe())"
   ]
  },
  {
   "cell_type": "code",
   "execution_count": 37,
   "id": "4a85e8e9",
   "metadata": {},
   "outputs": [
    {
     "name": "stdout",
     "output_type": "stream",
     "text": [
      "Basic Information: \n",
      "<class 'pandas.core.frame.DataFrame'>\n",
      "RangeIndex: 20640 entries, 0 to 20639\n",
      "Data columns (total 9 columns):\n",
      " #   Column      Non-Null Count  Dtype  \n",
      "---  ------      --------------  -----  \n",
      " 0   MedInc      20640 non-null  float64\n",
      " 1   HouseAge    20640 non-null  float64\n",
      " 2   AveRooms    20640 non-null  float64\n",
      " 3   AveBedrms   20640 non-null  float64\n",
      " 4   Population  20640 non-null  float64\n",
      " 5   AveOccup    20640 non-null  float64\n",
      " 6   Latitude    20640 non-null  float64\n",
      " 7   Longitude   20640 non-null  float64\n",
      " 8   target      20640 non-null  float64\n",
      "dtypes: float64(9)\n",
      "memory usage: 1.4 MB\n",
      "None\n",
      "\n",
      "Data types of each column: \n",
      "MedInc        float64\n",
      "HouseAge      float64\n",
      "AveRooms      float64\n",
      "AveBedrms     float64\n",
      "Population    float64\n",
      "AveOccup      float64\n",
      "Latitude      float64\n",
      "Longitude     float64\n",
      "target        float64\n",
      "dtype: object\n",
      "\n",
      "Missing values in the dataset: \n",
      "MedInc        0\n",
      "HouseAge      0\n",
      "AveRooms      0\n",
      "AveBedrms     0\n",
      "Population    0\n",
      "AveOccup      0\n",
      "Latitude      0\n",
      "Longitude     0\n",
      "target        0\n",
      "dtype: int64\n"
     ]
    }
   ],
   "source": [
    "# 2. Print some general info using pandas \n",
    "print(\"Basic Information: \")\n",
    "print(california_df.info())\n",
    "\n",
    "print(\"\\nData types of each column: \")\n",
    "print(california_df.dtypes)\n",
    "\n",
    "print(\"\\nMissing values in the dataset: \")\n",
    "print(california_df.isnull().sum())"
   ]
  },
  {
   "cell_type": "markdown",
   "id": "bcc7969b",
   "metadata": {},
   "source": [
    "<span style = 'color:green'>\n",
    "No, there are no missing values in this dataset as I added all the na values in the dataset but there were none. "
   ]
  },
  {
   "cell_type": "markdown",
   "id": "fb0a4717",
   "metadata": {},
   "source": [
    "### Part 2 Visualization"
   ]
  },
  {
   "cell_type": "code",
   "execution_count": 64,
   "id": "37d364ce",
   "metadata": {},
   "outputs": [
    {
     "data": {
      "text/plain": [
       "([<matplotlib.axis.YTick at 0x17c455450>,\n",
       "  <matplotlib.axis.YTick at 0x17c461a90>,\n",
       "  <matplotlib.axis.YTick at 0x17c57ee50>,\n",
       "  <matplotlib.axis.YTick at 0x17c51cb90>,\n",
       "  <matplotlib.axis.YTick at 0x17c51eed0>,\n",
       "  <matplotlib.axis.YTick at 0x17c525290>],\n",
       " [Text(0, 0.0, '0.0'),\n",
       "  Text(0, 0.1, '0.1'),\n",
       "  Text(0, 0.2, '0.2'),\n",
       "  Text(0, 0.30000000000000004, '0.3'),\n",
       "  Text(0, 0.4, '0.4'),\n",
       "  Text(0, 0.5, '0.5')])"
      ]
     },
     "execution_count": 64,
     "metadata": {},
     "output_type": "execute_result"
    },
    {
     "data": {
      "image/png": "[encoded data removed]",
      "text/plain": [
       "<Figure size 800x500 with 1 Axes>"
      ]
     },
     "metadata": {},
     "output_type": "display_data"
    }
   ],
   "source": [
    "# histogram of the median house value(y)\n",
    "\n",
    "\n",
    "sns.histplot(y, bins = 30, kde = True, alpha = 0.2)\n",
    "\n",
    "# Adjusting the y-axis limits and ticks\n",
    "plt.ylim(0, 0.5)  # Setting y-axis limits from 0 to 0.5\n",
    "tick_values = np.arange(0, 0.6, 0.1)  # Creating ticks from 0 to 0.5 with an interval of 0.1\n",
    "plt.yticks(tick_values)"
   ]
  }
 ],
 "metadata": {
  "kernelspec": {
   "display_name": "Python 3 (ipykernel)",
   "language": "python",
   "name": "python3"
  },
  "language_info": {
   "codemirror_mode": {
    "name": "ipython",
    "version": 3
   },
   "file_extension": ".py",
   "mimetype": "text/x-python",
   "name": "python",
   "nbconvert_exporter": "python",
   "pygments_lexer": "ipython3",
   "version": "3.11.0"
  }
 },
 "nbformat": 4,
 "nbformat_minor": 5
}
