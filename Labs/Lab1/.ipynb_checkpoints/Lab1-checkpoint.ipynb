{
 "cells": [
  {
   "cell_type": "markdown",
   "id": "a3208986",
   "metadata": {},
   "source": [
    "In this Lab, we will practice in Numpy, Pandas and simple linear regression. We will use the dataset mtcars."
   ]
  },
  {
   "cell_type": "code",
   "execution_count": 1,
   "id": "9648665c",
   "metadata": {},
   "outputs": [],
   "source": [
    "import pandas as pd\n",
    "import numpy as np\n",
    "import matplotlib.pyplot as plt"
   ]
  },
  {
   "cell_type": "markdown",
   "id": "a399967a",
   "metadata": {},
   "source": [
    "Use the dataset cars.csv "
   ]
  },
  {
   "cell_type": "code",
   "execution_count": 2,
   "id": "89afb1ef",
   "metadata": {
    "scrolled": true
   },
   "outputs": [
    {
     "data": {
      "text/html": [
       "<div>\n",
       "<style scoped>\n",
       "    .dataframe tbody tr th:only-of-type {\n",
       "        vertical-align: middle;\n",
       "    }\n",
       "\n",
       "    .dataframe tbody tr th {\n",
       "        vertical-align: top;\n",
       "    }\n",
       "\n",
       "    .dataframe thead th {\n",
       "        text-align: right;\n",
       "    }\n",
       "</style>\n",
       "<table border=\"1\" class=\"dataframe\">\n",
       "  <thead>\n",
       "    <tr style=\"text-align: right;\">\n",
       "      <th></th>\n",
       "      <th>make</th>\n",
       "      <th>model</th>\n",
       "      <th>mpg</th>\n",
       "      <th>cyl</th>\n",
       "      <th>disp</th>\n",
       "      <th>hp</th>\n",
       "      <th>drat</th>\n",
       "      <th>wt</th>\n",
       "      <th>qsec</th>\n",
       "      <th>vs</th>\n",
       "      <th>am</th>\n",
       "      <th>gear</th>\n",
       "      <th>carb</th>\n",
       "    </tr>\n",
       "  </thead>\n",
       "  <tbody>\n",
       "    <tr>\n",
       "      <th>0</th>\n",
       "      <td>Mazda</td>\n",
       "      <td>Mazda RX4</td>\n",
       "      <td>21.0</td>\n",
       "      <td>6</td>\n",
       "      <td>160.0</td>\n",
       "      <td>110</td>\n",
       "      <td>3.90</td>\n",
       "      <td>2.620</td>\n",
       "      <td>16.46</td>\n",
       "      <td>0</td>\n",
       "      <td>1</td>\n",
       "      <td>4</td>\n",
       "      <td>4</td>\n",
       "    </tr>\n",
       "    <tr>\n",
       "      <th>1</th>\n",
       "      <td>Mazda</td>\n",
       "      <td>Mazda RX4 Wag</td>\n",
       "      <td>21.0</td>\n",
       "      <td>6</td>\n",
       "      <td>160.0</td>\n",
       "      <td>110</td>\n",
       "      <td>3.90</td>\n",
       "      <td>2.875</td>\n",
       "      <td>17.02</td>\n",
       "      <td>0</td>\n",
       "      <td>1</td>\n",
       "      <td>4</td>\n",
       "      <td>4</td>\n",
       "    </tr>\n",
       "    <tr>\n",
       "      <th>2</th>\n",
       "      <td>Datsun</td>\n",
       "      <td>Datsun 710</td>\n",
       "      <td>22.8</td>\n",
       "      <td>4</td>\n",
       "      <td>108.0</td>\n",
       "      <td>93</td>\n",
       "      <td>3.85</td>\n",
       "      <td>2.320</td>\n",
       "      <td>18.61</td>\n",
       "      <td>1</td>\n",
       "      <td>1</td>\n",
       "      <td>4</td>\n",
       "      <td>1</td>\n",
       "    </tr>\n",
       "    <tr>\n",
       "      <th>3</th>\n",
       "      <td>Hornet</td>\n",
       "      <td>Hornet 4 Drive</td>\n",
       "      <td>21.4</td>\n",
       "      <td>6</td>\n",
       "      <td>258.0</td>\n",
       "      <td>110</td>\n",
       "      <td>3.08</td>\n",
       "      <td>3.215</td>\n",
       "      <td>19.44</td>\n",
       "      <td>1</td>\n",
       "      <td>0</td>\n",
       "      <td>3</td>\n",
       "      <td>1</td>\n",
       "    </tr>\n",
       "    <tr>\n",
       "      <th>4</th>\n",
       "      <td>Hornet</td>\n",
       "      <td>Hornet Sportabout</td>\n",
       "      <td>18.7</td>\n",
       "      <td>8</td>\n",
       "      <td>360.0</td>\n",
       "      <td>175</td>\n",
       "      <td>3.15</td>\n",
       "      <td>3.440</td>\n",
       "      <td>17.02</td>\n",
       "      <td>0</td>\n",
       "      <td>0</td>\n",
       "      <td>3</td>\n",
       "      <td>2</td>\n",
       "    </tr>\n",
       "  </tbody>\n",
       "</table>\n",
       "</div>"
      ],
      "text/plain": [
       "     make              model   mpg  cyl   disp   hp  drat     wt   qsec  vs  \\\n",
       "0   Mazda          Mazda RX4  21.0    6  160.0  110  3.90  2.620  16.46   0   \n",
       "1   Mazda      Mazda RX4 Wag  21.0    6  160.0  110  3.90  2.875  17.02   0   \n",
       "2  Datsun         Datsun 710  22.8    4  108.0   93  3.85  2.320  18.61   1   \n",
       "3  Hornet     Hornet 4 Drive  21.4    6  258.0  110  3.08  3.215  19.44   1   \n",
       "4  Hornet  Hornet Sportabout  18.7    8  360.0  175  3.15  3.440  17.02   0   \n",
       "\n",
       "   am  gear  carb  \n",
       "0   1     4     4  \n",
       "1   1     4     4  \n",
       "2   1     4     1  \n",
       "3   0     3     1  \n",
       "4   0     3     2  "
      ]
     },
     "execution_count": 2,
     "metadata": {},
     "output_type": "execute_result"
    }
   ],
   "source": [
    "cars_df = pd.read_csv(filepath_or_buffer='cars.csv')\n",
    "cars_df.head()"
   ]
  },
  {
   "cell_type": "markdown",
   "id": "d6da17ed",
   "metadata": {},
   "source": [
    "1.Convert the column mpg to numpy array and print the array. (5)"
   ]
  },
  {
   "cell_type": "code",
   "execution_count": 3,
   "id": "9aec0d20",
   "metadata": {},
   "outputs": [
    {
     "name": "stdout",
     "output_type": "stream",
     "text": [
      "[21.  21.  22.8 21.4 18.7 18.1 14.3 24.4 22.8 19.2 17.8 16.4 17.3 15.2\n",
      " 10.4 10.4 14.7 32.4 30.4 33.9 21.5 15.5 15.2 13.3 19.2 27.3 26.  30.4\n",
      " 15.8 19.7 15.  21.4]\n",
      "<class 'numpy.ndarray'>\n"
     ]
    }
   ],
   "source": [
    "#Enter your code here\n",
    "numpy_array = np.array(cars_df['mpg'])\n",
    "print(numpy_array)\n",
    "print(type(numpy_array))"
   ]
  },
  {
   "cell_type": "markdown",
   "id": "dda25532",
   "metadata": {},
   "source": [
    "2. calculate how many cars' mpg is under 15. (5)"
   ]
  },
  {
   "cell_type": "code",
   "execution_count": 4,
   "id": "113a887a",
   "metadata": {},
   "outputs": [
    {
     "data": {
      "text/plain": [
       "(5, 13)"
      ]
     },
     "execution_count": 4,
     "metadata": {},
     "output_type": "execute_result"
    }
   ],
   "source": [
    "#Enter your code here\n",
    "cars_df[cars_df['mpg'] < 15].shape\n",
    "\n",
    "## calculate HOW MANY! (COME BACK!)"
   ]
  },
  {
   "cell_type": "markdown",
   "id": "289ff8d7",
   "metadata": {},
   "source": [
    "3.Show the models that their mpg is under 15. (10)"
   ]
  },
  {
   "cell_type": "code",
   "execution_count": 5,
   "id": "d227f0a3",
   "metadata": {
    "scrolled": true
   },
   "outputs": [
    {
     "data": {
      "text/html": [
       "<div>\n",
       "<style scoped>\n",
       "    .dataframe tbody tr th:only-of-type {\n",
       "        vertical-align: middle;\n",
       "    }\n",
       "\n",
       "    .dataframe tbody tr th {\n",
       "        vertical-align: top;\n",
       "    }\n",
       "\n",
       "    .dataframe thead th {\n",
       "        text-align: right;\n",
       "    }\n",
       "</style>\n",
       "<table border=\"1\" class=\"dataframe\">\n",
       "  <thead>\n",
       "    <tr style=\"text-align: right;\">\n",
       "      <th></th>\n",
       "      <th>make</th>\n",
       "      <th>model</th>\n",
       "      <th>mpg</th>\n",
       "      <th>cyl</th>\n",
       "      <th>disp</th>\n",
       "      <th>hp</th>\n",
       "      <th>drat</th>\n",
       "      <th>wt</th>\n",
       "      <th>qsec</th>\n",
       "      <th>vs</th>\n",
       "      <th>am</th>\n",
       "      <th>gear</th>\n",
       "      <th>carb</th>\n",
       "    </tr>\n",
       "  </thead>\n",
       "  <tbody>\n",
       "    <tr>\n",
       "      <th>6</th>\n",
       "      <td>Duster</td>\n",
       "      <td>Duster 360</td>\n",
       "      <td>14.3</td>\n",
       "      <td>8</td>\n",
       "      <td>360.0</td>\n",
       "      <td>245</td>\n",
       "      <td>3.21</td>\n",
       "      <td>3.570</td>\n",
       "      <td>15.84</td>\n",
       "      <td>0</td>\n",
       "      <td>0</td>\n",
       "      <td>3</td>\n",
       "      <td>4</td>\n",
       "    </tr>\n",
       "    <tr>\n",
       "      <th>14</th>\n",
       "      <td>Cadillac</td>\n",
       "      <td>Cadillac Fleetwood</td>\n",
       "      <td>10.4</td>\n",
       "      <td>8</td>\n",
       "      <td>472.0</td>\n",
       "      <td>205</td>\n",
       "      <td>2.93</td>\n",
       "      <td>5.250</td>\n",
       "      <td>17.98</td>\n",
       "      <td>0</td>\n",
       "      <td>0</td>\n",
       "      <td>3</td>\n",
       "      <td>4</td>\n",
       "    </tr>\n",
       "    <tr>\n",
       "      <th>15</th>\n",
       "      <td>Lincoln</td>\n",
       "      <td>Lincoln Continental</td>\n",
       "      <td>10.4</td>\n",
       "      <td>8</td>\n",
       "      <td>460.0</td>\n",
       "      <td>215</td>\n",
       "      <td>3.00</td>\n",
       "      <td>5.424</td>\n",
       "      <td>17.82</td>\n",
       "      <td>0</td>\n",
       "      <td>0</td>\n",
       "      <td>3</td>\n",
       "      <td>4</td>\n",
       "    </tr>\n",
       "    <tr>\n",
       "      <th>16</th>\n",
       "      <td>Chrysler</td>\n",
       "      <td>Chrysler Imperial</td>\n",
       "      <td>14.7</td>\n",
       "      <td>8</td>\n",
       "      <td>440.0</td>\n",
       "      <td>230</td>\n",
       "      <td>3.23</td>\n",
       "      <td>5.345</td>\n",
       "      <td>17.42</td>\n",
       "      <td>0</td>\n",
       "      <td>0</td>\n",
       "      <td>3</td>\n",
       "      <td>4</td>\n",
       "    </tr>\n",
       "    <tr>\n",
       "      <th>23</th>\n",
       "      <td>Camaro</td>\n",
       "      <td>Camaro Z28</td>\n",
       "      <td>13.3</td>\n",
       "      <td>8</td>\n",
       "      <td>350.0</td>\n",
       "      <td>245</td>\n",
       "      <td>3.73</td>\n",
       "      <td>3.840</td>\n",
       "      <td>15.41</td>\n",
       "      <td>0</td>\n",
       "      <td>0</td>\n",
       "      <td>3</td>\n",
       "      <td>4</td>\n",
       "    </tr>\n",
       "  </tbody>\n",
       "</table>\n",
       "</div>"
      ],
      "text/plain": [
       "        make                model   mpg  cyl   disp   hp  drat     wt   qsec  \\\n",
       "6     Duster           Duster 360  14.3    8  360.0  245  3.21  3.570  15.84   \n",
       "14  Cadillac   Cadillac Fleetwood  10.4    8  472.0  205  2.93  5.250  17.98   \n",
       "15   Lincoln  Lincoln Continental  10.4    8  460.0  215  3.00  5.424  17.82   \n",
       "16  Chrysler    Chrysler Imperial  14.7    8  440.0  230  3.23  5.345  17.42   \n",
       "23    Camaro           Camaro Z28  13.3    8  350.0  245  3.73  3.840  15.41   \n",
       "\n",
       "    vs  am  gear  carb  \n",
       "6    0   0     3     4  \n",
       "14   0   0     3     4  \n",
       "15   0   0     3     4  \n",
       "16   0   0     3     4  \n",
       "23   0   0     3     4  "
      ]
     },
     "execution_count": 5,
     "metadata": {},
     "output_type": "execute_result"
    }
   ],
   "source": [
    "#Enter your code here\n",
    "cars_df[cars_df['mpg'] < 15]\n"
   ]
  },
  {
   "cell_type": "markdown",
   "id": "67333d12",
   "metadata": {},
   "source": [
    "4.Show how many unique make does the dataset have and print them out. (10)"
   ]
  },
  {
   "cell_type": "code",
   "execution_count": 6,
   "id": "a37f4060",
   "metadata": {
    "scrolled": true
   },
   "outputs": [
    {
     "name": "stdout",
     "output_type": "stream",
     "text": [
      "unique make: ['Mazda' 'Datsun' 'Hornet' 'Valiant' 'Duster' 'Merc' 'Cadillac' 'Lincoln'\n",
      " 'Chrysler' 'Fiat' 'Honda' 'Toyota' 'Dodge' 'AMC' 'Camaro' 'Pontiac'\n",
      " 'Porsche' 'Lotus' 'Ford' 'Ferrari' 'Maserati' 'Volvo']\n",
      "total number of unique make: 22\n"
     ]
    }
   ],
   "source": [
    "#Enter your code here\n",
    "print(f\"unique make: {cars_df['make'].unique()}\")\n",
    "print(f\"total number of unique make: {cars_df['make'].nunique()}\")"
   ]
  },
  {
   "cell_type": "markdown",
   "id": "e87413d8",
   "metadata": {},
   "source": [
    "5.Show how many cars each make has. (10)"
   ]
  },
  {
   "cell_type": "code",
   "execution_count": 7,
   "id": "8dc48950",
   "metadata": {},
   "outputs": [
    {
     "data": {
      "text/plain": [
       "make\n",
       "Merc        7\n",
       "Mazda       2\n",
       "Fiat        2\n",
       "Toyota      2\n",
       "Hornet      2\n",
       "Duster      1\n",
       "Camaro      1\n",
       "Maserati    1\n",
       "Ferrari     1\n",
       "Ford        1\n",
       "Lotus       1\n",
       "Porsche     1\n",
       "Pontiac     1\n",
       "AMC         1\n",
       "Valiant     1\n",
       "Dodge       1\n",
       "Datsun      1\n",
       "Honda       1\n",
       "Chrysler    1\n",
       "Lincoln     1\n",
       "Cadillac    1\n",
       "Volvo       1\n",
       "Name: count, dtype: int64"
      ]
     },
     "execution_count": 7,
     "metadata": {},
     "output_type": "execute_result"
    }
   ],
   "source": [
    "#Enter your code here\n",
    "cars_df['make'].value_counts()"
   ]
  },
  {
   "cell_type": "markdown",
   "id": "2d67a54f",
   "metadata": {},
   "source": [
    "6.Creat the scatter plot with X axis is hp and Y axis is mpg.(10)"
   ]
  },
  {
   "cell_type": "code",
   "execution_count": 8,
   "id": "75fbacdd",
   "metadata": {},
   "outputs": [
    {
     "data": {
      "image/png": "[encoded data removed]",
      "text/plain": [
       "<Figure size 640x480 with 1 Axes>"
      ]
     },
     "metadata": {},
     "output_type": "display_data"
    }
   ],
   "source": [
    "#Enter your code here\n",
    "plt.scatter(x = cars_df['hp'], y = cars_df['mpg'])\n",
    "plt.xlabel('hp')\n",
    "plt.ylabel('mpg')\n",
    "plt.title('hp vs mpg')\n",
    "plt.show()"
   ]
  },
  {
   "cell_type": "markdown",
   "id": "e8f6d4d6",
   "metadata": {},
   "source": [
    "7.Train the linear model using hp as variable and MPG as target and print $\\theta_{0}$, $\\theta_{1}$ (10) \n",
    "\n",
    "(hint: use the fomula: $\\theta = (\\mathrm{X}^{T}\\mathrm{X})^{-1}\\mathrm{X}^{T}\\mathrm{y}$)"
   ]
  },
  {
   "cell_type": "code",
   "execution_count": 31,
   "id": "2ec40e1d",
   "metadata": {},
   "outputs": [
    {
     "name": "stdout",
     "output_type": "stream",
     "text": [
      "Regression Formula: mpg = 30.0989 + -0.0682 * hp\n",
      "                            OLS Regression Results                            \n",
      "==============================================================================\n",
      "Dep. Variable:                    mpg   R-squared:                       0.602\n",
      "Model:                            OLS   Adj. R-squared:                  0.589\n",
      "Method:                 Least Squares   F-statistic:                     45.46\n",
      "Date:                Thu, 06 Jun 2024   Prob (F-statistic):           1.79e-07\n",
      "Time:                        11:55:17   Log-Likelihood:                -87.619\n",
      "No. Observations:                  32   AIC:                             179.2\n",
      "Df Residuals:                      30   BIC:                             182.2\n",
      "Df Model:                           1                                         \n",
      "Covariance Type:            nonrobust                                         \n",
      "==============================================================================\n",
      "                 coef    std err          t      P>|t|      [0.025      0.975]\n",
      "------------------------------------------------------------------------------\n",
      "const         30.0989      1.634     18.421      0.000      26.762      33.436\n",
      "hp            -0.0682      0.010     -6.742      0.000      -0.089      -0.048\n",
      "==============================================================================\n",
      "Omnibus:                        3.692   Durbin-Watson:                   1.134\n",
      "Prob(Omnibus):                  0.158   Jarque-Bera (JB):                2.984\n",
      "Skew:                           0.747   Prob(JB):                        0.225\n",
      "Kurtosis:                       2.935   Cond. No.                         386.\n",
      "==============================================================================\n",
      "\n",
      "Notes:\n",
      "[1] Standard Errors assume that the covariance matrix of the errors is correctly specified.\n"
     ]
    }
   ],
   "source": [
    "# > training the linear model using OLS method\n",
    "import statsmodels.api as sm\n",
    "\n",
    "x = cars_df['hp']\n",
    "y = cars_df['mpg']\n",
    "\n",
    "# Add a constant to the independent variable \n",
    "x = sm.add_constant(x) # intercept (beta0) to the model (ensure model is unbiased)\n",
    "\n",
    "# Fit the OLS model\n",
    "model = sm.OLS(y, x).fit()\n",
    "\n",
    "\n",
    "##########\n",
    "\n",
    "# > printing out theta1 and theta 2\n",
    "\n",
    "# Extract the coefficients\n",
    "theta0 = model.params[\"const\"]  # Intercept\n",
    "theta1 = model.params[\"hp\"]     # Slope\n",
    "\n",
    "# Print the formula\n",
    "print(f\"Regression Formula: mpg = {theta0:.4f} + {theta1:.4f} * hp\") # rounding to four decimal places\n",
    "\n",
    "\n",
    "\n",
    "\n",
    "# Print the summary of the regression results\n",
    "print(model.summary())\n"
   ]
  },
  {
   "cell_type": "markdown",
   "id": "dfe56b1a",
   "metadata": {},
   "source": [
    "8.Plat the scatter plot again with the line showing the linear model.(10)"
   ]
  },
  {
   "cell_type": "code",
   "execution_count": 32,
   "id": "fcba9108",
   "metadata": {},
   "outputs": [
    {
     "data": {
      "image/png": "[encoded data removed]",
      "text/plain": [
       "<Figure size 640x480 with 1 Axes>"
      ]
     },
     "metadata": {},
     "output_type": "display_data"
    }
   ],
   "source": [
    "#Enter your code here\n",
    "plt.scatter(x = cars_df['hp'], y = cars_df['mpg'], label = 'Data')\n",
    "\n",
    "plt.plot(x['hp'], theta0 + theta1 *x['hp'], color = 'red', label = 'Linear Model')\n",
    "\n",
    "plt.xlabel('hp')\n",
    "plt.ylabel('mpg')\n",
    "plt.legend()\n",
    "\n",
    "plt.show()"
   ]
  },
  {
   "cell_type": "markdown",
   "id": "e9303ae8",
   "metadata": {},
   "source": [
    "9.Random choose 3 datapoint from the dataset, use the linear model to predict the MPG with HP, show the difference between predict value and real value. (10)"
   ]
  },
  {
   "cell_type": "code",
   "execution_count": 45,
   "id": "7bbf7bb9",
   "metadata": {},
   "outputs": [
    {
     "name": "stdout",
     "output_type": "stream",
     "text": [
      "Data Point Indices | Difference (Predicted - True MPG)\n",
      "Data point 1: 20 | [1.92059868]\n",
      "Data point 2: 12 | [-0.52226806]\n",
      "Data point 3: 25 | [-1.39833061]\n"
     ]
    }
   ],
   "source": [
    "#Enter your code here\n",
    "from sklearn.linear_model import LinearRegression\n",
    "\n",
    "\n",
    "random_indices = np.random.choice(len(cars_df), 3, replace = False) # set of points to be chosen\n",
    "random_data = cars_df.iloc[random_indices] # index location\n",
    "\n",
    "X = random_data[['hp']].values\n",
    "y_true = random_data[['mpg']].values\n",
    "\n",
    "\n",
    "model = LinearRegression()\n",
    "model.fit(X, y_true)\n",
    "\n",
    "y_pred = model.predict(X)\n",
    "\n",
    "difference = y_pred - y_true\n",
    "\n",
    "print(\"Data Point Indices | Difference (Predicted - True MPG)\")\n",
    "for i, (index, diff) in enumerate(zip(random_indices, difference)):\n",
    "    print(f\"Data point {i+1}: {index} | {diff}\")"
   ]
  },
  {
   "cell_type": "code",
   "execution_count": null,
   "id": "a7aeba0d",
   "metadata": {},
   "outputs": [],
   "source": [
    "#Enter your code here\n",
    "random_index = np.random.randint(0, len(cars_df))\n",
    "\n",
    "random_data_point = cars_df.iloc[random_index]\n",
    "\n",
    "print(\"Random data point: \", random_data_point)"
   ]
  },
  {
   "cell_type": "markdown",
   "id": "3eb510b9",
   "metadata": {},
   "source": [
    "10.Explain the why some differences are large, some are not(10)"
   ]
  },
  {
   "cell_type": "code",
   "execution_count": 13,
   "id": "6c8b8056",
   "metadata": {},
   "outputs": [],
   "source": [
    "#Enter your answer here\n",
    "# Some are differences are larger than others becuase these points are further away from \n",
    "# "
   ]
  },
  {
   "cell_type": "markdown",
   "id": "06b18002",
   "metadata": {},
   "source": [
    "11.Find $\\mathrm{R}^{2}$ and use $\\mathrm{R}^{2}$ to explain whether the model is accurate.(10)"
   ]
  },
  {
   "cell_type": "code",
   "execution_count": 48,
   "id": "56b04f2a",
   "metadata": {},
   "outputs": [
    {
     "data": {
      "text/plain": [
       "0.602437341423934"
      ]
     },
     "execution_count": 48,
     "metadata": {},
     "output_type": "execute_result"
    }
   ],
   "source": [
    "#Enter your code here\n",
    "from sklearn import linear_model\n",
    "\n",
    "lm = linear_model.LinearRegression()\n",
    "model = lm.fit(x,y)\n",
    "\n",
    "lm.score(x,y)"
   ]
  },
  {
   "cell_type": "code",
   "execution_count": null,
   "id": "d76e7936",
   "metadata": {},
   "outputs": [],
   "source": []
  }
 ],
 "metadata": {
  "kernelspec": {
   "display_name": "Python 3 (ipykernel)",
   "language": "python",
   "name": "python3"
  },
  "language_info": {
   "codemirror_mode": {
    "name": "ipython",
    "version": 3
   },
   "file_extension": ".py",
   "mimetype": "text/x-python",
   "name": "python",
   "nbconvert_exporter": "python",
   "pygments_lexer": "ipython3",
   "version": "3.11.0"
  }
 },
 "nbformat": 4,
 "nbformat_minor": 5
}
