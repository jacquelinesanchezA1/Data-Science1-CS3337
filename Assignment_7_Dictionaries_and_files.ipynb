{
 "cells": [
  {
   "cell_type": "markdown",
   "id": "4de22635",
   "metadata": {},
   "source": [
    "Write a Python program that takes a text file name from the command line as input, reads in the file, and prints the number of occurrences of every word in the file. Your program should use a custom function for processing the number of occurrences, and this function should be case-insensitive so 'Hello' and 'hello' are treated as the same word. You should ignore words of length 2 or less. The results printed will be ordered from the most frequent to the least frequent. Hint: dictionary and list. Test your implementation on files great_expectations.txt, moby-dick.txt, lorem-ipsum.txt, a-princess-of-mars.txt Requirements: (1) Your program should capture the input file name from the command line (2) Your program should use python exception (i.e.) to validate that (a) the user of the program provides the correct arguments at the command line, (b) the file indicated by the user of the program exists and if not throw exception The program should work like this \n",
    "\n",
    " python wordcount.py example_file.txt \n",
    "\n",
    "    the 50\n",
    "\n",
    "    hello 5\n",
    "\n",
    "    can 3 \n",
    "\n",
    "    was 3 \n",
    "\n",
    " \n",
    "\n",
    "python wordcount.py \n",
    "\n",
    " Please provide a file name as an additional command line argument\n",
    "\n",
    "python wordcount.py /usr/example_file.txt \n",
    "\n",
    " The file name you used \"/usr/example_file.txt\" does not exist. Please provide a file that exists."
   ]
  },
  {
   "cell_type": "code",
   "execution_count": null,
   "id": "8545e637",
   "metadata": {},
   "outputs": [],
   "source": []
  }
 ],
 "metadata": {
  "kernelspec": {
   "display_name": "Python 3 (ipykernel)",
   "language": "python",
   "name": "python3"
  },
  "language_info": {
   "codemirror_mode": {
    "name": "ipython",
    "version": 3
   },
   "file_extension": ".py",
   "mimetype": "text/x-python",
   "name": "python",
   "nbconvert_exporter": "python",
   "pygments_lexer": "ipython3",
   "version": "3.11.0"
  }
 },
 "nbformat": 4,
 "nbformat_minor": 5
}
