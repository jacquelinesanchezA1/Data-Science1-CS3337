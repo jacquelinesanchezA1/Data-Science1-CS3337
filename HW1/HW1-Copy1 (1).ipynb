{
 "cells": [
  {
   "cell_type": "markdown",
   "id": "0874c204-c395-4393-83e9-55db794ad4a5",
   "metadata": {},
   "source": [
    "## About The Data\n",
    "\n",
    "The data we'll be using comes from [kaggle](https://www.kaggle.com/), and contains the following car attributes:\n",
    "\n",
    "- car_ID\n",
    "- symboling\n",
    "- CarName\n",
    "- fueltype\n",
    "- aspiration\n",
    "- doornumber\n",
    "- carbody\n",
    "- drivewheel\n",
    "- enginelocation\n",
    "- wheelbase\n",
    "- carlength\n",
    "- carwidth\n",
    "- carheight\n",
    "- curbweight\n",
    "- enginetype\n",
    "- cylindernumber\n",
    "- enginesize\n",
    "- fuelsystem\n",
    "- boreratio\n",
    "- stroke\n",
    "- compressionratio\n",
    "- horsepower\n",
    "- peakrpm\n",
    "- citympg\n",
    "- highwaympg\n",
    "- price\n"
   ]
  },
  {
   "cell_type": "markdown",
   "id": "26cb14b1-53ca-4604-91b6-5d99c3ff2b72",
   "metadata": {},
   "source": [
    "## Problem Statement\n",
    "You are required to model the price of cars with the available independent variables. It will be used by your management team to understand how exactly the prices vary with the independent variables. They can accordingly manipulate the design of the cars, the business strategy etc. to meet certain price levels. Further, the model will be a good way for management to understand the pricing dynamics of a new market.\n",
    "\n",
    "In general, your company would like for you to answer the followi\n",
    "\n",
    "- Which variables are significant in predicting the price of a car\n",
    "- How well those variables describe the price of a carng:"
   ]
  },
  {
   "cell_type": "markdown",
   "id": "3b6bad63-5602-435c-83e5-b405fce92389",
   "metadata": {},
   "source": [
    "## Part 1. Reading and Understanding the Data"
   ]
  },
  {
   "cell_type": "markdown",
   "id": "08822bde-7c0a-4950-9e9b-d0245bc83741",
   "metadata": {},
   "source": [
    "Begin by importing some necessary libraries that you'll be using to explore the data."
   ]
  },
  {
   "cell_type": "code",
   "execution_count": 1,
   "id": "fd2a38a7-fa3b-4f7e-8d73-cd327df574c0",
   "metadata": {},
   "outputs": [],
   "source": [
    "import numpy as np\n",
    "import pandas as pd\n",
    "\n",
    "import matplotlib.pyplot as plt\n",
    "import seaborn as sns\n",
    "from matplotlib import rcParams"
   ]
  },
  {
   "cell_type": "code",
   "execution_count": 2,
   "id": "0764d87f-6c96-4804-b22b-18b388acc0ac",
   "metadata": {},
   "outputs": [],
   "source": [
    "rcParams['figure.figsize'] = 8, 5\n",
    "sns.set_style('darkgrid')"
   ]
  },
  {
   "cell_type": "markdown",
   "id": "1b3bc6ef-8ae5-4acd-9588-52fea211b7f4",
   "metadata": {},
   "source": [
    "Import the data using pandas and save into a variable named cars_df. Then display the first 5 rows."
   ]
  },
  {
   "cell_type": "code",
   "execution_count": 3,
   "id": "777204e9-89b2-4bd5-96f7-9f871118aca4",
   "metadata": {},
   "outputs": [
    {
     "data": {
      "text/html": [
       "<div>\n",
       "<style scoped>\n",
       "    .dataframe tbody tr th:only-of-type {\n",
       "        vertical-align: middle;\n",
       "    }\n",
       "\n",
       "    .dataframe tbody tr th {\n",
       "        vertical-align: top;\n",
       "    }\n",
       "\n",
       "    .dataframe thead th {\n",
       "        text-align: right;\n",
       "    }\n",
       "</style>\n",
       "<table border=\"1\" class=\"dataframe\">\n",
       "  <thead>\n",
       "    <tr style=\"text-align: right;\">\n",
       "      <th></th>\n",
       "      <th>car_ID</th>\n",
       "      <th>symboling</th>\n",
       "      <th>CarName</th>\n",
       "      <th>fueltype</th>\n",
       "      <th>aspiration</th>\n",
       "      <th>doornumber</th>\n",
       "      <th>carbody</th>\n",
       "      <th>drivewheel</th>\n",
       "      <th>enginelocation</th>\n",
       "      <th>wheelbase</th>\n",
       "      <th>...</th>\n",
       "      <th>enginesize</th>\n",
       "      <th>fuelsystem</th>\n",
       "      <th>boreratio</th>\n",
       "      <th>stroke</th>\n",
       "      <th>compressionratio</th>\n",
       "      <th>horsepower</th>\n",
       "      <th>peakrpm</th>\n",
       "      <th>citympg</th>\n",
       "      <th>highwaympg</th>\n",
       "      <th>price</th>\n",
       "    </tr>\n",
       "  </thead>\n",
       "  <tbody>\n",
       "    <tr>\n",
       "      <th>0</th>\n",
       "      <td>1</td>\n",
       "      <td>3</td>\n",
       "      <td>alfa-romero giulia</td>\n",
       "      <td>gas</td>\n",
       "      <td>std</td>\n",
       "      <td>two</td>\n",
       "      <td>convertible</td>\n",
       "      <td>rwd</td>\n",
       "      <td>front</td>\n",
       "      <td>88.6</td>\n",
       "      <td>...</td>\n",
       "      <td>130</td>\n",
       "      <td>mpfi</td>\n",
       "      <td>3.47</td>\n",
       "      <td>2.68</td>\n",
       "      <td>9.0</td>\n",
       "      <td>111</td>\n",
       "      <td>5000</td>\n",
       "      <td>21</td>\n",
       "      <td>27</td>\n",
       "      <td>13495.0</td>\n",
       "    </tr>\n",
       "    <tr>\n",
       "      <th>1</th>\n",
       "      <td>2</td>\n",
       "      <td>3</td>\n",
       "      <td>alfa-romero stelvio</td>\n",
       "      <td>gas</td>\n",
       "      <td>std</td>\n",
       "      <td>two</td>\n",
       "      <td>convertible</td>\n",
       "      <td>rwd</td>\n",
       "      <td>front</td>\n",
       "      <td>88.6</td>\n",
       "      <td>...</td>\n",
       "      <td>130</td>\n",
       "      <td>mpfi</td>\n",
       "      <td>3.47</td>\n",
       "      <td>2.68</td>\n",
       "      <td>9.0</td>\n",
       "      <td>111</td>\n",
       "      <td>5000</td>\n",
       "      <td>21</td>\n",
       "      <td>27</td>\n",
       "      <td>16500.0</td>\n",
       "    </tr>\n",
       "    <tr>\n",
       "      <th>2</th>\n",
       "      <td>3</td>\n",
       "      <td>1</td>\n",
       "      <td>alfa-romero Quadrifoglio</td>\n",
       "      <td>gas</td>\n",
       "      <td>std</td>\n",
       "      <td>two</td>\n",
       "      <td>hatchback</td>\n",
       "      <td>rwd</td>\n",
       "      <td>front</td>\n",
       "      <td>94.5</td>\n",
       "      <td>...</td>\n",
       "      <td>152</td>\n",
       "      <td>mpfi</td>\n",
       "      <td>2.68</td>\n",
       "      <td>3.47</td>\n",
       "      <td>9.0</td>\n",
       "      <td>154</td>\n",
       "      <td>5000</td>\n",
       "      <td>19</td>\n",
       "      <td>26</td>\n",
       "      <td>16500.0</td>\n",
       "    </tr>\n",
       "    <tr>\n",
       "      <th>3</th>\n",
       "      <td>4</td>\n",
       "      <td>2</td>\n",
       "      <td>audi 100 ls</td>\n",
       "      <td>gas</td>\n",
       "      <td>std</td>\n",
       "      <td>four</td>\n",
       "      <td>sedan</td>\n",
       "      <td>fwd</td>\n",
       "      <td>front</td>\n",
       "      <td>99.8</td>\n",
       "      <td>...</td>\n",
       "      <td>109</td>\n",
       "      <td>mpfi</td>\n",
       "      <td>3.19</td>\n",
       "      <td>3.40</td>\n",
       "      <td>10.0</td>\n",
       "      <td>102</td>\n",
       "      <td>5500</td>\n",
       "      <td>24</td>\n",
       "      <td>30</td>\n",
       "      <td>13950.0</td>\n",
       "    </tr>\n",
       "    <tr>\n",
       "      <th>4</th>\n",
       "      <td>5</td>\n",
       "      <td>2</td>\n",
       "      <td>audi 100ls</td>\n",
       "      <td>gas</td>\n",
       "      <td>std</td>\n",
       "      <td>four</td>\n",
       "      <td>sedan</td>\n",
       "      <td>4wd</td>\n",
       "      <td>front</td>\n",
       "      <td>99.4</td>\n",
       "      <td>...</td>\n",
       "      <td>136</td>\n",
       "      <td>mpfi</td>\n",
       "      <td>3.19</td>\n",
       "      <td>3.40</td>\n",
       "      <td>8.0</td>\n",
       "      <td>115</td>\n",
       "      <td>5500</td>\n",
       "      <td>18</td>\n",
       "      <td>22</td>\n",
       "      <td>17450.0</td>\n",
       "    </tr>\n",
       "  </tbody>\n",
       "</table>\n",
       "<p>5 rows × 26 columns</p>\n",
       "</div>"
      ],
      "text/plain": [
       "   car_ID  symboling                   CarName fueltype aspiration doornumber  \\\n",
       "0       1          3        alfa-romero giulia      gas        std        two   \n",
       "1       2          3       alfa-romero stelvio      gas        std        two   \n",
       "2       3          1  alfa-romero Quadrifoglio      gas        std        two   \n",
       "3       4          2               audi 100 ls      gas        std       four   \n",
       "4       5          2                audi 100ls      gas        std       four   \n",
       "\n",
       "       carbody drivewheel enginelocation  wheelbase  ...  enginesize  \\\n",
       "0  convertible        rwd          front       88.6  ...         130   \n",
       "1  convertible        rwd          front       88.6  ...         130   \n",
       "2    hatchback        rwd          front       94.5  ...         152   \n",
       "3        sedan        fwd          front       99.8  ...         109   \n",
       "4        sedan        4wd          front       99.4  ...         136   \n",
       "\n",
       "   fuelsystem  boreratio  stroke compressionratio horsepower  peakrpm citympg  \\\n",
       "0        mpfi       3.47    2.68              9.0        111     5000      21   \n",
       "1        mpfi       3.47    2.68              9.0        111     5000      21   \n",
       "2        mpfi       2.68    3.47              9.0        154     5000      19   \n",
       "3        mpfi       3.19    3.40             10.0        102     5500      24   \n",
       "4        mpfi       3.19    3.40              8.0        115     5500      18   \n",
       "\n",
       "   highwaympg    price  \n",
       "0          27  13495.0  \n",
       "1          27  16500.0  \n",
       "2          26  16500.0  \n",
       "3          30  13950.0  \n",
       "4          22  17450.0  \n",
       "\n",
       "[5 rows x 26 columns]"
      ]
     },
     "execution_count": 3,
     "metadata": {},
     "output_type": "execute_result"
    }
   ],
   "source": [
    "# Loading the dataset\n",
    "cars_df = pd.read_csv('car_data.csv')\n",
    "\n",
    "# Displaying the first 5 rows\n",
    "cars_df.head()"
   ]
  },
  {
   "cell_type": "markdown",
   "id": "fed41542-ab53-438d-a60e-1ef26dbe6ee6",
   "metadata": {},
   "source": [
    "Print some basic statistics of your data."
   ]
  },
  {
   "cell_type": "code",
   "execution_count": 4,
   "id": "2a79b346-0cc0-460f-bba5-3c67ed46e906",
   "metadata": {},
   "outputs": [
    {
     "data": {
      "text/html": [
       "<div>\n",
       "<style scoped>\n",
       "    .dataframe tbody tr th:only-of-type {\n",
       "        vertical-align: middle;\n",
       "    }\n",
       "\n",
       "    .dataframe tbody tr th {\n",
       "        vertical-align: top;\n",
       "    }\n",
       "\n",
       "    .dataframe thead th {\n",
       "        text-align: right;\n",
       "    }\n",
       "</style>\n",
       "<table border=\"1\" class=\"dataframe\">\n",
       "  <thead>\n",
       "    <tr style=\"text-align: right;\">\n",
       "      <th></th>\n",
       "      <th>car_ID</th>\n",
       "      <th>symboling</th>\n",
       "      <th>wheelbase</th>\n",
       "      <th>carlength</th>\n",
       "      <th>carwidth</th>\n",
       "      <th>carheight</th>\n",
       "      <th>curbweight</th>\n",
       "      <th>enginesize</th>\n",
       "      <th>boreratio</th>\n",
       "      <th>stroke</th>\n",
       "      <th>compressionratio</th>\n",
       "      <th>horsepower</th>\n",
       "      <th>peakrpm</th>\n",
       "      <th>citympg</th>\n",
       "      <th>highwaympg</th>\n",
       "      <th>price</th>\n",
       "    </tr>\n",
       "  </thead>\n",
       "  <tbody>\n",
       "    <tr>\n",
       "      <th>count</th>\n",
       "      <td>205.000000</td>\n",
       "      <td>205.000000</td>\n",
       "      <td>205.000000</td>\n",
       "      <td>205.000000</td>\n",
       "      <td>205.000000</td>\n",
       "      <td>205.000000</td>\n",
       "      <td>205.000000</td>\n",
       "      <td>205.000000</td>\n",
       "      <td>205.000000</td>\n",
       "      <td>205.000000</td>\n",
       "      <td>205.000000</td>\n",
       "      <td>205.000000</td>\n",
       "      <td>205.000000</td>\n",
       "      <td>205.000000</td>\n",
       "      <td>205.000000</td>\n",
       "      <td>205.000000</td>\n",
       "    </tr>\n",
       "    <tr>\n",
       "      <th>mean</th>\n",
       "      <td>103.000000</td>\n",
       "      <td>0.834146</td>\n",
       "      <td>98.756585</td>\n",
       "      <td>174.049268</td>\n",
       "      <td>65.907805</td>\n",
       "      <td>53.724878</td>\n",
       "      <td>2555.565854</td>\n",
       "      <td>126.907317</td>\n",
       "      <td>3.329756</td>\n",
       "      <td>3.255415</td>\n",
       "      <td>10.142537</td>\n",
       "      <td>104.117073</td>\n",
       "      <td>5125.121951</td>\n",
       "      <td>25.219512</td>\n",
       "      <td>30.751220</td>\n",
       "      <td>13276.710571</td>\n",
       "    </tr>\n",
       "    <tr>\n",
       "      <th>std</th>\n",
       "      <td>59.322565</td>\n",
       "      <td>1.245307</td>\n",
       "      <td>6.021776</td>\n",
       "      <td>12.337289</td>\n",
       "      <td>2.145204</td>\n",
       "      <td>2.443522</td>\n",
       "      <td>520.680204</td>\n",
       "      <td>41.642693</td>\n",
       "      <td>0.270844</td>\n",
       "      <td>0.313597</td>\n",
       "      <td>3.972040</td>\n",
       "      <td>39.544167</td>\n",
       "      <td>476.985643</td>\n",
       "      <td>6.542142</td>\n",
       "      <td>6.886443</td>\n",
       "      <td>7988.852332</td>\n",
       "    </tr>\n",
       "    <tr>\n",
       "      <th>min</th>\n",
       "      <td>1.000000</td>\n",
       "      <td>-2.000000</td>\n",
       "      <td>86.600000</td>\n",
       "      <td>141.100000</td>\n",
       "      <td>60.300000</td>\n",
       "      <td>47.800000</td>\n",
       "      <td>1488.000000</td>\n",
       "      <td>61.000000</td>\n",
       "      <td>2.540000</td>\n",
       "      <td>2.070000</td>\n",
       "      <td>7.000000</td>\n",
       "      <td>48.000000</td>\n",
       "      <td>4150.000000</td>\n",
       "      <td>13.000000</td>\n",
       "      <td>16.000000</td>\n",
       "      <td>5118.000000</td>\n",
       "    </tr>\n",
       "    <tr>\n",
       "      <th>25%</th>\n",
       "      <td>52.000000</td>\n",
       "      <td>0.000000</td>\n",
       "      <td>94.500000</td>\n",
       "      <td>166.300000</td>\n",
       "      <td>64.100000</td>\n",
       "      <td>52.000000</td>\n",
       "      <td>2145.000000</td>\n",
       "      <td>97.000000</td>\n",
       "      <td>3.150000</td>\n",
       "      <td>3.110000</td>\n",
       "      <td>8.600000</td>\n",
       "      <td>70.000000</td>\n",
       "      <td>4800.000000</td>\n",
       "      <td>19.000000</td>\n",
       "      <td>25.000000</td>\n",
       "      <td>7788.000000</td>\n",
       "    </tr>\n",
       "    <tr>\n",
       "      <th>50%</th>\n",
       "      <td>103.000000</td>\n",
       "      <td>1.000000</td>\n",
       "      <td>97.000000</td>\n",
       "      <td>173.200000</td>\n",
       "      <td>65.500000</td>\n",
       "      <td>54.100000</td>\n",
       "      <td>2414.000000</td>\n",
       "      <td>120.000000</td>\n",
       "      <td>3.310000</td>\n",
       "      <td>3.290000</td>\n",
       "      <td>9.000000</td>\n",
       "      <td>95.000000</td>\n",
       "      <td>5200.000000</td>\n",
       "      <td>24.000000</td>\n",
       "      <td>30.000000</td>\n",
       "      <td>10295.000000</td>\n",
       "    </tr>\n",
       "    <tr>\n",
       "      <th>75%</th>\n",
       "      <td>154.000000</td>\n",
       "      <td>2.000000</td>\n",
       "      <td>102.400000</td>\n",
       "      <td>183.100000</td>\n",
       "      <td>66.900000</td>\n",
       "      <td>55.500000</td>\n",
       "      <td>2935.000000</td>\n",
       "      <td>141.000000</td>\n",
       "      <td>3.580000</td>\n",
       "      <td>3.410000</td>\n",
       "      <td>9.400000</td>\n",
       "      <td>116.000000</td>\n",
       "      <td>5500.000000</td>\n",
       "      <td>30.000000</td>\n",
       "      <td>34.000000</td>\n",
       "      <td>16503.000000</td>\n",
       "    </tr>\n",
       "    <tr>\n",
       "      <th>max</th>\n",
       "      <td>205.000000</td>\n",
       "      <td>3.000000</td>\n",
       "      <td>120.900000</td>\n",
       "      <td>208.100000</td>\n",
       "      <td>72.300000</td>\n",
       "      <td>59.800000</td>\n",
       "      <td>4066.000000</td>\n",
       "      <td>326.000000</td>\n",
       "      <td>3.940000</td>\n",
       "      <td>4.170000</td>\n",
       "      <td>23.000000</td>\n",
       "      <td>288.000000</td>\n",
       "      <td>6600.000000</td>\n",
       "      <td>49.000000</td>\n",
       "      <td>54.000000</td>\n",
       "      <td>45400.000000</td>\n",
       "    </tr>\n",
       "  </tbody>\n",
       "</table>\n",
       "</div>"
      ],
      "text/plain": [
       "           car_ID   symboling   wheelbase   carlength    carwidth   carheight  \\\n",
       "count  205.000000  205.000000  205.000000  205.000000  205.000000  205.000000   \n",
       "mean   103.000000    0.834146   98.756585  174.049268   65.907805   53.724878   \n",
       "std     59.322565    1.245307    6.021776   12.337289    2.145204    2.443522   \n",
       "min      1.000000   -2.000000   86.600000  141.100000   60.300000   47.800000   \n",
       "25%     52.000000    0.000000   94.500000  166.300000   64.100000   52.000000   \n",
       "50%    103.000000    1.000000   97.000000  173.200000   65.500000   54.100000   \n",
       "75%    154.000000    2.000000  102.400000  183.100000   66.900000   55.500000   \n",
       "max    205.000000    3.000000  120.900000  208.100000   72.300000   59.800000   \n",
       "\n",
       "        curbweight  enginesize   boreratio      stroke  compressionratio  \\\n",
       "count   205.000000  205.000000  205.000000  205.000000        205.000000   \n",
       "mean   2555.565854  126.907317    3.329756    3.255415         10.142537   \n",
       "std     520.680204   41.642693    0.270844    0.313597          3.972040   \n",
       "min    1488.000000   61.000000    2.540000    2.070000          7.000000   \n",
       "25%    2145.000000   97.000000    3.150000    3.110000          8.600000   \n",
       "50%    2414.000000  120.000000    3.310000    3.290000          9.000000   \n",
       "75%    2935.000000  141.000000    3.580000    3.410000          9.400000   \n",
       "max    4066.000000  326.000000    3.940000    4.170000         23.000000   \n",
       "\n",
       "       horsepower      peakrpm     citympg  highwaympg         price  \n",
       "count  205.000000   205.000000  205.000000  205.000000    205.000000  \n",
       "mean   104.117073  5125.121951   25.219512   30.751220  13276.710571  \n",
       "std     39.544167   476.985643    6.542142    6.886443   7988.852332  \n",
       "min     48.000000  4150.000000   13.000000   16.000000   5118.000000  \n",
       "25%     70.000000  4800.000000   19.000000   25.000000   7788.000000  \n",
       "50%     95.000000  5200.000000   24.000000   30.000000  10295.000000  \n",
       "75%    116.000000  5500.000000   30.000000   34.000000  16503.000000  \n",
       "max    288.000000  6600.000000   49.000000   54.000000  45400.000000  "
      ]
     },
     "execution_count": 4,
     "metadata": {},
     "output_type": "execute_result"
    }
   ],
   "source": [
    "# Gerneral stats\n",
    "general_info = cars_df.describe()\n",
    "general_info.head(n=100)"
   ]
  },
  {
   "cell_type": "markdown",
   "id": "eff05b7c-34f5-41b7-a072-cc4a8a777a03",
   "metadata": {},
   "source": [
    "Print some general information about your data using pandas."
   ]
  },
  {
   "cell_type": "code",
   "execution_count": 5,
   "id": "7681dc86-ef4d-4afb-8dc7-aaeff348e350",
   "metadata": {},
   "outputs": [
    {
     "name": "stdout",
     "output_type": "stream",
     "text": [
      "<class 'pandas.core.frame.DataFrame'>\n",
      "RangeIndex: 205 entries, 0 to 204\n",
      "Data columns (total 26 columns):\n",
      " #   Column            Non-Null Count  Dtype  \n",
      "---  ------            --------------  -----  \n",
      " 0   car_ID            205 non-null    int64  \n",
      " 1   symboling         205 non-null    int64  \n",
      " 2   CarName           205 non-null    object \n",
      " 3   fueltype          205 non-null    object \n",
      " 4   aspiration        205 non-null    object \n",
      " 5   doornumber        205 non-null    object \n",
      " 6   carbody           205 non-null    object \n",
      " 7   drivewheel        205 non-null    object \n",
      " 8   enginelocation    205 non-null    object \n",
      " 9   wheelbase         205 non-null    float64\n",
      " 10  carlength         205 non-null    float64\n",
      " 11  carwidth          205 non-null    float64\n",
      " 12  carheight         205 non-null    float64\n",
      " 13  curbweight        205 non-null    int64  \n",
      " 14  enginetype        205 non-null    object \n",
      " 15  cylindernumber    205 non-null    object \n",
      " 16  enginesize        205 non-null    int64  \n",
      " 17  fuelsystem        205 non-null    object \n",
      " 18  boreratio         205 non-null    float64\n",
      " 19  stroke            205 non-null    float64\n",
      " 20  compressionratio  205 non-null    float64\n",
      " 21  horsepower        205 non-null    int64  \n",
      " 22  peakrpm           205 non-null    int64  \n",
      " 23  citympg           205 non-null    int64  \n",
      " 24  highwaympg        205 non-null    int64  \n",
      " 25  price             205 non-null    float64\n",
      "dtypes: float64(8), int64(8), object(10)\n",
      "memory usage: 41.8+ KB\n"
     ]
    }
   ],
   "source": [
    "### WRITE YOUR CODE HERE, WHICH SHOULD REPRODUCE THE BELOW IF DONE CORRECTLY ###\n",
    "cars_df.info()"
   ]
  },
  {
   "cell_type": "markdown",
   "id": "eb6deaa1-adb3-4243-9971-990c3089c6c3",
   "metadata": {},
   "source": [
    "By looking at our previous output, are there any missing values in this dataset? How do we know?"
   ]
  },
  {
   "cell_type": "markdown",
   "id": "da866f9b-b971-4e89-9d48-48528af37dd7",
   "metadata": {},
   "source": [
    "Based on the output of the describe() method, there are no missing values in the dataset as all columns show 205 non-null entries. "
   ]
  },
  {
   "cell_type": "markdown",
   "id": "bbda0ecb-f187-4239-b218-6366f4c0c9ca",
   "metadata": {},
   "source": [
    "## Part 2. Data Cleaning and Preparation"
   ]
  },
  {
   "cell_type": "markdown",
   "id": "67251c4b-d7df-45dd-9682-09e46eec2863",
   "metadata": {},
   "source": [
    "\n",
    "Instead of using car names, let's extract company names to see how the companies are distributed. Use the CarName column to create a new column in cars_df called 'car_company' that tells us which company the car belongs to. Once you've accomplished this, display all of the unique company names in our dataset.\n",
    "\n",
    "Hint: Every carName value has the car company name placed in front of it, so you can parse it out. Also lowercase every company name to ensure that we don't double count something like bmw with BMW."
   ]
  },
  {
   "cell_type": "code",
   "execution_count": 19,
   "id": "e53247f9-3ba1-4c5e-aed1-c35bd16d6a0d",
   "metadata": {},
   "outputs": [
    {
     "name": "stdout",
     "output_type": "stream",
     "text": [
      "The The unique companies in our dataset are:\n",
      "['alfa-romero' 'audi' 'bmw' 'chevrolet' 'dodge' 'honda' 'isuzu' 'jaguar'\n",
      " 'maxda' 'mazda' 'buick' 'mercury' 'mitsubishi' 'nissan' 'peugeot'\n",
      " 'plymouth' 'porsche' 'porcshce' 'renault' 'saab' 'subaru' 'toyota'\n",
      " 'toyouta' 'vokswagen' 'volkswagen' 'vw' 'volvo']\n"
     ]
    }
   ],
   "source": [
    "# Extract company names and create a new column\n",
    "cars_df['car_company'] = cars_df['CarName'].apply(lambda x: x.split(' ')[0].lower())\n",
    "\n",
    "# Display unique company names\n",
    "print('The The unique companies in our dataset are:')\n",
    "print(cars_df['car_company'].unique())"
   ]
  },
  {
   "cell_type": "markdown",
   "id": "a01e7de8",
   "metadata": {},
   "source": [
    "Notice how there are some typos in the data. 'toyouta' should be 'toyota', 'porcshce' should be 'porsche', 'maxda' should be 'mazda', 'vokswagen' should be 'volkswagen', and 'vw' should be 'volkswagen'. Use Pandas to make these name corrections and display the unique company names again. "
   ]
  },
  {
   "cell_type": "code",
   "execution_count": 24,
   "id": "67c99a41",
   "metadata": {},
   "outputs": [
    {
     "name": "stdout",
     "output_type": "stream",
     "text": [
      "The The unique companies in our dataset are:\n",
      "['alfa-romero' 'audi' 'bmw' 'chevrolet' 'dodge' 'honda' 'isuzu' 'jaguar'\n",
      " 'mazda' 'buick' 'mercury' 'mitsubishi' 'nissan' 'peugeot' 'plymouth'\n",
      " 'porsche' 'porcshce' 'renault' 'saab' 'subaru' 'toyota' 'volkswagen'\n",
      " 'volvo']\n"
     ]
    }
   ],
   "source": [
    "cars_df['car_company'] =cars_df['car_company'].replace({ \"toyouta\" : \"toyota\", \n",
    "                                 \"porcshe\" : \"porsche\", \n",
    "                                 \"maxda\" : \"mazda\", \n",
    "                                 \"vokswagen\" : \"volkswagen\",\n",
    "                                 \"vw\" : \"volkswagen\"} )\n",
    "\n",
    "\n",
    "##\n",
    "cars_df['car_company'] = cars_df['car_company'].apply(lambda x: x.split(' ')[0].lower())\n",
    "\n",
    "# Display unique company names\n",
    "print('The The unique companies in our dataset are:')\n",
    "print(cars_df['car_company'].unique())"
   ]
  },
  {
   "cell_type": "markdown",
   "id": "1c44b29c-6b42-4120-af86-35a486fc1e86",
   "metadata": {},
   "source": [
    "## Part 3. Visualising Categorical Data"
   ]
  },
  {
   "cell_type": "markdown",
   "id": "8cd042bd-46e0-4857-8055-9ff00b645d16",
   "metadata": {},
   "source": [
    "- CompanyName\n",
    "- Symboling\n",
    "- fueltype\n",
    "- enginetype\n",
    "- carbody\n",
    "- doornumber\n",
    "- enginelocation\n",
    "- fuelsystem\n",
    "- cylindernumber\n",
    "- aspiration\n",
    "- drivewheel\n"
   ]
  },
  {
   "cell_type": "markdown",
   "id": "81169f8c-4a00-42d3-bf15-18d6f7215c8f",
   "metadata": {},
   "source": [
    "Create the following plots\n",
    "\n",
    "1. A plot of the unique company names on the x-axis, and the value counts on the y-axis.\n",
    "2. A plot of the unique car bodys on the x-axis and value counts on the y-axis."
   ]
  },
  {
   "cell_type": "code",
   "execution_count": 142,
   "id": "147510b9-d66d-426c-bc1f-663c49c11fc2",
   "metadata": {},
   "outputs": [],
   "source": [
    "### WRITE YOUR CODE HERE, WHICH SHOULD REPRODUCE THE BELOW IF DONE CORRECTLY ###\n",
    "\n"
   ]
  },
  {
   "cell_type": "markdown",
   "id": "84109616-d57f-4bf5-9047-b59a10fda442",
   "metadata": {},
   "source": [
    "After creating these 2 plots, describe what we can conclude from them."
   ]
  },
  {
   "cell_type": "markdown",
   "id": "68298bd2-39e4-40b7-890c-86ea70128cc1",
   "metadata": {},
   "source": [
    "### WRITE YOUR ANSWER HERE"
   ]
  },
  {
   "cell_type": "markdown",
   "id": "4f733fdd-515b-4988-b7f5-41ad20922429",
   "metadata": {},
   "source": [
    "Create the following plots\n",
    "\n",
    "1. A plot of the unique company names on the x-axis, and that companies average price on the y-axis.\n",
    "2. A plot of the unique car bodys on the x-axis and that car body's average price on the y-axis."
   ]
  },
  {
   "cell_type": "code",
   "execution_count": 146,
   "id": "09622f33-e89e-4e83-9e9a-fe8f62e03a15",
   "metadata": {},
   "outputs": [],
   "source": [
    "### WRITE YOUR CODE HERE, WHICH SHOULD REPRODUCE THE BELOW IF DONE CORRECTLY ###"
   ]
  },
  {
   "cell_type": "markdown",
   "id": "51b94363-611a-49fb-b00f-1d3c61cb6b7a",
   "metadata": {},
   "source": [
    "After creating these 2 plots, describe what we can conclude from them."
   ]
  },
  {
   "cell_type": "markdown",
   "id": "d50f141c-4050-47a4-935d-fd57d78884c7",
   "metadata": {},
   "source": [
    "### WRITE YOUR ANSWER HERE"
   ]
  },
  {
   "cell_type": "markdown",
   "id": "0e6afc3e-bdae-4944-b7d7-a76fa88fe614",
   "metadata": {},
   "source": [
    "Create the following plots\n",
    "\n",
    "1. A plot of the unique symboling values on the x-axis, and the value counts on the y-axis.\n",
    "2. A box plot of the unique symboling values on the x-axis and price on the y-axis."
   ]
  },
  {
   "cell_type": "code",
   "execution_count": 150,
   "id": "8d17a058-7b5b-40cc-9e81-536dc52a797a",
   "metadata": {},
   "outputs": [],
   "source": [
    "### WRITE YOUR CODE HERE, WHICH SHOULD REPRODUCE THE BELOW IF DONE CORRECTLY ###"
   ]
  },
  {
   "cell_type": "markdown",
   "id": "0072cc71-5726-4ee0-ad9b-5f9db7035161",
   "metadata": {},
   "source": [
    "After creating these 2 plots, describe what we can conclude from them."
   ]
  },
  {
   "cell_type": "markdown",
   "id": "93ea4fe9-27be-47ba-b257-0cd99a8c20c7",
   "metadata": {},
   "source": [
    "### WRITE YOUR ANSWER HERE"
   ]
  },
  {
   "cell_type": "markdown",
   "id": "18e662e0-0676-47a3-9d11-201160c74e41",
   "metadata": {},
   "source": [
    "Create the following plots\n",
    "\n",
    "1. A plot of enginetype on the x-axis, and the value counts on the y-axis.\n",
    "2. A box plot of enginetype on the x-axis and price on the y-axis."
   ]
  },
  {
   "cell_type": "code",
   "execution_count": 154,
   "id": "63655cd0-fcc1-4981-828a-53fe60d662bc",
   "metadata": {},
   "outputs": [],
   "source": [
    "### WRITE YOUR CODE HERE, WHICH SHOULD REPRODUCE THE BELOW IF DONE CORRECTLY ###"
   ]
  },
  {
   "cell_type": "markdown",
   "id": "baa5f34f-2b8c-444e-84b6-2344db10be69",
   "metadata": {},
   "source": [
    "After creating these 2 plots, describe what we can conclude from them."
   ]
  },
  {
   "cell_type": "markdown",
   "id": "1cc6d66e-8e28-4f3b-aae6-55a2f7efa75e",
   "metadata": {},
   "source": [
    "Create the following plots\n",
    "1. A plot of cylindernumber on the x-axis, and the value counts on the y-axis.\n",
    "2. \n",
    "A box plot of cylindernumber on the x-axis and price on the y-axis.is."
   ]
  },
  {
   "cell_type": "code",
   "execution_count": 157,
   "id": "b0236703-7cbc-425e-8a2d-84f95b02228a",
   "metadata": {},
   "outputs": [],
   "source": [
    "### WRITE YOUR CODE HERE, WHICH SHOULD REPRODUCE THE BELOW IF DONE CORRECTLY ###"
   ]
  },
  {
   "cell_type": "markdown",
   "id": "0ff64c80-5e4b-4dc4-b8c1-822653377d48",
   "metadata": {},
   "source": [
    "After creating these 2 plots, describe what we can conclude from them."
   ]
  },
  {
   "cell_type": "markdown",
   "id": "2d8e66e3-cf87-4423-ab9b-55251aaa033c",
   "metadata": {},
   "source": [
    "### WRITE YOUR ANSWER HERE"
   ]
  },
  {
   "cell_type": "markdown",
   "id": "032d35db-2cc8-407e-bba1-81c9a157921e",
   "metadata": {},
   "source": [
    "Create the following plots\n",
    "\n",
    "1. A plot of fuelsystem on the x-axis, and the value counts on the y-axis.\n",
    "2. A box plot of fuelsystem on the x-axis and price on the y-axis."
   ]
  },
  {
   "cell_type": "code",
   "execution_count": 161,
   "id": "05359ba7-2aae-44e6-8946-8d9451581704",
   "metadata": {},
   "outputs": [],
   "source": [
    "### WRITE YOUR CODE HERE, WHICH SHOULD REPRODUCE THE BELOW IF DONE CORRECTLY ###"
   ]
  },
  {
   "cell_type": "markdown",
   "id": "a60c111c-e13d-4b77-9a24-79a37121b89d",
   "metadata": {},
   "source": [
    "After creating these 2 plots, describe what we can conclude from them."
   ]
  },
  {
   "cell_type": "markdown",
   "id": "9ffe3140-c7e0-4afc-a464-5ae05bbcf3c4",
   "metadata": {},
   "source": [
    "### WRITE YOUR ANSWER HERE"
   ]
  },
  {
   "cell_type": "markdown",
   "id": "7a380513-6c3a-4fb4-b19a-7fde444b9f92",
   "metadata": {},
   "source": [
    "Create the following plots\n",
    "\n",
    "1. A plot of drivewheel on the x-axis, and the value counts on the y-axis.\n",
    "2. A box plot of drivewheel on the x-axis and price on the y-axis."
   ]
  },
  {
   "cell_type": "code",
   "execution_count": 165,
   "id": "018be660-a57d-45ac-8f8f-8c0dd63f62a3",
   "metadata": {},
   "outputs": [],
   "source": [
    "### WRITE YOUR CODE HERE, WHICH SHOULD REPRODUCE THE BELOW IF DONE CORRECTLY ###"
   ]
  },
  {
   "cell_type": "markdown",
   "id": "0b46cb2e-39f0-4405-85ea-9bd3ff453bf6",
   "metadata": {},
   "source": [
    "After creating these 2 plots, describe what we can conclude from them."
   ]
  },
  {
   "cell_type": "markdown",
   "id": "47fa86fb-a8c8-4341-b250-6139b7fa6f55",
   "metadata": {},
   "source": [
    "### WRITE YOUR ANSWER HERE"
   ]
  },
  {
   "cell_type": "markdown",
   "id": "fb0e1268-03ea-4834-820e-1a960196531e",
   "metadata": {},
   "source": [
    "Create the following plots\n",
    "\n",
    "1. A plot of enginelocation on the x-axis, and the value counts on the y-axis.\n",
    "2. A box plot of enginelocation on the x-axis and price on the y-axis."
   ]
  },
  {
   "cell_type": "code",
   "execution_count": 169,
   "id": "e123155d-ba0d-494f-80df-d8c5e2d9f379",
   "metadata": {},
   "outputs": [],
   "source": [
    "### WRITE YOUR CODE HERE, WHICH SHOULD REPRODUCE THE BELOW IF DONE CORRECTLY ###"
   ]
  },
  {
   "cell_type": "markdown",
   "id": "aa94bb4f-4715-4124-9e36-18242440c962",
   "metadata": {},
   "source": [
    "After creating these 2 plots, describe what we can conclude from them."
   ]
  },
  {
   "cell_type": "markdown",
   "id": "c17ae17a-c399-46cf-ab6e-3dbd8e614b3c",
   "metadata": {},
   "source": [
    "### WRITE YOUR ANSWER HERE"
   ]
  },
  {
   "cell_type": "markdown",
   "id": "ddf5e6b0-8661-494a-bc6d-0f67246b6ba2",
   "metadata": {},
   "source": [
    "Create the following plots\n",
    "\n",
    "1. A plot of fueltype on the x-axis, and the value counts on the y-axis.\n",
    "2. A box plot of fueltype on the x-axis and price on the y-axis."
   ]
  },
  {
   "cell_type": "code",
   "execution_count": 173,
   "id": "b3911174-945d-4f8d-83ac-2208e959722c",
   "metadata": {},
   "outputs": [],
   "source": [
    "### WRITE YOUR CODE HERE, WHICH SHOULD REPRODUCE THE BELOW IF DONE CORRECTLY ###"
   ]
  },
  {
   "cell_type": "markdown",
   "id": "c4444244-c441-4286-85a3-8ac5e5b25f2d",
   "metadata": {},
   "source": [
    "After creating these 2 plots, describe what we can conclude from them."
   ]
  },
  {
   "cell_type": "markdown",
   "id": "ccf8897c-5b59-48ca-915d-3dc847206381",
   "metadata": {},
   "source": [
    "### WRITE YOUR ANSWER HERE"
   ]
  },
  {
   "cell_type": "markdown",
   "id": "e33872cb-2629-420e-86ed-9fc3ae2cc46c",
   "metadata": {},
   "source": [
    "Create the following plots\n",
    "\n",
    "1. A plot of doornumber on the x-axis, and the value counts on the y-axis.\n",
    "2. A box plot of doornumber on the x-axis and price on the y-axis."
   ]
  },
  {
   "cell_type": "code",
   "execution_count": 177,
   "id": "6520df26-a716-4f60-8461-37bf360daee6",
   "metadata": {},
   "outputs": [],
   "source": [
    "### WRITE YOUR CODE HERE, WHICH SHOULD REPRODUCE THE BELOW IF DONE CORRECTLY ###"
   ]
  },
  {
   "cell_type": "markdown",
   "id": "f3209228-b1da-46f0-a75d-f880c50f2470",
   "metadata": {},
   "source": [
    "After creating these 2 plots, describe what we can conclude from them."
   ]
  },
  {
   "cell_type": "markdown",
   "id": "9ede8355-c461-46e9-bb35-1193a44ee204",
   "metadata": {},
   "source": [
    "### WRITE YOUR ANSWER HERE"
   ]
  },
  {
   "cell_type": "markdown",
   "id": "110457bd-e81b-4d7f-b6f9-e940b3afc71b",
   "metadata": {},
   "source": [
    "Create the following plots\n",
    "\n",
    "1. A plot of aspiration on the x-axis, and the value counts on the y-axis.\n",
    "2. A box plot of aspiration on the x-axis and price on the y-axis."
   ]
  },
  {
   "cell_type": "code",
   "execution_count": 181,
   "id": "ba4e63b2-2fca-41f1-8a38-9a942a3227a9",
   "metadata": {},
   "outputs": [],
   "source": [
    "### WRITE YOUR CODE HERE, WHICH SHOULD REPRODUCE THE BELOW IF DONE CORRECTLY ###"
   ]
  },
  {
   "cell_type": "markdown",
   "id": "38ff04f8-7706-42f8-b194-f03e4c686012",
   "metadata": {},
   "source": [
    "After creating these 2 plots, describe what we can conclude from them."
   ]
  },
  {
   "cell_type": "markdown",
   "id": "d58a8bcb-7bb3-475a-96a7-f43bd57a11c7",
   "metadata": {},
   "source": [
    "### WRITE YOUR ANSWER HERE"
   ]
  },
  {
   "cell_type": "markdown",
   "id": "67142bb6-40ee-4486-9c58-1315e36779d9",
   "metadata": {},
   "source": [
    "## Part 4. Visualising Numerical Data"
   ]
  },
  {
   "cell_type": "markdown",
   "id": "d0aabdb6-b9b2-4672-a342-d760bd9f868a",
   "metadata": {},
   "source": [
    "price\n",
    "carlength\n",
    "carwidth\n",
    "carheight\n",
    "curbweight\n",
    "enginesize\n",
    "boreratio\n",
    "stroke\n",
    "compressionratio\n",
    "horsepower\n",
    "peakrpm\n",
    "wheelbase\n",
    "citympg\n",
    "highwaympg"
   ]
  },
  {
   "cell_type": "markdown",
   "id": "3071d772-588a-4ec1-89b5-3725bcefdf10",
   "metadata": {},
   "source": [
    "Create the following plots\n",
    "\n",
    "1. A plot showing the price distribution\n",
    "2. A box plot of price"
   ]
  },
  {
   "cell_type": "code",
   "execution_count": 187,
   "id": "f5519223-9c69-42c5-99db-367f1eef4f23",
   "metadata": {},
   "outputs": [],
   "source": [
    "### WRITE YOUR CODE HERE, WHICH SHOULD REPRODUCE THE BELOW IF DONE CORRECTLY ###"
   ]
  },
  {
   "cell_type": "markdown",
   "id": "7e99ab88-1e69-451c-b5e9-a385aa2b5072",
   "metadata": {},
   "source": [
    "After creating these 2 plots, describe what we can conclude from them."
   ]
  },
  {
   "cell_type": "markdown",
   "id": "264341fb-dbf8-4e00-b483-baa26f5235d6",
   "metadata": {},
   "source": [
    "### WRITE YOUR ANSWER HERE"
   ]
  },
  {
   "cell_type": "markdown",
   "id": "3c423bf2-331f-40d8-ba3b-493da02281c3",
   "metadata": {},
   "source": [
    "Let's try and get an idea of how the car attributes related to a car's size are related to price."
   ]
  },
  {
   "cell_type": "markdown",
   "id": "d47addb0-0261-48fd-94cf-91b453da3d46",
   "metadata": {},
   "source": [
    "Create the following plots\n",
    "\n",
    "1. A scatter plot of carlength vs price.\n",
    "2. A scatter plot of carwidth vs price.\n",
    "3. A scatter plot of carheight vs price.\n",
    "4. A scatter plot of carweight vs price.\n",
    " ce.rice."
   ]
  },
  {
   "cell_type": "code",
   "execution_count": 192,
   "id": "f8633326-cec6-48da-97a1-7db663db31de",
   "metadata": {},
   "outputs": [],
   "source": [
    "### WRITE YOUR CODE HERE, WHICH SHOULD REPRODUCE THE BELOW IF DONE CORRECTLY ###"
   ]
  },
  {
   "cell_type": "markdown",
   "id": "b72b61b8-8621-4d27-abe0-cc4577afff49",
   "metadata": {},
   "source": [
    "After creating these 4 plots, describe what we can conclude from them."
   ]
  },
  {
   "cell_type": "markdown",
   "id": "d9d3ed7e-7036-44eb-8978-19cfd1382605",
   "metadata": {},
   "source": [
    "### WRITE YOUR ANSWER HERE"
   ]
  },
  {
   "cell_type": "markdown",
   "id": "c1771e58-1477-4a20-9371-4a24fb7cc8c4",
   "metadata": {},
   "source": [
    "Create scatter plots of the remaining numerical variables to see their relationship with price.\n",
    "\n",
    "Create the following plots\n",
    "\n",
    "1. A scatter plot of enginesize vs price.\n",
    "2. A scatter plot of boreratio vs price.\n",
    "3. A scatter plot of stroke vs price.\n",
    "4. A scatter plot of compressionratio vs price.\n",
    "5. A scatter plot of horsepower vs price.\n",
    "6. A scatter plot of peakrpm vs price.\n",
    "7. A scatter plot of wheelbase vs price.\n",
    "8. A scatter plot of citympg vs price.\n",
    "9. A scatter plot of highwaympg vs price.\n",
    "pg vs price."
   ]
  },
  {
   "cell_type": "code",
   "execution_count": 196,
   "id": "4603bca2-9fbf-4d89-a80d-ed3a75299048",
   "metadata": {},
   "outputs": [],
   "source": [
    "### WRITE YOUR CODE HERE, WHICH SHOULD REPRODUCE THE BELOW IF DONE CORRECTLY ###"
   ]
  },
  {
   "cell_type": "markdown",
   "id": "95321b30-d3bd-44a9-960d-d3f06df9b294",
   "metadata": {},
   "source": [
    "After creating the plots above, describe what we can conclude from them."
   ]
  },
  {
   "cell_type": "markdown",
   "id": "812f15d5-b7db-45e4-a99b-7da24b7c1fbc",
   "metadata": {},
   "source": [
    "### WRITE YOUR ANSWER HERE"
   ]
  },
  {
   "cell_type": "markdown",
   "id": "74396952-5065-4b21-a0e8-536d179dc565",
   "metadata": {},
   "source": [
    "Create a heatmap or correlation matrix to inspect the correlations in our dataset."
   ]
  },
  {
   "cell_type": "code",
   "execution_count": 200,
   "id": "bd5abdef-1a77-4e4d-b9ee-30b2f8f16ce4",
   "metadata": {},
   "outputs": [],
   "source": [
    "### WRITE YOUR CODE HERE, WHICH SHOULD REPRODUCE THE BELOW IF DONE CORRECTLY ###"
   ]
  },
  {
   "cell_type": "markdown",
   "id": "a4cef6a9-d5a1-477f-97bf-a3096ea733f4",
   "metadata": {},
   "source": [
    "After creating the plot above, what can you conclude? Are there any features you can combine to form a new one? If so, try it out and see how it affects your final results in the end."
   ]
  },
  {
   "cell_type": "markdown",
   "id": "22d1e33f-6bae-4092-b75e-63dbbfed4faf",
   "metadata": {},
   "source": [
    "### WRITE YOUR ANSWER HERE"
   ]
  },
  {
   "cell_type": "markdown",
   "id": "950352d8-8b6e-4693-917b-1378d07f2c49",
   "metadata": {},
   "source": [
    "For example, citympg and highwaympg can be combined into a single feature. Create a new column called 'fuel_economy' that's a combination of the 2."
   ]
  },
  {
   "cell_type": "code",
   "execution_count": 204,
   "id": "f0a28d90-2dce-485b-9ddb-eaa8f48273e5",
   "metadata": {},
   "outputs": [],
   "source": [
    "### WRITE YOUR CODE HERE, WHICH SHOULD REPRODUCE THE BELOW IF DONE CORRECTLY ###"
   ]
  },
  {
   "cell_type": "markdown",
   "id": "1b1b1582-996d-4954-99d8-20223ad2c675",
   "metadata": {},
   "source": [
    "After visual analysis, which variables do you believe to be significant when predicting price, and why?"
   ]
  },
  {
   "cell_type": "markdown",
   "id": "ff4401c8-4ea8-4c17-9820-53c8178db52c",
   "metadata": {},
   "source": [
    "### WRITE YOUR ANSWER HERE"
   ]
  },
  {
   "cell_type": "markdown",
   "id": "39fceaa9-14d1-4a88-bbe2-dac04040a3af",
   "metadata": {},
   "source": [
    "## Part 5. Data Pre-Processing"
   ]
  },
  {
   "cell_type": "markdown",
   "id": "0e901c78-4d58-4d1b-9f50-38668a77e34d",
   "metadata": {},
   "source": [
    "Perform the following\n",
    "\n",
    "1. Convert your categorical variables into dummy variables\n",
    "2. Scale the data using a scaler of your choice\n",
    "3. Split your data into a training and testing set, with test size of 0.30\n"
   ]
  },
  {
   "cell_type": "code",
   "execution_count": 209,
   "id": "8ed46895-a53c-44bd-8ff9-aad2549b4a9b",
   "metadata": {},
   "outputs": [],
   "source": [
    "### WRITE YOUR CODE HERE ###"
   ]
  },
  {
   "cell_type": "markdown",
   "id": "0923f878-7e09-47e6-997e-a5d43a7104af",
   "metadata": {},
   "source": [
    "## Part 6. Model Creation and Evaluation"
   ]
  },
  {
   "cell_type": "markdown",
   "id": "ea778ccc-4eb8-43e7-816b-d8fe8ab9e05c",
   "metadata": {},
   "source": [
    "Perform the following using sklearn\n",
    "\n",
    "1. Create a linear regression model, and train (fit) it on the training data.\n",
    "2. Run the test data through your model to obtain predictions. Save these predictions into a variable called 'predictions'.\n",
    "3. Create a scatter plot of the true price labels vs the predicted price value of your model.\n",
    "4. Create a histogram of the residuals\n",
    "5. Print the \\( R^2 \\) of your model\n",
    "values."
   ]
  },
  {
   "cell_type": "markdown",
   "id": "5a01380f-bb05-4802-8cd4-016eebaa8ca9",
   "metadata": {},
   "source": [
    "Note: You don't need to obtain the same results as us. If you made any changes earlier and obtain better results, then even better. Just make sure you're not scoring significantly lower than our obtained values."
   ]
  },
  {
   "cell_type": "code",
   "execution_count": 213,
   "id": "28882974-20d9-4c8a-9627-ae7ce793f28e",
   "metadata": {},
   "outputs": [],
   "source": [
    "### WRITE YOUR CODE HERE, WHICH SHOULD REPRODUCE THE BELOW IF DONE CORRECTLY ###"
   ]
  },
  {
   "cell_type": "markdown",
   "id": "ff185582-28b3-4e8e-8735-a6e692f03700",
   "metadata": {},
   "source": [
    "Lastly, create a dataframe of your model's coefficents. For example, we obtained the coefficients below."
   ]
  },
  {
   "cell_type": "code",
   "execution_count": 215,
   "id": "4863b116-629a-4cee-9500-48759a60cc9d",
   "metadata": {},
   "outputs": [],
   "source": [
    "### WRITE YOUR CODE HERE, WHICH SHOULD REPRODUCE THE BELOW IF DONE CORRECTLY ###"
   ]
  },
  {
   "cell_type": "markdown",
   "id": "f92aaaa2-046a-4343-b7dd-a54696e3d613",
   "metadata": {},
   "source": [
    "What do your coefficients mean? Write a conclusion answering the problem statement we listed earlier, and what you've learned from the model."
   ]
  },
  {
   "cell_type": "markdown",
   "id": "9f77d6c5-95d4-44d3-a729-87826c91271a",
   "metadata": {},
   "source": [
    "### WRITE YOUR ANSWER HERE"
   ]
  }
 ],
 "metadata": {
  "kernelspec": {
   "display_name": "Python 3 (ipykernel)",
   "language": "python",
   "name": "python3"
  },
  "language_info": {
   "codemirror_mode": {
    "name": "ipython",
    "version": 3
   },
   "file_extension": ".py",
   "mimetype": "text/x-python",
   "name": "python",
   "nbconvert_exporter": "python",
   "pygments_lexer": "ipython3",
   "version": "3.11.0"
  }
 },
 "nbformat": 4,
 "nbformat_minor": 5
}
