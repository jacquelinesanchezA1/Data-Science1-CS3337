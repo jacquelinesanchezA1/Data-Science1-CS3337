{
 "cells": [
  {
   "cell_type": "markdown",
   "id": "7768a1ee",
   "metadata": {},
   "source": [
    "## Week 10 Lab (K Means)\n",
    "### COSC 3337 Dr. Rizk\n"
   ]
  },
  {
   "cell_type": "markdown",
   "id": "059b1d96",
   "metadata": {},
   "source": [
    "About The Data\n",
    "We'll be using the Customer Dataset from kaggle for this lab, but feel free to follow along with your own dataset. The dataset contains the following attributes:\n",
    "\n",
    "* CustomerID\n",
    "* Genre\n",
    "* Age\n",
    "* AnnualIncome(k$)\n",
    "* Spending_Score\n",
    "\n",
    "Our goal is to group/cluster these customers."
   ]
  },
  {
   "cell_type": "markdown",
   "id": "494b09e5",
   "metadata": {},
   "source": [
    "## About K Means\n",
    "K Means Clustering is an unsupervised learning algorithm that tries to cluster data based on their similarity. Unsupervised learning means that there is no outcome to be predicted, and the algorithm just tries to find patterns in the data. In k means clustering, we have the specify the number of clusters we want the data to be grouped into. The algorithm randomly assigns each observation to a cluster, and finds the centroid of each cluster. Then, the algorithm iterates through two steps: Reassign data points to the cluster whose centroid is closest. Calculate new centroid of each cluster. These two steps are repeated till the within cluster variation cannot be reduced any further. The within cluster variation is calculated as the sum of the euclidean distance between the data points and their respective cluster centroids. Refer back to the lecture video or slides for more detail on K Means."
   ]
  },
  {
   "cell_type": "markdown",
   "id": "d8e7dd53",
   "metadata": {},
   "source": [
    "### Implementation\n",
    "Because K Means is used more for finding patterns in our data, we'll skip the data exploration portion, but you're welcome to explore this data or your own if working with a different dataset.\n",
    "\n"
   ]
  },
  {
   "cell_type": "code",
   "execution_count": 1,
   "id": "726a2d60",
   "metadata": {},
   "outputs": [],
   "source": [
    "import numpy as np\n",
    "import pandas as pd\n",
    "import matplotlib.pyplot as plt\n",
    "import seaborn as sns"
   ]
  },
  {
   "cell_type": "code",
   "execution_count": 2,
   "id": "3381df5c",
   "metadata": {},
   "outputs": [],
   "source": [
    "from matplotlib import rcParams\n",
    "rcParams['figure.figsize'] = 15, 5\n",
    "sns.set_style('darkgrid')"
   ]
  },
  {
   "cell_type": "markdown",
   "id": "6755fb03",
   "metadata": {},
   "source": [
    "Let's first load the data into a pandas DataFrame. We'll use the CustomerID column as our index_col for this DataFrame."
   ]
  },
  {
   "cell_type": "code",
   "execution_count": 3,
   "id": "bfecf1fb",
   "metadata": {},
   "outputs": [
    {
     "data": {
      "text/html": [
       "<div>\n",
       "<style scoped>\n",
       "    .dataframe tbody tr th:only-of-type {\n",
       "        vertical-align: middle;\n",
       "    }\n",
       "\n",
       "    .dataframe tbody tr th {\n",
       "        vertical-align: top;\n",
       "    }\n",
       "\n",
       "    .dataframe thead th {\n",
       "        text-align: right;\n",
       "    }\n",
       "</style>\n",
       "<table border=\"1\" class=\"dataframe\">\n",
       "  <thead>\n",
       "    <tr style=\"text-align: right;\">\n",
       "      <th></th>\n",
       "      <th>Genre</th>\n",
       "      <th>Age</th>\n",
       "      <th>Annual_Income_(k$)</th>\n",
       "      <th>Spending_Score</th>\n",
       "    </tr>\n",
       "    <tr>\n",
       "      <th>CustomerID</th>\n",
       "      <th></th>\n",
       "      <th></th>\n",
       "      <th></th>\n",
       "      <th></th>\n",
       "    </tr>\n",
       "  </thead>\n",
       "  <tbody>\n",
       "    <tr>\n",
       "      <th>1</th>\n",
       "      <td>Male</td>\n",
       "      <td>19</td>\n",
       "      <td>15</td>\n",
       "      <td>39</td>\n",
       "    </tr>\n",
       "    <tr>\n",
       "      <th>2</th>\n",
       "      <td>Male</td>\n",
       "      <td>21</td>\n",
       "      <td>15</td>\n",
       "      <td>81</td>\n",
       "    </tr>\n",
       "    <tr>\n",
       "      <th>3</th>\n",
       "      <td>Female</td>\n",
       "      <td>20</td>\n",
       "      <td>16</td>\n",
       "      <td>6</td>\n",
       "    </tr>\n",
       "    <tr>\n",
       "      <th>4</th>\n",
       "      <td>Female</td>\n",
       "      <td>23</td>\n",
       "      <td>16</td>\n",
       "      <td>77</td>\n",
       "    </tr>\n",
       "    <tr>\n",
       "      <th>5</th>\n",
       "      <td>Female</td>\n",
       "      <td>31</td>\n",
       "      <td>17</td>\n",
       "      <td>40</td>\n",
       "    </tr>\n",
       "  </tbody>\n",
       "</table>\n",
       "</div>"
      ],
      "text/plain": [
       "             Genre  Age  Annual_Income_(k$)  Spending_Score\n",
       "CustomerID                                                 \n",
       "1             Male   19                  15              39\n",
       "2             Male   21                  15              81\n",
       "3           Female   20                  16               6\n",
       "4           Female   23                  16              77\n",
       "5           Female   31                  17              40"
      ]
     },
     "execution_count": 3,
     "metadata": {},
     "output_type": "execute_result"
    }
   ],
   "source": [
    "customer_df = pd.read_csv('customers.csv', index_col='CustomerID')\n",
    "customer_df.head()"
   ]
  },
  {
   "cell_type": "code",
   "execution_count": 5,
   "id": "9658dabb",
   "metadata": {},
   "outputs": [
    {
     "name": "stdout",
     "output_type": "stream",
     "text": [
      "        Age  Annual_Income_(k$)  Spending_Score\n",
      "Genre                                          \n",
      "Male     19                  15              39\n",
      "Male     21                  15              81\n",
      "Female   20                  16               6\n",
      "Female   23                  16              77\n",
      "Female   31                  17              40\n"
     ]
    }
   ],
   "source": [
    "customer_df['Genre'] = customer_df['Genre'].astype(str)\n",
    "\n",
    "# Step 3: Set 'CustomerID' as the index\n",
    "customer_df.set_index('Genre', inplace=True)\n",
    "\n",
    "# Make a copy of the DataFrame\n",
    "customer_df_copy = customer_df.copy()\n",
    "\n",
    "# Display the first few rows of the DataFrame\n",
    "print(customer_df_copy.head())"
   ]
  },
  {
   "cell_type": "code",
   "execution_count": null,
   "id": "23ed4e8b",
   "metadata": {},
   "outputs": [],
   "source": [
    "import pandas as pd\n",
    "\n",
    "# Step 1: Read the CSV file without setting the index\n",
    "customer_df = pd.read_csv('customers.csv')\n",
    "\n",
    "# Step 2: Ensure 'CustomerID' is of type string\n",
    "customer_df['CustomerID'] = customer_df['CustomerID'].astype(str)\n",
    "\n",
    "# Step 3: Set 'CustomerID' as the index\n",
    "customer_df.set_index('CustomerID', inplace=True)\n",
    "\n",
    "# Make a copy of the DataFrame\n",
    "customer_df_copy = customer_df.copy()\n",
    "\n",
    "# Display the first few rows of the DataFrame\n",
    "print(customer_df_copy.head())\n"
   ]
  },
  {
   "cell_type": "markdown",
   "id": "97ecd882",
   "metadata": {},
   "source": [
    "calling **.info()** we see that there are no missing values in this dataset since there are 200 entries in total and 200 non-null entries in each column."
   ]
  },
  {
   "cell_type": "code",
   "execution_count": null,
   "id": "58104d2a",
   "metadata": {},
   "outputs": [],
   "source": []
  },
  {
   "cell_type": "code",
   "execution_count": null,
   "id": "b225395b",
   "metadata": {},
   "outputs": [],
   "source": []
  },
  {
   "cell_type": "code",
   "execution_count": null,
   "id": "49102c94",
   "metadata": {},
   "outputs": [],
   "source": []
  },
  {
   "cell_type": "code",
   "execution_count": null,
   "id": "850d446f",
   "metadata": {},
   "outputs": [],
   "source": []
  },
  {
   "cell_type": "code",
   "execution_count": null,
   "id": "ba87cda9",
   "metadata": {},
   "outputs": [],
   "source": []
  }
 ],
 "metadata": {
  "kernelspec": {
   "display_name": "Python 3 (ipykernel)",
   "language": "python",
   "name": "python3"
  },
  "language_info": {
   "codemirror_mode": {
    "name": "ipython",
    "version": 3
   },
   "file_extension": ".py",
   "mimetype": "text/x-python",
   "name": "python",
   "nbconvert_exporter": "python",
   "pygments_lexer": "ipython3",
   "version": "3.11.0"
  }
 },
 "nbformat": 4,
 "nbformat_minor": 5
}
