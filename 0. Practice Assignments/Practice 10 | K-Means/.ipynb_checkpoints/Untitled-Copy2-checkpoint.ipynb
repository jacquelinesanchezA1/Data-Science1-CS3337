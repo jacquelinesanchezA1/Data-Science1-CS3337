{
 "cells": [
  {
   "cell_type": "markdown",
   "id": "1a2d5758",
   "metadata": {},
   "source": [
    "## Week 10 Lab (K Means)\n",
    "### COSC 3337 Dr. Rizk\n"
   ]
  },
  {
   "cell_type": "markdown",
   "id": "ead8c99b",
   "metadata": {},
   "source": [
    "About The Data\n",
    "We'll be using the Customer Dataset from kaggle for this lab, but feel free to follow along with your own dataset. The dataset contains the following attributes:\n",
    "\n",
    "* CustomerID\n",
    "* Genre\n",
    "* Age\n",
    "* AnnualIncome(k$)\n",
    "* Spending_Score\n",
    "\n",
    "Our goal is to group/cluster these customers."
   ]
  },
  {
   "cell_type": "markdown",
   "id": "ab150742",
   "metadata": {},
   "source": [
    "## About K Means\n",
    "K Means Clustering is an unsupervised learning algorithm that tries to cluster data based on their similarity. Unsupervised learning means that there is no outcome to be predicted, and the algorithm just tries to find patterns in the data. In k means clustering, we have the specify the number of clusters we want the data to be grouped into. The algorithm randomly assigns each observation to a cluster, and finds the centroid of each cluster. Then, the algorithm iterates through two steps: Reassign data points to the cluster whose centroid is closest. Calculate new centroid of each cluster. These two steps are repeated till the within cluster variation cannot be reduced any further. The within cluster variation is calculated as the sum of the euclidean distance between the data points and their respective cluster centroids. Refer back to the lecture video or slides for more detail on K Means."
   ]
  },
  {
   "cell_type": "markdown",
   "id": "3c29a330",
   "metadata": {},
   "source": [
    "### Implementation\n",
    "Because K Means is used more for finding patterns in our data, we'll skip the data exploration portion, but you're welcome to explore this data or your own if working with a different dataset.\n",
    "\n"
   ]
  },
  {
   "cell_type": "code",
   "execution_count": 1,
   "id": "ead0285b",
   "metadata": {},
   "outputs": [],
   "source": [
    "import numpy as np\n",
    "import pandas as pd\n",
    "import matplotlib.pyplot as plt\n",
    "import seaborn as sns"
   ]
  },
  {
   "cell_type": "code",
   "execution_count": 2,
   "id": "2cc43bfc",
   "metadata": {},
   "outputs": [],
   "source": [
    "from matplotlib import rcParams\n",
    "rcParams['figure.figsize'] = 15, 5\n",
    "sns.set_style('darkgrid')"
   ]
  },
  {
   "cell_type": "markdown",
   "id": "5e5ee826",
   "metadata": {},
   "source": [
    "Let's first load the data into a pandas DataFrame. We'll use the CustomerID column as our index_col for this DataFrame."
   ]
  },
  {
   "cell_type": "code",
   "execution_count": 3,
   "id": "f84ce747",
   "metadata": {},
   "outputs": [
    {
     "data": {
      "text/html": [
       "<div>\n",
       "<style scoped>\n",
       "    .dataframe tbody tr th:only-of-type {\n",
       "        vertical-align: middle;\n",
       "    }\n",
       "\n",
       "    .dataframe tbody tr th {\n",
       "        vertical-align: top;\n",
       "    }\n",
       "\n",
       "    .dataframe thead th {\n",
       "        text-align: right;\n",
       "    }\n",
       "</style>\n",
       "<table border=\"1\" class=\"dataframe\">\n",
       "  <thead>\n",
       "    <tr style=\"text-align: right;\">\n",
       "      <th></th>\n",
       "      <th>Genre</th>\n",
       "      <th>Age</th>\n",
       "      <th>Annual_Income_(k$)</th>\n",
       "      <th>Spending_Score</th>\n",
       "    </tr>\n",
       "    <tr>\n",
       "      <th>CustomerID</th>\n",
       "      <th></th>\n",
       "      <th></th>\n",
       "      <th></th>\n",
       "      <th></th>\n",
       "    </tr>\n",
       "  </thead>\n",
       "  <tbody>\n",
       "    <tr>\n",
       "      <th>1</th>\n",
       "      <td>Male</td>\n",
       "      <td>19</td>\n",
       "      <td>15</td>\n",
       "      <td>39</td>\n",
       "    </tr>\n",
       "    <tr>\n",
       "      <th>2</th>\n",
       "      <td>Male</td>\n",
       "      <td>21</td>\n",
       "      <td>15</td>\n",
       "      <td>81</td>\n",
       "    </tr>\n",
       "    <tr>\n",
       "      <th>3</th>\n",
       "      <td>Female</td>\n",
       "      <td>20</td>\n",
       "      <td>16</td>\n",
       "      <td>6</td>\n",
       "    </tr>\n",
       "    <tr>\n",
       "      <th>4</th>\n",
       "      <td>Female</td>\n",
       "      <td>23</td>\n",
       "      <td>16</td>\n",
       "      <td>77</td>\n",
       "    </tr>\n",
       "    <tr>\n",
       "      <th>5</th>\n",
       "      <td>Female</td>\n",
       "      <td>31</td>\n",
       "      <td>17</td>\n",
       "      <td>40</td>\n",
       "    </tr>\n",
       "  </tbody>\n",
       "</table>\n",
       "</div>"
      ],
      "text/plain": [
       "             Genre  Age  Annual_Income_(k$)  Spending_Score\n",
       "CustomerID                                                 \n",
       "1             Male   19                  15              39\n",
       "2             Male   21                  15              81\n",
       "3           Female   20                  16               6\n",
       "4           Female   23                  16              77\n",
       "5           Female   31                  17              40"
      ]
     },
     "execution_count": 3,
     "metadata": {},
     "output_type": "execute_result"
    }
   ],
   "source": [
    "customer_df = pd.read_csv('customers.csv', index_col='CustomerID')\n",
    "customer_df.head()"
   ]
  },
  {
   "cell_type": "code",
   "execution_count": 5,
   "id": "efbb45ca",
   "metadata": {},
   "outputs": [
    {
     "name": "stdout",
     "output_type": "stream",
     "text": [
      "        Age  Annual_Income_(k$)  Spending_Score\n",
      "Genre                                          \n",
      "Male     19                  15              39\n",
      "Male     21                  15              81\n",
      "Female   20                  16               6\n",
      "Female   23                  16              77\n",
      "Female   31                  17              40\n"
     ]
    }
   ],
   "source": [
    "customer_df['Genre'] = customer_df['Genre'].astype(str)\n",
    "\n",
    "# Step 3: Set 'CustomerID' as the index\n",
    "customer_df.set_index('Genre', inplace=True)\n",
    "\n",
    "# Make a copy of the DataFrame\n",
    "customer_df_copy = customer_df.copy()\n",
    "\n",
    "# Display the first few rows of the DataFrame\n",
    "print(customer_df_copy.head())"
   ]
  },
  {
   "cell_type": "markdown",
   "id": "89f52f58",
   "metadata": {},
   "source": [
    "calling **.info()** we see that there are no missing values in this dataset since there are 200 entries in total and 200 non-null entries in each column."
   ]
  },
  {
   "cell_type": "code",
   "execution_count": 6,
   "id": "46d25d35",
   "metadata": {},
   "outputs": [
    {
     "name": "stdout",
     "output_type": "stream",
     "text": [
      "<class 'pandas.core.frame.DataFrame'>\n",
      "Index: 200 entries, Male to Male\n",
      "Data columns (total 3 columns):\n",
      " #   Column              Non-Null Count  Dtype\n",
      "---  ------              --------------  -----\n",
      " 0   Age                 200 non-null    int64\n",
      " 1   Annual_Income_(k$)  200 non-null    int64\n",
      " 2   Spending_Score      200 non-null    int64\n",
      "dtypes: int64(3)\n",
      "memory usage: 6.2+ KB\n"
     ]
    }
   ],
   "source": [
    "customer_df.info()"
   ]
  },
  {
   "cell_type": "code",
   "execution_count": 7,
   "id": "46fe7bb0",
   "metadata": {},
   "outputs": [
    {
     "name": "stdout",
     "output_type": "stream",
     "text": [
      "<class 'pandas.core.frame.DataFrame'>\n",
      "Index: 200 entries, Male to Male\n",
      "Data columns (total 3 columns):\n",
      " #   Column              Non-Null Count  Dtype\n",
      "---  ------              --------------  -----\n",
      " 0   Age                 200 non-null    int64\n",
      " 1   Annual_Income_(k$)  200 non-null    int64\n",
      " 2   Spending_Score      200 non-null    int64\n",
      "dtypes: int64(3)\n",
      "memory usage: 6.2+ KB\n"
     ]
    }
   ],
   "source": [
    "customer_df_copy.info()"
   ]
  },
  {
   "cell_type": "code",
   "execution_count": 8,
   "id": "e2fde3ff",
   "metadata": {},
   "outputs": [
    {
     "data": {
      "text/html": [
       "<div>\n",
       "<style scoped>\n",
       "    .dataframe tbody tr th:only-of-type {\n",
       "        vertical-align: middle;\n",
       "    }\n",
       "\n",
       "    .dataframe tbody tr th {\n",
       "        vertical-align: top;\n",
       "    }\n",
       "\n",
       "    .dataframe thead th {\n",
       "        text-align: right;\n",
       "    }\n",
       "</style>\n",
       "<table border=\"1\" class=\"dataframe\">\n",
       "  <thead>\n",
       "    <tr style=\"text-align: right;\">\n",
       "      <th></th>\n",
       "      <th>Age</th>\n",
       "      <th>Annual_Income_(k$)</th>\n",
       "      <th>Spending_Score</th>\n",
       "    </tr>\n",
       "  </thead>\n",
       "  <tbody>\n",
       "    <tr>\n",
       "      <th>count</th>\n",
       "      <td>200.000000</td>\n",
       "      <td>200.000000</td>\n",
       "      <td>200.000000</td>\n",
       "    </tr>\n",
       "    <tr>\n",
       "      <th>mean</th>\n",
       "      <td>38.850000</td>\n",
       "      <td>60.560000</td>\n",
       "      <td>50.200000</td>\n",
       "    </tr>\n",
       "    <tr>\n",
       "      <th>std</th>\n",
       "      <td>13.969007</td>\n",
       "      <td>26.264721</td>\n",
       "      <td>25.823522</td>\n",
       "    </tr>\n",
       "    <tr>\n",
       "      <th>min</th>\n",
       "      <td>18.000000</td>\n",
       "      <td>15.000000</td>\n",
       "      <td>1.000000</td>\n",
       "    </tr>\n",
       "    <tr>\n",
       "      <th>25%</th>\n",
       "      <td>28.750000</td>\n",
       "      <td>41.500000</td>\n",
       "      <td>34.750000</td>\n",
       "    </tr>\n",
       "    <tr>\n",
       "      <th>50%</th>\n",
       "      <td>36.000000</td>\n",
       "      <td>61.500000</td>\n",
       "      <td>50.000000</td>\n",
       "    </tr>\n",
       "    <tr>\n",
       "      <th>75%</th>\n",
       "      <td>49.000000</td>\n",
       "      <td>78.000000</td>\n",
       "      <td>73.000000</td>\n",
       "    </tr>\n",
       "    <tr>\n",
       "      <th>max</th>\n",
       "      <td>70.000000</td>\n",
       "      <td>137.000000</td>\n",
       "      <td>99.000000</td>\n",
       "    </tr>\n",
       "  </tbody>\n",
       "</table>\n",
       "</div>"
      ],
      "text/plain": [
       "              Age  Annual_Income_(k$)  Spending_Score\n",
       "count  200.000000          200.000000      200.000000\n",
       "mean    38.850000           60.560000       50.200000\n",
       "std     13.969007           26.264721       25.823522\n",
       "min     18.000000           15.000000        1.000000\n",
       "25%     28.750000           41.500000       34.750000\n",
       "50%     36.000000           61.500000       50.000000\n",
       "75%     49.000000           78.000000       73.000000\n",
       "max     70.000000          137.000000       99.000000"
      ]
     },
     "execution_count": 8,
     "metadata": {},
     "output_type": "execute_result"
    }
   ],
   "source": [
    "customer_df.describe()"
   ]
  },
  {
   "cell_type": "code",
   "execution_count": 10,
   "id": "09cb89c1",
   "metadata": {},
   "outputs": [
    {
     "name": "stdout",
     "output_type": "stream",
     "text": [
      "              Age  Annual_Income_(k$)  Spending_Score\n",
      "count  200.000000          200.000000      200.000000\n",
      "mean     0.400962            0.373443        0.502041\n",
      "std      0.268635            0.215285        0.263505\n",
      "min      0.000000            0.000000        0.000000\n",
      "25%      0.206731            0.217213        0.344388\n",
      "50%      0.346154            0.381148        0.500000\n",
      "75%      0.596154            0.516393        0.734694\n",
      "max      1.000000            1.000000        1.000000\n"
     ]
    }
   ],
   "source": [
    "from sklearn.preprocessing import MinMaxScaler\n",
    "# scaling it, so values will be adjsuted st they fall under [0,1]\n",
    "# Initialize the MinMaxScaler\n",
    "scaler = MinMaxScaler()\n",
    "\n",
    "# select only numeric columns for scaling\n",
    "numeric_columns = customer_df_copy.select_dtypes(include=['number']).columns\n",
    "\n",
    "# apply the scaler to the numeric columns\n",
    "customer_df_copy[numeric_columns] = scaler.fit_transform(customer_df_copy[numeric_columns])\n",
    "\n",
    "# display the summary statistics of the scaled data\n",
    "print(customer_df_copy.describe())"
   ]
  },
  {
   "cell_type": "markdown",
   "id": "78de0b7a",
   "metadata": {},
   "source": [
    "To ensure that we don't have any duplicates, we can call **.drop_duplicates(inplace=True)** on our DataFrame."
   ]
  },
  {
   "cell_type": "code",
   "execution_count": 11,
   "id": "b2a1ce7d",
   "metadata": {},
   "outputs": [],
   "source": [
    "customer_df.drop_duplicates(inplace=True)"
   ]
  },
  {
   "cell_type": "markdown",
   "id": "8314bb90",
   "metadata": {},
   "source": [
    "Just so that we can visualize our clusters in the end of this lab, we'll go ahead and only work with 2 variables (spending score and income). However, you're free to use more than 2 variables if you're working with your own dataset."
   ]
  },
  {
   "cell_type": "code",
   "execution_count": 18,
   "id": "ebc8b09d",
   "metadata": {},
   "outputs": [
    {
     "name": "stdout",
     "output_type": "stream",
     "text": [
      "        Age  Annual_Income_(k$)  Spending_Score\n",
      "Genre                                          \n",
      "Male     19                  15              39\n",
      "Male     21                  15              81\n",
      "Female   20                  16               6\n",
      "Female   23                  16              77\n",
      "Female   31                  17              40\n",
      "The DataFrame does not have enough columns.\n"
     ]
    }
   ],
   "source": [
    "# Check the columns of the DataFrame\n",
    "print(customer_df.head())\n",
    "\n",
    "# Adjust the indices based on the actual positions\n",
    "# Ensure the indices are correct and within the bounds of the DataFrame\n",
    "# Example: if 'Spending_Score' is at position 2 and 'Income' is at position 3\n",
    "# Adjust based on the actual column positions\n",
    "if customer_df.shape[1] > 3:\n",
    "    X = customer_df.iloc[:, [2, 3]].values\n",
    "\n",
    "    # Display the first few rows of the selected data\n",
    "    print(X[:5])\n",
    "else:\n",
    "    print(\"The DataFrame does not have enough columns.\")\n"
   ]
  },
  {
   "cell_type": "code",
   "execution_count": null,
   "id": "e9a382b0",
   "metadata": {},
   "outputs": [],
   "source": []
  },
  {
   "cell_type": "code",
   "execution_count": null,
   "id": "ac614ddb",
   "metadata": {},
   "outputs": [],
   "source": []
  }
 ],
 "metadata": {
  "kernelspec": {
   "display_name": "Python 3 (ipykernel)",
   "language": "python",
   "name": "python3"
  },
  "language_info": {
   "codemirror_mode": {
    "name": "ipython",
    "version": 3
   },
   "file_extension": ".py",
   "mimetype": "text/x-python",
   "name": "python",
   "nbconvert_exporter": "python",
   "pygments_lexer": "ipython3",
   "version": "3.11.0"
  }
 },
 "nbformat": 4,
 "nbformat_minor": 5
}
