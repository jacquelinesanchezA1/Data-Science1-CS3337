{
 "cells": [
  {
   "cell_type": "markdown",
   "id": "e8baefe5",
   "metadata": {},
   "source": [
    "Jacqueline Sanchez <br> \n",
    "July 01, 2024 <br>\n",
    "<br>\n",
    "COSC 3337 | Summer 2024 <br>\n",
    "Homework 5"
   ]
  },
  {
   "cell_type": "code",
   "execution_count": 1,
   "id": "7769f65e",
   "metadata": {},
   "outputs": [],
   "source": [
    "import pandas as pd\n",
    "import numpy as np\n",
    "import seaborn as sns\n",
    "\n",
    "from sklearn.model_selection import train_test_split, GridSearchCV\n",
    "from sklearn.naive_bayes import GaussianNB\n",
    "from sklearn.linear_model import LogisticRegression\n",
    "from sklearn.neighbors import KNeighborsClassifier\n",
    "from sklearn.metrics import accuracy_score, classification_report, confusion_matrix\n",
    "import matplotlib.pyplot as plt\n",
    "import time\n",
    "\n",
    "import seaborn as sns"
   ]
  },
  {
   "cell_type": "markdown",
   "id": "9f366c95",
   "metadata": {},
   "source": [
    "## Pre Processing Process"
   ]
  },
  {
   "cell_type": "markdown",
   "id": "ce6d3a9d",
   "metadata": {},
   "source": [
    "1. Import .data file"
   ]
  },
  {
   "cell_type": "code",
   "execution_count": 2,
   "id": "df6d14fa",
   "metadata": {},
   "outputs": [
    {
     "name": "stdout",
     "output_type": "stream",
     "text": [
      "  letter  feature_1  feature_2  feature_3  feature_4  feature_5  feature_6  \\\n",
      "0      T          2          8          3          5          1          8   \n",
      "1      I          5         12          3          7          2         10   \n",
      "2      D          4         11          6          8          6         10   \n",
      "3      N          7         11          6          6          3          5   \n",
      "4      G          2          1          3          1          1          8   \n",
      "\n",
      "   feature_7  feature_8  feature_9  feature_10  feature_11  feature_12  \\\n",
      "0         13          0          6           6          10           8   \n",
      "1          5          5          4          13           3           9   \n",
      "2          6          2          6          10           3           7   \n",
      "3          9          4          6           4           4          10   \n",
      "4          6          6          6           6           5           9   \n",
      "\n",
      "   feature_13  feature_14  feature_15  feature_16  \n",
      "0           0           8           0           8  \n",
      "1           2           8           4          10  \n",
      "2           3           7           3           9  \n",
      "3           6          10           2           8  \n",
      "4           1           7           5          10  \n"
     ]
    }
   ],
   "source": [
    "# Load the dataset\n",
    "letters_df = pd.read_csv('letter-recognition.data', header=None)\n",
    "letters_df.columns = ['letter'] + [f'feature_{i}' for i in range(1, 17)]\n",
    "\n",
    "# Display the first 5 rows\n",
    "print(letters_df.head())"
   ]
  },
  {
   "cell_type": "markdown",
   "id": "160d4064",
   "metadata": {},
   "source": [
    "2. checking for missing value"
   ]
  },
  {
   "cell_type": "code",
   "execution_count": 3,
   "id": "49b436f7",
   "metadata": {},
   "outputs": [
    {
     "name": "stdout",
     "output_type": "stream",
     "text": [
      "letter        0\n",
      "feature_1     0\n",
      "feature_2     0\n",
      "feature_3     0\n",
      "feature_4     0\n",
      "feature_5     0\n",
      "feature_6     0\n",
      "feature_7     0\n",
      "feature_8     0\n",
      "feature_9     0\n",
      "feature_10    0\n",
      "feature_11    0\n",
      "feature_12    0\n",
      "feature_13    0\n",
      "feature_14    0\n",
      "feature_15    0\n",
      "feature_16    0\n",
      "dtype: int64\n",
      "No missing data\n"
     ]
    }
   ],
   "source": [
    "# method 1: \n",
    "print(letters_df.isna().sum())\n",
    "\n",
    "# # methods 2: \n",
    "# print(heart_df.isnull().any())\n",
    "\n",
    "\n",
    "if not letters_df.isnull().values.any():\n",
    "    print(\"No missing data\")\n",
    "else:\n",
    "    missing_count = letters_df.isnull().sum().sum()\n",
    "    print(f\"There are {missing_count} observations missing\")"
   ]
  },
  {
   "cell_type": "markdown",
   "id": "95fccef5",
   "metadata": {},
   "source": [
    "<span style = 'color:green'> \n",
    "Since there are no missing values in letters dataframe then we can proceed to the next steps without necessary imputations or dropping any column or observation row."
   ]
  },
  {
   "cell_type": "markdown",
   "id": "b1e00d93",
   "metadata": {},
   "source": [
    "# 1. Preparing the data"
   ]
  },
  {
   "cell_type": "code",
   "execution_count": 4,
   "id": "2f057de6",
   "metadata": {},
   "outputs": [],
   "source": [
    "# Choose two letters for binary classification\n",
    "letters = ['J', 'N']\n",
    "df_binary = letters_df[letters_df['letter'].isin(letters)].copy()\n",
    "df_binary['letter'] = df_binary['letter'].map({'J': 0, 'N': 1})\n",
    "\n",
    "# Split the data into features and target\n",
    "X = df_binary.drop('letter', axis=1)\n",
    "y = df_binary['letter']\n",
    "\n",
    "# Split the data into training and testing sets\n",
    "X_train, X_test, y_train, y_test = train_test_split(X, y, test_size=0.2, random_state=42, stratify=y)"
   ]
  },
  {
   "cell_type": "markdown",
   "id": "2dd92465",
   "metadata": {},
   "source": [
    "# 2. Train and Tune your models"
   ]
  },
  {
   "cell_type": "markdown",
   "id": "b7708e8d",
   "metadata": {},
   "source": [
    "## Training and Tuning Naive Bayes"
   ]
  },
  {
   "cell_type": "markdown",
   "id": "d13eacff",
   "metadata": {},
   "source": [
    "### (a) Train and Tune Naive Bayes Classifier"
   ]
  },
  {
   "cell_type": "code",
   "execution_count": 5,
   "id": "85474f4a",
   "metadata": {},
   "outputs": [],
   "source": [
    "# Naive Bayes Classifier\n",
    "nb_model = GaussianNB()\n",
    "start_time = time.time()\n",
    "nb_model.fit(X_train, y_train)\n",
    "nb_time = time.time() - start_time # getting the time it took for nb to tune to best params\n",
    "\n",
    "# predicting based on our model  \n",
    "nb_y_pred = nb_model.predict(X_test) \n",
    "nb_accuracy = accuracy_score(y_test, nb_y_pred)\n",
    "nb_report = classification_report(y_test, nb_y_pred)"
   ]
  },
  {
   "cell_type": "markdown",
   "id": "60526477",
   "metadata": {},
   "source": [
    "### (b) evaluate the Naive Bayes Classifier"
   ]
  },
  {
   "cell_type": "code",
   "execution_count": 6,
   "id": "709d5216",
   "metadata": {},
   "outputs": [
    {
     "data": {
      "image/png": "[encoded data removed]",
      "text/plain": [
       "<Figure size 800x600 with 2 Axes>"
      ]
     },
     "metadata": {},
     "output_type": "display_data"
    },
    {
     "name": "stdout",
     "output_type": "stream",
     "text": [
      "              precision    recall  f1-score   support\n",
      "\n",
      "           0       0.99      0.89      0.93       149\n",
      "           1       0.90      0.99      0.94       157\n",
      "\n",
      "    accuracy                           0.94       306\n",
      "   macro avg       0.94      0.94      0.94       306\n",
      "weighted avg       0.94      0.94      0.94       306\n",
      "\n"
     ]
    }
   ],
   "source": [
    "# Create a confusion matrix\n",
    "conf_matrix = confusion_matrix(y_test, nb_y_pred)\n",
    "\n",
    "# Plot the confusion matrix\n",
    "plt.figure(figsize=(8, 6))\n",
    "sns.heatmap(conf_matrix, annot=True, fmt='d', cmap='Pastel1', xticklabels=letters, yticklabels=letters)\n",
    "plt.xlabel('Predicted')\n",
    "plt.ylabel('Actual')\n",
    "plt.title('Confusion Matrix for Naive Bayes Classifier')\n",
    "plt.show()\n",
    "print(nb_report)"
   ]
  },
  {
   "cell_type": "markdown",
   "id": "ec79c1d1",
   "metadata": {},
   "source": [
    "## Training and tunning Logistic Regression Classifier"
   ]
  },
  {
   "cell_type": "markdown",
   "id": "80c5d164",
   "metadata": {},
   "source": [
    "### (a) Train and Tune Logistic Regression Classifier"
   ]
  },
  {
   "cell_type": "code",
   "execution_count": 7,
   "id": "81d3750f",
   "metadata": {},
   "outputs": [],
   "source": [
    "# Logistic Regression Classifier\n",
    "lr_params = {\n",
    "    'C': [0.1, 1, 10],\n",
    "    'penalty': ['l1', 'l2'],\n",
    "    'solver': ['liblinear']\n",
    "}\n",
    "lr_grid = GridSearchCV(LogisticRegression(random_state=42), lr_params, cv=5, n_jobs=-1, return_train_score=True)\n",
    "start_time = time.time()\n",
    "lr_grid.fit(X_train, y_train)\n",
    "lr_time = time.time() - start_time # getting the time for lr tunning\n",
    "\n",
    "# predicting based on our model \n",
    "lr_best = lr_grid.best_estimator_ # best lr model found while performing GridSearchCV\n",
    "lr_y_pred = lr_best.predict(X_test) # predictions on the test set \n",
    "lr_accuracy = accuracy_score(y_test, lr_y_pred) # calculating accuracy\n",
    "lr_report = classification_report(y_test, lr_y_pred) # generating classification report "
   ]
  },
  {
   "cell_type": "markdown",
   "id": "f46fa2d8",
   "metadata": {},
   "source": [
    "### (b) Evaluate the Logistic Regression Classifier"
   ]
  },
  {
   "cell_type": "code",
   "execution_count": 8,
   "id": "1de4f61d",
   "metadata": {},
   "outputs": [
    {
     "data": {
      "image/png": "[encoded data removed]",
      "text/plain": [
       "<Figure size 800x600 with 2 Axes>"
      ]
     },
     "metadata": {},
     "output_type": "display_data"
    },
    {
     "name": "stdout",
     "output_type": "stream",
     "text": [
      "              precision    recall  f1-score   support\n",
      "\n",
      "           0       0.99      0.99      0.99       149\n",
      "           1       0.99      0.99      0.99       157\n",
      "\n",
      "    accuracy                           0.99       306\n",
      "   macro avg       0.99      0.99      0.99       306\n",
      "weighted avg       0.99      0.99      0.99       306\n",
      "\n"
     ]
    }
   ],
   "source": [
    "# Create a confusion matrix\n",
    "conf_matrix = confusion_matrix(y_test, lr_y_pred)\n",
    "\n",
    "# Plot the confusion matrix\n",
    "plt.figure(figsize=(8, 6))\n",
    "sns.heatmap(conf_matrix, annot=True, fmt='d', cmap='Greens', xticklabels=letters, yticklabels=letters)\n",
    "plt.xlabel('Predicted')\n",
    "plt.ylabel('Actual')\n",
    "plt.title('Confusion Matrix for Logistic Regression')\n",
    "plt.show()\n",
    "print(lr_report)"
   ]
  },
  {
   "cell_type": "markdown",
   "id": "52ea6b62",
   "metadata": {},
   "source": [
    "## Training and tunning KNN Classifier"
   ]
  },
  {
   "cell_type": "markdown",
   "id": "15f0e893",
   "metadata": {},
   "source": [
    "### (a)  Train and Tune KNN Classifier"
   ]
  },
  {
   "cell_type": "code",
   "execution_count": 9,
   "id": "878ba8e5",
   "metadata": {},
   "outputs": [],
   "source": [
    "# KNN Classifier\n",
    "knn_params = {\n",
    "    'n_neighbors': [3, 5, 7],\n",
    "    'weights': ['uniform', 'distance'],\n",
    "    'metric': ['euclidean', 'manhattan']\n",
    "}\n",
    "knn_grid = GridSearchCV(KNeighborsClassifier(), knn_params, cv=5, n_jobs=-1, return_train_score=True)\n",
    "start_time = time.time()\n",
    "knn_grid.fit(X_train, y_train)\n",
    "knn_time = time.time() - start_time # getting the time for knn tunning\n",
    "\n",
    "# predicting based on our model \n",
    "knn_best = knn_grid.best_estimator_ \n",
    "knn_y_pred = knn_best.predict(X_test) \n",
    "knn_accuracy = accuracy_score(y_test, knn_y_pred)\n",
    "knn_report = classification_report(y_test, knn_y_pred) "
   ]
  },
  {
   "cell_type": "markdown",
   "id": "c78575c8",
   "metadata": {},
   "source": [
    "### (b) Evaluate the KNN Classifier"
   ]
  },
  {
   "cell_type": "code",
   "execution_count": null,
   "id": "dd904659",
   "metadata": {},
   "outputs": [],
   "source": [
    "# Create a confusion matrix\n",
    "conf_matrix = confusion_matrix(y_test, knn_y_pred)\n",
    "\n",
    "# Plot the confusion matrix\n",
    "plt.figure(figsize=(8, 6))\n",
    "sns.heatmap(conf_matrix, annot=True, fmt='d', cmap='icefire', xticklabels=letters, yticklabels=letters)\n",
    "plt.xlabel('Predicted')\n",
    "plt.ylabel('Actual')\n",
    "plt.title('Confusion Matrix for KNN Classifier')\n",
    "plt.show()\n",
    "print(knn_report)"
   ]
  },
  {
   "cell_type": "markdown",
   "id": "c15a66ed",
   "metadata": {},
   "source": [
    "### Evaluating and Comparing models (evidence)"
   ]
  },
  {
   "cell_type": "code",
   "execution_count": null,
   "id": "27446af6",
   "metadata": {},
   "outputs": [],
   "source": [
    "# for Naive Bayes best Model\n",
    "print(f\"Naive Bayes Accuracy: {nb_accuracy}\")\n",
    "print(f\"Naive Bayes Runtime: {nb_time} seconds\")\n",
    "print(f\"Naive Bayes Classification Report:\\n{nb_report}\")\n",
    "\n",
    "# for Logistic Regression best Model \n",
    "print(f\"Logistic Regression Best Parameters: {lr_grid.best_params_}\")\n",
    "print(f\"Logistic Regression Accuracy: {lr_accuracy}\")\n",
    "print(f\"Logistic Regression Runtime: {lr_time} seconds\")\n",
    "print(f\"Logistic Regression Classification Report:\\n{lr_report}\")\n",
    "\n",
    "# for KNN best model \n",
    "print(f\"KNN Best Parameters: {knn_grid.best_params_}\")\n",
    "print(f\"KNN Accuracy: {knn_accuracy}\")\n",
    "print(f\"KNN Runtime: {knn_time} seconds\")\n",
    "print(f\"KNN Classification Report:\\n{knn_report}\")\n"
   ]
  },
  {
   "cell_type": "markdown",
   "id": "7a5faf6f",
   "metadata": {},
   "source": [
    "# Performance Plots (evidence)"
   ]
  },
  {
   "cell_type": "markdown",
   "id": "3473f601",
   "metadata": {},
   "source": [
    "## Accuracy vs 'Epochs'"
   ]
  },
  {
   "cell_type": "code",
   "execution_count": null,
   "id": "d0455ed2",
   "metadata": {},
   "outputs": [],
   "source": [
    "# Plotting accuracy vs parameter combinations (train and test)\n",
    "plt.figure(figsize=(14, 7))\n",
    "plt.plot(range(len(lr_grid.cv_results_['mean_test_score'])), lr_grid.cv_results_['mean_train_score'], label='Logistic Regression - Train')\n",
    "plt.plot(range(len(lr_grid.cv_results_['mean_test_score'])), lr_grid.cv_results_['mean_test_score'], label='Logistic Regression - Test')\n",
    "plt.plot(range(len(knn_grid.cv_results_['mean_test_score'])), knn_grid.cv_results_['mean_train_score'], label='KNN - Train')\n",
    "plt.plot(range(len(knn_grid.cv_results_['mean_test_score'])), knn_grid.cv_results_['mean_test_score'], label='KNN - Test')\n",
    "plt.xlabel('Parameter Combinations')\n",
    "plt.ylabel('Accuracy')\n",
    "plt.legend()\n",
    "plt.title('Accuracy vs Parameter Combinations (Train and Test)')\n",
    "plt.show()"
   ]
  },
  {
   "cell_type": "markdown",
   "id": "e89eb5ab",
   "metadata": {},
   "source": [
    "<span style=\"color:green\">\n",
    "    \n",
    "I noticed that logistic regression and Knn have demonstrated robust overall performance based on the confusion matrix and F1 score, as depicted on the earlier metrics but I also want analyze how well they performed while looking for the best parameters that optimized the model.\n",
    "<br>\n",
    "    \n",
    "Logistic regression was able to identify the optimal set of parameters within the first few combinations generated using `paramGrid`. You can see that both the training and test sets exhibit similar trends within the range of the first 1-3 parameter combinations, as shown in the graph.\n",
    "<br>\n",
    "    \n",
    "In contrast, KNN appears to require more parameter combinations to find the optimal set that best fits the model. This is evident from the greater variability in performance metrics when compared to logistic regression. KNN seems to need more extensive parameter tuning to achieve an optimized model that accurately reflects the variability in the actual values (test set)."
   ]
  },
  {
   "cell_type": "code",
   "execution_count": null,
   "id": "5fb6671e",
   "metadata": {},
   "outputs": [],
   "source": []
  },
  {
   "cell_type": "code",
   "execution_count": null,
   "id": "1f658646",
   "metadata": {},
   "outputs": [],
   "source": [
    "# Plotting accuracy vs parameter combinations\n",
    "plt.figure(figsize=(14, 7))\n",
    "plt.plot(range(len(lr_grid.cv_results_['mean_test_score'])), lr_grid.cv_results_['mean_test_score'], label='Logistic Regression')\n",
    "plt.plot(range(len(knn_grid.cv_results_['mean_test_score'])), knn_grid.cv_results_['mean_test_score'], label='KNN')\n",
    "plt.xlabel('Parameter Combinations')\n",
    "plt.ylabel('Mean Test Score')\n",
    "plt.legend()\n",
    "plt.title('Mean Test Score vs Parameter Combinations')\n",
    "plt.show()\n"
   ]
  },
  {
   "cell_type": "code",
   "execution_count": null,
   "id": "07a315cf",
   "metadata": {
    "scrolled": false
   },
   "outputs": [],
   "source": [
    "import pandas as pd\n",
    "import numpy as np\n",
    "import seaborn as sns\n",
    "import matplotlib.pyplot as plt\n",
    "from sklearn.model_selection import train_test_split, GridSearchCV\n",
    "from sklearn.linear_model import LogisticRegression\n",
    "from sklearn.neighbors import KNeighborsClassifier\n",
    "from sklearn.svm import SVC\n",
    "from sklearn.metrics import confusion_matrix, classification_report\n",
    "\n",
    "# Load the dataset\n",
    "letters_df = pd.read_csv('letter-recognition.data', header=None)\n",
    "letters_df.columns = ['letter'] + [f'feature_{i}' for i in range(1, 17)]\n",
    "\n",
    "# Filter the dataset to only include rows with letters 'J' and 'N'\n",
    "letters = ['J', 'N']\n",
    "df_binary = letters_df[letters_df['letter'].isin(letters)].copy()\n",
    "\n",
    "# Map the letters to binary values\n",
    "df_binary['letter'] = df_binary['letter'].map({'J': 0, 'N': 1})\n",
    "\n",
    "# Ensure there are no NaN values after mapping\n",
    "assert df_binary['letter'].isna().sum() == 0, \"There are NaN values in the target variable\"\n",
    "\n",
    "# Identify the numeric columns (excluding 'letter')\n",
    "numeric_columns = df_binary.columns[1:]\n",
    "\n",
    "# Identify outliers using the IQR method for numeric columns\n",
    "Q1 = df_binary[numeric_columns].quantile(0.25)\n",
    "Q3 = df_binary[numeric_columns].quantile(0.75)\n",
    "IQR = Q3 - Q1\n",
    "\n",
    "# Filter out outliers\n",
    "df_filtered = df_binary[~((df_binary[numeric_columns] < (Q1 - 1.5 * IQR)) | (df_binary[numeric_columns] > (Q3 + 1.5 * IQR))).any(axis=1)]\n",
    "\n",
    "# Visualize before and after\n",
    "plt.figure(figsize=(14, 6))\n",
    "plt.subplot(1, 2, 1)\n",
    "sns.boxplot(data=df_binary[numeric_columns])\n",
    "plt.title('Before Removing Outliers')\n",
    "\n",
    "plt.subplot(1, 2, 2)\n",
    "sns.boxplot(data=df_filtered[numeric_columns])\n",
    "plt.title('After Removing Outliers')\n",
    "\n",
    "plt.show()\n",
    "\n",
    "# Split the data into features and target\n",
    "X = df_filtered.drop('letter', axis=1)\n",
    "y = df_filtered['letter']\n",
    "\n",
    "# Split the data into training and testing sets\n",
    "X_train, X_test, y_train, y_test = train_test_split(X, y, test_size=0.2, random_state=42, stratify=y)\n",
    "\n",
    "# Logistic Regression\n",
    "log_reg = LogisticRegression(max_iter=1000)\n",
    "param_grid_lr = {'C': [0.1, 1, 10]}\n",
    "grid_search_lr = GridSearchCV(log_reg, param_grid_lr, cv=5, scoring='f1')\n",
    "grid_search_lr.fit(X_train, y_train)\n",
    "y_pred_lr = grid_search_lr.predict(X_test)\n",
    "\n",
    "# K-Nearest Neighbors\n",
    "knn = KNeighborsClassifier()\n",
    "param_grid_knn = {'n_neighbors': [3, 5, 7, 9]}\n",
    "grid_search_knn = GridSearchCV(knn, param_grid_knn, cv=5, scoring='f1')\n",
    "grid_search_knn.fit(X_train, y_train)\n",
    "y_pred_knn = grid_search_knn.predict(X_test)\n",
    "\n",
    "# Support Vector Machine\n",
    "svm = SVC()\n",
    "param_grid_svm = {'C': [0.1, 1, 10], 'kernel': ['linear', 'rbf']}\n",
    "grid_search_svm = GridSearchCV(svm, param_grid_svm, cv=5, scoring='f1')\n",
    "grid_search_svm.fit(X_train, y_train)\n",
    "y_pred_svm = grid_search_svm.predict(X_test)\n",
    "\n",
    "# Evaluation\n",
    "print(\"Logistic Regression Classification Report\")\n",
    "print(classification_report(y_test, y_pred_lr))\n",
    "print(\"KNN Classification Report\")\n",
    "print(classification_report(y_test, y_pred_knn))\n",
    "print(\"SVM Classification Report\")\n",
    "print(classification_report(y_test, y_pred_svm))\n",
    "\n",
    "# Confusion Matrices\n",
    "conf_matrix_lr = confusion_matrix(y_test, y_pred_lr)\n",
    "conf_matrix_knn = confusion_matrix(y_test, y_pred_knn)\n",
    "conf_matrix_svm = confusion_matrix(y_test, y_pred_svm)\n",
    "\n",
    "# Plotting confusion matrices\n",
    "plt.figure(figsize=(18, 6))\n",
    "\n",
    "plt.subplot(1, 3, 1)\n",
    "sns.heatmap(conf_matrix_lr, annot=True, fmt='d', cmap='Blues')\n",
    "plt.title('Logistic Regression Confusion Matrix')\n",
    "plt.xlabel('Predicted')\n",
    "plt.ylabel('Actual')\n",
    "\n",
    "plt.subplot(1, 3, 2)\n",
    "sns.heatmap(conf_matrix_knn, annot=True, fmt='d', cmap='Blues')\n",
    "plt.title('KNN Confusion Matrix')\n",
    "plt.xlabel('Predicted')\n",
    "plt.ylabel('Actual')\n",
    "\n",
    "plt.subplot(1, 3, 3)\n",
    "sns.heatmap(conf_matrix_svm, annot=True, fmt='d', cmap='Blues')\n",
    "plt.title('SVM Confusion Matrix')\n",
    "plt.xlabel('Predicted')\n",
    "plt.ylabel('Actual')\n",
    "\n",
    "plt.show()\n",
    "\n",
    "# Plotting accuracy vs parameter combinations\n",
    "plt.figure(figsize=(14, 7))\n",
    "plt.plot(range(len(grid_search_lr.cv_results_['mean_test_score'])), grid_search_lr.cv_results_['mean_test_score'], label='Logistic Regression')\n",
    "plt.plot(range(len(grid_search_knn.cv_results_['mean_test_score'])), grid_search_knn.cv_results_['mean_test_score'], label='KNN')\n",
    "plt.plot(range(len(grid_search_svm.cv_results_['mean_test_score'])), grid_search_svm.cv_results_['mean_test_score'], label='SVM')\n",
    "plt.xlabel('Parameter Combinations')\n",
    "plt.ylabel('Mean Test Score')\n",
    "plt.legend()\n",
    "plt.title('Mean Test Score vs Parameter Combinations')\n",
    "plt.show()\n"
   ]
  }
 ],
 "metadata": {
  "kernelspec": {
   "display_name": "Python 3 (ipykernel)",
   "language": "python",
   "name": "python3"
  },
  "language_info": {
   "codemirror_mode": {
    "name": "ipython",
    "version": 3
   },
   "file_extension": ".py",
   "mimetype": "text/x-python",
   "name": "python",
   "nbconvert_exporter": "python",
   "pygments_lexer": "ipython3",
   "version": "3.11.0"
  }
 },
 "nbformat": 4,
 "nbformat_minor": 5
}
