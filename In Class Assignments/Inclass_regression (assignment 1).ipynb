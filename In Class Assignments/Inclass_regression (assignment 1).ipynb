{
 "cells": [
  {
   "cell_type": "markdown",
   "id": "909bdcda",
   "metadata": {},
   "source": [
    "Jacqueline Sanchez <br> \n",
    "PeopleSoft ID: 2053737 <br> \n",
    "June 5, 2024 \n",
    "COSC 3337 | Summer '24 <br>\n",
    "**Inclass_regreesion**"
   ]
  },
  {
   "cell_type": "markdown",
   "id": "8bcef9e2",
   "metadata": {},
   "source": [
    "### Using statmodels for Analysis: fetch_california_housing (recreating sld 6) "
   ]
  },
  {
   "cell_type": "code",
   "execution_count": 19,
   "id": "b640b13f",
   "metadata": {},
   "outputs": [],
   "source": [
    "import statsmodels.api as sm"
   ]
  },
  {
   "cell_type": "code",
   "execution_count": 50,
   "id": "dc7cbe45",
   "metadata": {},
   "outputs": [],
   "source": [
    "from sklearn import datasets ## imports datasets from scikit-learn\n",
    "data = datasets.fetch_california_housing() "
   ]
  },
  {
   "cell_type": "code",
   "execution_count": 52,
   "id": "4a3d1e3f",
   "metadata": {},
   "outputs": [],
   "source": [
    "import numpy as np \n",
    "import pandas as pd\n",
    "\n",
    "# define the data/predictors as the pre-set features names \n",
    "df = pd.DataFrame(data.data, columns = data.feature_names)\n",
    "\n",
    "# Put the target (housing value -- ) in another DataFrame\n",
    "target = pd.DataFrame(data.target, columns = [\"AveRooms\"])"
   ]
  },
  {
   "cell_type": "code",
   "execution_count": 53,
   "id": "0a18060e",
   "metadata": {},
   "outputs": [
    {
     "data": {
      "text/html": [
       "<table class=\"simpletable\">\n",
       "<caption>OLS Regression Results</caption>\n",
       "<tr>\n",
       "  <th>Dep. Variable:</th>        <td>AveBedrms</td>    <th>  R-squared (uncentered):</th>      <td>   0.628</td> \n",
       "</tr>\n",
       "<tr>\n",
       "  <th>Model:</th>                   <td>OLS</td>       <th>  Adj. R-squared (uncentered):</th> <td>   0.628</td> \n",
       "</tr>\n",
       "<tr>\n",
       "  <th>Method:</th>             <td>Least Squares</td>  <th>  F-statistic:       </th>          <td>3.488e+04</td>\n",
       "</tr>\n",
       "<tr>\n",
       "  <th>Date:</th>             <td>Wed, 05 Jun 2024</td> <th>  Prob (F-statistic):</th>           <td>  0.00</td>  \n",
       "</tr>\n",
       "<tr>\n",
       "  <th>Time:</th>                 <td>22:45:46</td>     <th>  Log-Likelihood:    </th>          <td> -22746.</td> \n",
       "</tr>\n",
       "<tr>\n",
       "  <th>No. Observations:</th>      <td> 20640</td>      <th>  AIC:               </th>          <td>4.549e+04</td>\n",
       "</tr>\n",
       "<tr>\n",
       "  <th>Df Residuals:</th>          <td> 20639</td>      <th>  BIC:               </th>          <td>4.550e+04</td>\n",
       "</tr>\n",
       "<tr>\n",
       "  <th>Df Model:</th>              <td>     1</td>      <th>                     </th>              <td> </td>    \n",
       "</tr>\n",
       "<tr>\n",
       "  <th>Covariance Type:</th>      <td>nonrobust</td>    <th>                     </th>              <td> </td>    \n",
       "</tr>\n",
       "</table>\n",
       "<table class=\"simpletable\">\n",
       "<tr>\n",
       "      <td></td>        <th>coef</th>     <th>std err</th>      <th>t</th>      <th>P>|t|</th>  <th>[0.025</th>    <th>0.975]</th>  \n",
       "</tr>\n",
       "<tr>\n",
       "  <th>AveRooms</th> <td>    0.3998</td> <td>    0.002</td> <td>  186.770</td> <td> 0.000</td> <td>    0.396</td> <td>    0.404</td>\n",
       "</tr>\n",
       "</table>\n",
       "<table class=\"simpletable\">\n",
       "<tr>\n",
       "  <th>Omnibus:</th>       <td>34242.689</td> <th>  Durbin-Watson:     </th>   <td>   0.640</td>   \n",
       "</tr>\n",
       "<tr>\n",
       "  <th>Prob(Omnibus):</th>  <td> 0.000</td>   <th>  Jarque-Bera (JB):  </th> <td>130143169.238</td>\n",
       "</tr>\n",
       "<tr>\n",
       "  <th>Skew:</th>           <td>10.527</td>   <th>  Prob(JB):          </th>   <td>    0.00</td>   \n",
       "</tr>\n",
       "<tr>\n",
       "  <th>Kurtosis:</th>       <td>391.440</td>  <th>  Cond. No.          </th>   <td>    1.00</td>   \n",
       "</tr>\n",
       "</table><br/><br/>Notes:<br/>[1] R² is computed without centering (uncentered) since the model does not contain a constant.<br/>[2] Standard Errors assume that the covariance matrix of the errors is correctly specified."
      ],
      "text/latex": [
       "\\begin{center}\n",
       "\\begin{tabular}{lclc}\n",
       "\\toprule\n",
       "\\textbf{Dep. Variable:}    &    AveBedrms     & \\textbf{  R-squared (uncentered):}      &       0.628    \\\\\n",
       "\\textbf{Model:}            &       OLS        & \\textbf{  Adj. R-squared (uncentered):} &       0.628    \\\\\n",
       "\\textbf{Method:}           &  Least Squares   & \\textbf{  F-statistic:       }          &   3.488e+04    \\\\\n",
       "\\textbf{Date:}             & Wed, 05 Jun 2024 & \\textbf{  Prob (F-statistic):}          &       0.00     \\\\\n",
       "\\textbf{Time:}             &     22:45:46     & \\textbf{  Log-Likelihood:    }          &     -22746.    \\\\\n",
       "\\textbf{No. Observations:} &       20640      & \\textbf{  AIC:               }          &   4.549e+04    \\\\\n",
       "\\textbf{Df Residuals:}     &       20639      & \\textbf{  BIC:               }          &   4.550e+04    \\\\\n",
       "\\textbf{Df Model:}         &           1      & \\textbf{                     }          &                \\\\\n",
       "\\textbf{Covariance Type:}  &    nonrobust     & \\textbf{                     }          &                \\\\\n",
       "\\bottomrule\n",
       "\\end{tabular}\n",
       "\\begin{tabular}{lcccccc}\n",
       "                  & \\textbf{coef} & \\textbf{std err} & \\textbf{t} & \\textbf{P$> |$t$|$} & \\textbf{[0.025} & \\textbf{0.975]}  \\\\\n",
       "\\midrule\n",
       "\\textbf{AveRooms} &       0.3998  &        0.002     &   186.770  &         0.000        &        0.396    &        0.404     \\\\\n",
       "\\bottomrule\n",
       "\\end{tabular}\n",
       "\\begin{tabular}{lclc}\n",
       "\\textbf{Omnibus:}       & 34242.689 & \\textbf{  Durbin-Watson:     } &       0.640    \\\\\n",
       "\\textbf{Prob(Omnibus):} &    0.000  & \\textbf{  Jarque-Bera (JB):  } & 130143169.238  \\\\\n",
       "\\textbf{Skew:}          &   10.527  & \\textbf{  Prob(JB):          } &        0.00    \\\\\n",
       "\\textbf{Kurtosis:}      &  391.440  & \\textbf{  Cond. No.          } &        1.00    \\\\\n",
       "\\bottomrule\n",
       "\\end{tabular}\n",
       "%\\caption{OLS Regression Results}\n",
       "\\end{center}\n",
       "\n",
       "Notes: \\newline\n",
       " [1] R² is computed without centering (uncentered) since the model does not contain a constant. \\newline\n",
       " [2] Standard Errors assume that the covariance matrix of the errors is correctly specified."
      ],
      "text/plain": [
       "<class 'statsmodels.iolib.summary.Summary'>\n",
       "\"\"\"\n",
       "                                 OLS Regression Results                                \n",
       "=======================================================================================\n",
       "Dep. Variable:              AveBedrms   R-squared (uncentered):                   0.628\n",
       "Model:                            OLS   Adj. R-squared (uncentered):              0.628\n",
       "Method:                 Least Squares   F-statistic:                          3.488e+04\n",
       "Date:                Wed, 05 Jun 2024   Prob (F-statistic):                        0.00\n",
       "Time:                        22:45:46   Log-Likelihood:                         -22746.\n",
       "No. Observations:               20640   AIC:                                  4.549e+04\n",
       "Df Residuals:                   20639   BIC:                                  4.550e+04\n",
       "Df Model:                           1                                                  \n",
       "Covariance Type:            nonrobust                                                  \n",
       "==============================================================================\n",
       "                 coef    std err          t      P>|t|      [0.025      0.975]\n",
       "------------------------------------------------------------------------------\n",
       "AveRooms       0.3998      0.002    186.770      0.000       0.396       0.404\n",
       "==============================================================================\n",
       "Omnibus:                    34242.689   Durbin-Watson:                   0.640\n",
       "Prob(Omnibus):                  0.000   Jarque-Bera (JB):        130143169.238\n",
       "Skew:                          10.527   Prob(JB):                         0.00\n",
       "Kurtosis:                     391.440   Cond. No.                         1.00\n",
       "==============================================================================\n",
       "\n",
       "Notes:\n",
       "[1] R² is computed without centering (uncentered) since the model does not contain a constant.\n",
       "[2] Standard Errors assume that the covariance matrix of the errors is correctly specified.\n",
       "\"\"\""
      ]
     },
     "execution_count": 53,
     "metadata": {},
     "output_type": "execute_result"
    }
   ],
   "source": [
    "# without a constant \n",
    "\n",
    "import statsmodels.api as sm\n",
    "\n",
    "x = df[\"AveBedrms\"]\n",
    "y = target[\"AveRooms\"]\n",
    "\n",
    "# Note the difference in argument order\n",
    "model = sm.OLS(x,y).fit()\n",
    "predictions = model.predict(x) # make the predictions by the model\n",
    "\n",
    "# print out the statistics\n",
    "model.summary()"
   ]
  },
  {
   "cell_type": "markdown",
   "id": "69849da4",
   "metadata": {},
   "source": [
    "### Another Output Interpretation after adding Beta 0 (recreating sld 8) "
   ]
  },
  {
   "cell_type": "code",
   "execution_count": 73,
   "id": "732c7fdf",
   "metadata": {},
   "outputs": [
    {
     "data": {
      "text/html": [
       "<table class=\"simpletable\">\n",
       "<caption>OLS Regression Results</caption>\n",
       "<tr>\n",
       "  <th>Dep. Variable:</th>        <td>AveRooms</td>     <th>  R-squared:         </th> <td>   0.002</td> \n",
       "</tr>\n",
       "<tr>\n",
       "  <th>Model:</th>                   <td>OLS</td>       <th>  Adj. R-squared:    </th> <td>   0.002</td> \n",
       "</tr>\n",
       "<tr>\n",
       "  <th>Method:</th>             <td>Least Squares</td>  <th>  F-statistic:       </th> <td>   45.11</td> \n",
       "</tr>\n",
       "<tr>\n",
       "  <th>Date:</th>             <td>Wed, 05 Jun 2024</td> <th>  Prob (F-statistic):</th> <td>1.91e-11</td> \n",
       "</tr>\n",
       "<tr>\n",
       "  <th>Time:</th>                 <td>23:00:39</td>     <th>  Log-Likelihood:    </th> <td> -32219.</td> \n",
       "</tr>\n",
       "<tr>\n",
       "  <th>No. Observations:</th>      <td> 20640</td>      <th>  AIC:               </th> <td>6.444e+04</td>\n",
       "</tr>\n",
       "<tr>\n",
       "  <th>Df Residuals:</th>          <td> 20638</td>      <th>  BIC:               </th> <td>6.446e+04</td>\n",
       "</tr>\n",
       "<tr>\n",
       "  <th>Df Model:</th>              <td>     1</td>      <th>                     </th>     <td> </td>    \n",
       "</tr>\n",
       "<tr>\n",
       "  <th>Covariance Type:</th>      <td>nonrobust</td>    <th>                     </th>     <td> </td>    \n",
       "</tr>\n",
       "</table>\n",
       "<table class=\"simpletable\">\n",
       "<tr>\n",
       "      <td></td>         <th>coef</th>     <th>std err</th>      <th>t</th>      <th>P>|t|</th>  <th>[0.025</th>    <th>0.975]</th>  \n",
       "</tr>\n",
       "<tr>\n",
       "  <th>const</th>     <td>    2.1933</td> <td>    0.020</td> <td>  108.431</td> <td> 0.000</td> <td>    2.154</td> <td>    2.233</td>\n",
       "</tr>\n",
       "<tr>\n",
       "  <th>AveBedrms</th> <td>   -0.1137</td> <td>    0.017</td> <td>   -6.716</td> <td> 0.000</td> <td>   -0.147</td> <td>   -0.081</td>\n",
       "</tr>\n",
       "</table>\n",
       "<table class=\"simpletable\">\n",
       "<tr>\n",
       "  <th>Omnibus:</th>       <td>2470.566</td> <th>  Durbin-Watson:     </th> <td>   0.313</td>\n",
       "</tr>\n",
       "<tr>\n",
       "  <th>Prob(Omnibus):</th>  <td> 0.000</td>  <th>  Jarque-Bera (JB):  </th> <td>3450.432</td>\n",
       "</tr>\n",
       "<tr>\n",
       "  <th>Skew:</th>           <td> 0.985</td>  <th>  Prob(JB):          </th> <td>    0.00</td>\n",
       "</tr>\n",
       "<tr>\n",
       "  <th>Kurtosis:</th>       <td> 3.359</td>  <th>  Cond. No.          </th> <td>    4.92</td>\n",
       "</tr>\n",
       "</table><br/><br/>Notes:<br/>[1] Standard Errors assume that the covariance matrix of the errors is correctly specified."
      ],
      "text/latex": [
       "\\begin{center}\n",
       "\\begin{tabular}{lclc}\n",
       "\\toprule\n",
       "\\textbf{Dep. Variable:}    &     AveRooms     & \\textbf{  R-squared:         } &     0.002   \\\\\n",
       "\\textbf{Model:}            &       OLS        & \\textbf{  Adj. R-squared:    } &     0.002   \\\\\n",
       "\\textbf{Method:}           &  Least Squares   & \\textbf{  F-statistic:       } &     45.11   \\\\\n",
       "\\textbf{Date:}             & Wed, 05 Jun 2024 & \\textbf{  Prob (F-statistic):} &  1.91e-11   \\\\\n",
       "\\textbf{Time:}             &     23:00:39     & \\textbf{  Log-Likelihood:    } &   -32219.   \\\\\n",
       "\\textbf{No. Observations:} &       20640      & \\textbf{  AIC:               } & 6.444e+04   \\\\\n",
       "\\textbf{Df Residuals:}     &       20638      & \\textbf{  BIC:               } & 6.446e+04   \\\\\n",
       "\\textbf{Df Model:}         &           1      & \\textbf{                     } &             \\\\\n",
       "\\textbf{Covariance Type:}  &    nonrobust     & \\textbf{                     } &             \\\\\n",
       "\\bottomrule\n",
       "\\end{tabular}\n",
       "\\begin{tabular}{lcccccc}\n",
       "                   & \\textbf{coef} & \\textbf{std err} & \\textbf{t} & \\textbf{P$> |$t$|$} & \\textbf{[0.025} & \\textbf{0.975]}  \\\\\n",
       "\\midrule\n",
       "\\textbf{const}     &       2.1933  &        0.020     &   108.431  &         0.000        &        2.154    &        2.233     \\\\\n",
       "\\textbf{AveBedrms} &      -0.1137  &        0.017     &    -6.716  &         0.000        &       -0.147    &       -0.081     \\\\\n",
       "\\bottomrule\n",
       "\\end{tabular}\n",
       "\\begin{tabular}{lclc}\n",
       "\\textbf{Omnibus:}       & 2470.566 & \\textbf{  Durbin-Watson:     } &    0.313  \\\\\n",
       "\\textbf{Prob(Omnibus):} &   0.000  & \\textbf{  Jarque-Bera (JB):  } & 3450.432  \\\\\n",
       "\\textbf{Skew:}          &   0.985  & \\textbf{  Prob(JB):          } &     0.00  \\\\\n",
       "\\textbf{Kurtosis:}      &   3.359  & \\textbf{  Cond. No.          } &     4.92  \\\\\n",
       "\\bottomrule\n",
       "\\end{tabular}\n",
       "%\\caption{OLS Regression Results}\n",
       "\\end{center}\n",
       "\n",
       "Notes: \\newline\n",
       " [1] Standard Errors assume that the covariance matrix of the errors is correctly specified."
      ],
      "text/plain": [
       "<class 'statsmodels.iolib.summary.Summary'>\n",
       "\"\"\"\n",
       "                            OLS Regression Results                            \n",
       "==============================================================================\n",
       "Dep. Variable:               AveRooms   R-squared:                       0.002\n",
       "Model:                            OLS   Adj. R-squared:                  0.002\n",
       "Method:                 Least Squares   F-statistic:                     45.11\n",
       "Date:                Wed, 05 Jun 2024   Prob (F-statistic):           1.91e-11\n",
       "Time:                        23:00:39   Log-Likelihood:                -32219.\n",
       "No. Observations:               20640   AIC:                         6.444e+04\n",
       "Df Residuals:                   20638   BIC:                         6.446e+04\n",
       "Df Model:                           1                                         \n",
       "Covariance Type:            nonrobust                                         \n",
       "==============================================================================\n",
       "                 coef    std err          t      P>|t|      [0.025      0.975]\n",
       "------------------------------------------------------------------------------\n",
       "const          2.1933      0.020    108.431      0.000       2.154       2.233\n",
       "AveBedrms     -0.1137      0.017     -6.716      0.000      -0.147      -0.081\n",
       "==============================================================================\n",
       "Omnibus:                     2470.566   Durbin-Watson:                   0.313\n",
       "Prob(Omnibus):                  0.000   Jarque-Bera (JB):             3450.432\n",
       "Skew:                           0.985   Prob(JB):                         0.00\n",
       "Kurtosis:                       3.359   Cond. No.                         4.92\n",
       "==============================================================================\n",
       "\n",
       "Notes:\n",
       "[1] Standard Errors assume that the covariance matrix of the errors is correctly specified.\n",
       "\"\"\""
      ]
     },
     "execution_count": 73,
     "metadata": {},
     "output_type": "execute_result"
    }
   ],
   "source": [
    "import statsmodels.api as sm # import statsmodels\n",
    "\n",
    "X = df[\"AveBedrms\"] ## X usually means our input variables (or independent variables)\n",
    "y = target[\"AveRooms\"] ## Y usually means our output/dependent variable\n",
    "X = sm.add_constant(X)  ## let's add an intercept (beta_0) to the label\n",
    "\n",
    "# note the difference in argument order\n",
    "model = sm.OLS(y, X).fit() ## sm.OLS(output, input)\n",
    "predictions = model.predict(X)\n",
    "\n",
    "model.summary()"
   ]
  },
  {
   "cell_type": "markdown",
   "id": "764311d6",
   "metadata": {},
   "source": [
    "### Another Interpretations after adding a variable (sld 10)"
   ]
  },
  {
   "cell_type": "code",
   "execution_count": 74,
   "id": "187712b8",
   "metadata": {},
   "outputs": [
    {
     "data": {
      "text/html": [
       "<table class=\"simpletable\">\n",
       "<caption>OLS Regression Results</caption>\n",
       "<tr>\n",
       "  <th>Dep. Variable:</th>        <td>AveRooms</td>     <th>  R-squared (uncentered):</th>      <td>   0.656</td> \n",
       "</tr>\n",
       "<tr>\n",
       "  <th>Model:</th>                   <td>OLS</td>       <th>  Adj. R-squared (uncentered):</th> <td>   0.656</td> \n",
       "</tr>\n",
       "<tr>\n",
       "  <th>Method:</th>             <td>Least Squares</td>  <th>  F-statistic:       </th>          <td>1.972e+04</td>\n",
       "</tr>\n",
       "<tr>\n",
       "  <th>Date:</th>             <td>Wed, 05 Jun 2024</td> <th>  Prob (F-statistic):</th>           <td>  0.00</td>  \n",
       "</tr>\n",
       "<tr>\n",
       "  <th>Time:</th>                 <td>23:06:21</td>     <th>  Log-Likelihood:    </th>          <td> -36058.</td> \n",
       "</tr>\n",
       "<tr>\n",
       "  <th>No. Observations:</th>      <td> 20640</td>      <th>  AIC:               </th>          <td>7.212e+04</td>\n",
       "</tr>\n",
       "<tr>\n",
       "  <th>Df Residuals:</th>          <td> 20638</td>      <th>  BIC:               </th>          <td>7.214e+04</td>\n",
       "</tr>\n",
       "<tr>\n",
       "  <th>Df Model:</th>              <td>     2</td>      <th>                     </th>              <td> </td>    \n",
       "</tr>\n",
       "<tr>\n",
       "  <th>Covariance Type:</th>      <td>nonrobust</td>    <th>                     </th>              <td> </td>    \n",
       "</tr>\n",
       "</table>\n",
       "<table class=\"simpletable\">\n",
       "<tr>\n",
       "       <td></td>         <th>coef</th>     <th>std err</th>      <th>t</th>      <th>P>|t|</th>  <th>[0.025</th>    <th>0.975]</th>  \n",
       "</tr>\n",
       "<tr>\n",
       "  <th>AveBedrms</th>  <td>    1.2429</td> <td>    0.011</td> <td>  109.363</td> <td> 0.000</td> <td>    1.221</td> <td>    1.265</td>\n",
       "</tr>\n",
       "<tr>\n",
       "  <th>Population</th> <td>    0.0003</td> <td> 7.46e-06</td> <td>   41.173</td> <td> 0.000</td> <td>    0.000</td> <td>    0.000</td>\n",
       "</tr>\n",
       "</table>\n",
       "<table class=\"simpletable\">\n",
       "<tr>\n",
       "  <th>Omnibus:</th>       <td>12396.355</td> <th>  Durbin-Watson:     </th>  <td>   0.533</td>  \n",
       "</tr>\n",
       "<tr>\n",
       "  <th>Prob(Omnibus):</th>  <td> 0.000</td>   <th>  Jarque-Bera (JB):  </th> <td>2446030.069</td>\n",
       "</tr>\n",
       "<tr>\n",
       "  <th>Skew:</th>           <td>-1.815</td>   <th>  Prob(JB):          </th>  <td>    0.00</td>  \n",
       "</tr>\n",
       "<tr>\n",
       "  <th>Kurtosis:</th>       <td>56.208</td>   <th>  Cond. No.          </th>  <td>2.14e+03</td>  \n",
       "</tr>\n",
       "</table><br/><br/>Notes:<br/>[1] R² is computed without centering (uncentered) since the model does not contain a constant.<br/>[2] Standard Errors assume that the covariance matrix of the errors is correctly specified.<br/>[3] The condition number is large, 2.14e+03. This might indicate that there are<br/>strong multicollinearity or other numerical problems."
      ],
      "text/latex": [
       "\\begin{center}\n",
       "\\begin{tabular}{lclc}\n",
       "\\toprule\n",
       "\\textbf{Dep. Variable:}    &     AveRooms     & \\textbf{  R-squared (uncentered):}      &      0.656   \\\\\n",
       "\\textbf{Model:}            &       OLS        & \\textbf{  Adj. R-squared (uncentered):} &      0.656   \\\\\n",
       "\\textbf{Method:}           &  Least Squares   & \\textbf{  F-statistic:       }          &  1.972e+04   \\\\\n",
       "\\textbf{Date:}             & Wed, 05 Jun 2024 & \\textbf{  Prob (F-statistic):}          &      0.00    \\\\\n",
       "\\textbf{Time:}             &     23:06:21     & \\textbf{  Log-Likelihood:    }          &    -36058.   \\\\\n",
       "\\textbf{No. Observations:} &       20640      & \\textbf{  AIC:               }          &  7.212e+04   \\\\\n",
       "\\textbf{Df Residuals:}     &       20638      & \\textbf{  BIC:               }          &  7.214e+04   \\\\\n",
       "\\textbf{Df Model:}         &           2      & \\textbf{                     }          &              \\\\\n",
       "\\textbf{Covariance Type:}  &    nonrobust     & \\textbf{                     }          &              \\\\\n",
       "\\bottomrule\n",
       "\\end{tabular}\n",
       "\\begin{tabular}{lcccccc}\n",
       "                    & \\textbf{coef} & \\textbf{std err} & \\textbf{t} & \\textbf{P$> |$t$|$} & \\textbf{[0.025} & \\textbf{0.975]}  \\\\\n",
       "\\midrule\n",
       "\\textbf{AveBedrms}  &       1.2429  &        0.011     &   109.363  &         0.000        &        1.221    &        1.265     \\\\\n",
       "\\textbf{Population} &       0.0003  &     7.46e-06     &    41.173  &         0.000        &        0.000    &        0.000     \\\\\n",
       "\\bottomrule\n",
       "\\end{tabular}\n",
       "\\begin{tabular}{lclc}\n",
       "\\textbf{Omnibus:}       & 12396.355 & \\textbf{  Durbin-Watson:     } &      0.533   \\\\\n",
       "\\textbf{Prob(Omnibus):} &    0.000  & \\textbf{  Jarque-Bera (JB):  } & 2446030.069  \\\\\n",
       "\\textbf{Skew:}          &   -1.815  & \\textbf{  Prob(JB):          } &       0.00   \\\\\n",
       "\\textbf{Kurtosis:}      &   56.208  & \\textbf{  Cond. No.          } &   2.14e+03   \\\\\n",
       "\\bottomrule\n",
       "\\end{tabular}\n",
       "%\\caption{OLS Regression Results}\n",
       "\\end{center}\n",
       "\n",
       "Notes: \\newline\n",
       " [1] R² is computed without centering (uncentered) since the model does not contain a constant. \\newline\n",
       " [2] Standard Errors assume that the covariance matrix of the errors is correctly specified. \\newline\n",
       " [3] The condition number is large, 2.14e+03. This might indicate that there are \\newline\n",
       " strong multicollinearity or other numerical problems."
      ],
      "text/plain": [
       "<class 'statsmodels.iolib.summary.Summary'>\n",
       "\"\"\"\n",
       "                                 OLS Regression Results                                \n",
       "=======================================================================================\n",
       "Dep. Variable:               AveRooms   R-squared (uncentered):                   0.656\n",
       "Model:                            OLS   Adj. R-squared (uncentered):              0.656\n",
       "Method:                 Least Squares   F-statistic:                          1.972e+04\n",
       "Date:                Wed, 05 Jun 2024   Prob (F-statistic):                        0.00\n",
       "Time:                        23:06:21   Log-Likelihood:                         -36058.\n",
       "No. Observations:               20640   AIC:                                  7.212e+04\n",
       "Df Residuals:                   20638   BIC:                                  7.214e+04\n",
       "Df Model:                           2                                                  \n",
       "Covariance Type:            nonrobust                                                  \n",
       "==============================================================================\n",
       "                 coef    std err          t      P>|t|      [0.025      0.975]\n",
       "------------------------------------------------------------------------------\n",
       "AveBedrms      1.2429      0.011    109.363      0.000       1.221       1.265\n",
       "Population     0.0003   7.46e-06     41.173      0.000       0.000       0.000\n",
       "==============================================================================\n",
       "Omnibus:                    12396.355   Durbin-Watson:                   0.533\n",
       "Prob(Omnibus):                  0.000   Jarque-Bera (JB):          2446030.069\n",
       "Skew:                          -1.815   Prob(JB):                         0.00\n",
       "Kurtosis:                      56.208   Cond. No.                     2.14e+03\n",
       "==============================================================================\n",
       "\n",
       "Notes:\n",
       "[1] R² is computed without centering (uncentered) since the model does not contain a constant.\n",
       "[2] Standard Errors assume that the covariance matrix of the errors is correctly specified.\n",
       "[3] The condition number is large, 2.14e+03. This might indicate that there are\n",
       "strong multicollinearity or other numerical problems.\n",
       "\"\"\""
      ]
     },
     "execution_count": 74,
     "metadata": {},
     "output_type": "execute_result"
    }
   ],
   "source": [
    "X = df[[\"AveBedrms\", \"Population\"]] # notice that there are more independent variables\n",
    "y = target[\"AveRooms\"]\n",
    "model = sm.OLS(y,X).fit()\n",
    "predictions = model.predict(X)\n",
    "model.summary()"
   ]
  },
  {
   "cell_type": "markdown",
   "id": "59a30f11",
   "metadata": {},
   "source": [
    "### Linear Regression in SKLearn (recreating sld 11)"
   ]
  },
  {
   "cell_type": "code",
   "execution_count": 56,
   "id": "92b2ab5b",
   "metadata": {},
   "outputs": [],
   "source": [
    "from sklearn import linear_model"
   ]
  },
  {
   "cell_type": "code",
   "execution_count": 57,
   "id": "baa7bdf1",
   "metadata": {},
   "outputs": [],
   "source": [
    "from sklearn.datasets import fetch_california_housing\n",
    "data = fetch_california_housing()"
   ]
  },
  {
   "cell_type": "code",
   "execution_count": 58,
   "id": "cfc5f337",
   "metadata": {},
   "outputs": [],
   "source": [
    "# define the data/predictors as the pre-set feature names\n",
    "df = pd.DataFrame(data.data, columns = data.feature_names)\n",
    "\n",
    "# put the target(housing value )\n",
    "target = pd.DataFrame(data.target, columns = [\"AveRooms\"])"
   ]
  },
  {
   "cell_type": "code",
   "execution_count": 60,
   "id": "c5b2f8ea",
   "metadata": {},
   "outputs": [],
   "source": [
    "X = df\n",
    "y = target[\"AveRooms\"]"
   ]
  },
  {
   "cell_type": "code",
   "execution_count": 61,
   "id": "ecd0328c",
   "metadata": {},
   "outputs": [],
   "source": [
    "lm = linear_model.LinearRegression()\n",
    "model = lm.fit(X,y)"
   ]
  },
  {
   "cell_type": "code",
   "execution_count": 62,
   "id": "0197e556",
   "metadata": {},
   "outputs": [
    {
     "name": "stdout",
     "output_type": "stream",
     "text": [
      "[4.13164983 3.97660644 3.67657094 3.2415985  2.41358744]\n"
     ]
    }
   ],
   "source": [
    "predictions = lm.predict(X)\n",
    "print(predictions[0:5])"
   ]
  },
  {
   "cell_type": "code",
   "execution_count": 63,
   "id": "2aa04b52",
   "metadata": {},
   "outputs": [
    {
     "data": {
      "text/plain": [
       "0.606232685199805"
      ]
     },
     "execution_count": 63,
     "metadata": {},
     "output_type": "execute_result"
    }
   ],
   "source": [
    "# The R squares score of the model is 0.606\n",
    "lm.score(X,y)"
   ]
  },
  {
   "cell_type": "code",
   "execution_count": 64,
   "id": "91b4d120",
   "metadata": {},
   "outputs": [
    {
     "data": {
      "text/plain": [
       "array([ 4.36693293e-01,  9.43577803e-03, -1.07322041e-01,  6.45065694e-01,\n",
       "       -3.97638942e-06, -3.78654265e-03, -4.21314378e-01, -4.34513755e-01])"
      ]
     },
     "execution_count": 64,
     "metadata": {},
     "output_type": "execute_result"
    }
   ],
   "source": [
    "lm.coef_"
   ]
  },
  {
   "cell_type": "code",
   "execution_count": 65,
   "id": "e7995f7e",
   "metadata": {},
   "outputs": [
    {
     "data": {
      "text/plain": [
       "-36.94192020718431"
      ]
     },
     "execution_count": 65,
     "metadata": {},
     "output_type": "execute_result"
    }
   ],
   "source": [
    "lm.intercept_"
   ]
  },
  {
   "cell_type": "code",
   "execution_count": null,
   "id": "d3fea2c6",
   "metadata": {},
   "outputs": [],
   "source": []
  },
  {
   "cell_type": "code",
   "execution_count": null,
   "id": "a8430d30",
   "metadata": {},
   "outputs": [],
   "source": []
  }
 ],
 "metadata": {
  "kernelspec": {
   "display_name": "Python 3 (ipykernel)",
   "language": "python",
   "name": "python3"
  },
  "language_info": {
   "codemirror_mode": {
    "name": "ipython",
    "version": 3
   },
   "file_extension": ".py",
   "mimetype": "text/x-python",
   "name": "python",
   "nbconvert_exporter": "python",
   "pygments_lexer": "ipython3",
   "version": "3.11.0"
  }
 },
 "nbformat": 4,
 "nbformat_minor": 5
}
