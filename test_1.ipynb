{
 "cells": [
  {
   "cell_type": "code",
   "execution_count": 1,
   "id": "113f1613",
   "metadata": {},
   "outputs": [
    {
     "name": "stdout",
     "output_type": "stream",
     "text": [
      "This is a sample, creating and writing on output\n"
     ]
    }
   ],
   "source": [
    "# Objective: Illustrate how to write a string to a file\n",
    "with open(\"output.txt\", \"w\") as file:\n",
    "    file.write(\"This is a sample, creating and writing on output\")\n",
    "\n",
    "# Objective: Show how to read the content from a file and print it\n",
    "with open(\"output.txt\", \"r\") as file:\n",
    "    content = file.read()\n",
    "    print(content)"
   ]
  }
 ],
 "metadata": {
  "kernelspec": {
   "display_name": "Python 3 (ipykernel)",
   "language": "python",
   "name": "python3"
  },
  "language_info": {
   "codemirror_mode": {
    "name": "ipython",
    "version": 3
   },
   "file_extension": ".py",
   "mimetype": "text/x-python",
   "name": "python",
   "nbconvert_exporter": "python",
   "pygments_lexer": "ipython3",
   "version": "3.11.0"
  }
 },
 "nbformat": 4,
 "nbformat_minor": 5
}
